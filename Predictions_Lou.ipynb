{
 "cells": [
  {
   "cell_type": "markdown",
   "metadata": {},
   "source": [
    "## Loading Data"
   ]
  },
  {
   "cell_type": "code",
   "execution_count": 41,
   "metadata": {},
   "outputs": [],
   "source": [
    "import pandas as pd\n",
    "import datetime\n",
    "import seaborn as sns\n",
    "from scipy import stats\n",
    "import numpy as np"
   ]
  },
  {
   "cell_type": "code",
   "execution_count": 2,
   "metadata": {},
   "outputs": [],
   "source": [
    "filename = \"./../data/311_Cases.csv\""
   ]
  },
  {
   "cell_type": "code",
   "execution_count": 3,
   "metadata": {},
   "outputs": [],
   "source": [
    "data = pd.read_csv(filename, encoding='utf8',engine='python').dropna()"
   ]
  },
  {
   "cell_type": "code",
   "execution_count": 6,
   "metadata": {},
   "outputs": [
    {
     "data": {
      "text/html": [
       "<div>\n",
       "<style scoped>\n",
       "    .dataframe tbody tr th:only-of-type {\n",
       "        vertical-align: middle;\n",
       "    }\n",
       "\n",
       "    .dataframe tbody tr th {\n",
       "        vertical-align: top;\n",
       "    }\n",
       "\n",
       "    .dataframe thead th {\n",
       "        text-align: right;\n",
       "    }\n",
       "</style>\n",
       "<table border=\"1\" class=\"dataframe\">\n",
       "  <thead>\n",
       "    <tr style=\"text-align: right;\">\n",
       "      <th></th>\n",
       "      <th>CaseID</th>\n",
       "      <th>Opened</th>\n",
       "      <th>Closed</th>\n",
       "      <th>Updated</th>\n",
       "      <th>Status</th>\n",
       "      <th>Status Notes</th>\n",
       "      <th>Responsible Agency</th>\n",
       "      <th>Category</th>\n",
       "      <th>Request Type</th>\n",
       "      <th>Request Details</th>\n",
       "      <th>Address</th>\n",
       "      <th>Supervisor District</th>\n",
       "      <th>Neighborhood</th>\n",
       "      <th>Police District</th>\n",
       "      <th>Latitude</th>\n",
       "      <th>Longitude</th>\n",
       "      <th>Point</th>\n",
       "      <th>Source</th>\n",
       "      <th>Media URL</th>\n",
       "    </tr>\n",
       "  </thead>\n",
       "  <tbody>\n",
       "    <tr>\n",
       "      <th>24810</th>\n",
       "      <td>3135216</td>\n",
       "      <td>12/05/2013 02:50:24 PM</td>\n",
       "      <td>06/25/2018 09:50:55 AM</td>\n",
       "      <td>06/25/2018 09:50:55 AM</td>\n",
       "      <td>Closed</td>\n",
       "      <td>Found 40 square feet of damaged/uneven sidewal...</td>\n",
       "      <td>DPW BSM Queue</td>\n",
       "      <td>Sidewalk or Curb</td>\n",
       "      <td>Sidewalk_Defect</td>\n",
       "      <td>Collapsed_sidewalk</td>\n",
       "      <td>920 VAN NESS AVE, SAN FRANCISCO, CA, 94109</td>\n",
       "      <td>6.0</td>\n",
       "      <td>Tenderloin</td>\n",
       "      <td>NORTHERN</td>\n",
       "      <td>37.78418</td>\n",
       "      <td>-122.4208</td>\n",
       "      <td>(37.78416124, -122.42081673)</td>\n",
       "      <td>Mobile/Open311</td>\n",
       "      <td>http://mobile311.sfgov.org/media/san_francisco...</td>\n",
       "    </tr>\n",
       "    <tr>\n",
       "      <th>86201</th>\n",
       "      <td>4203877</td>\n",
       "      <td>11/12/2014 08:46:11 PM</td>\n",
       "      <td>06/25/2018 10:38:19 AM</td>\n",
       "      <td>06/25/2018 10:38:19 AM</td>\n",
       "      <td>Closed</td>\n",
       "      <td>9 Sumner St: damaged sidewalk around utility v...</td>\n",
       "      <td>DPW BSM Queue</td>\n",
       "      <td>Sidewalk or Curb</td>\n",
       "      <td>Sidewalk_Defect</td>\n",
       "      <td>Collapsed_sidewalk</td>\n",
       "      <td>10 SUMNER ST, SAN FRANCISCO, CA, 94103</td>\n",
       "      <td>6.0</td>\n",
       "      <td>South of Market</td>\n",
       "      <td>SOUTHERN</td>\n",
       "      <td>37.77632</td>\n",
       "      <td>-122.4106</td>\n",
       "      <td>(37.77629119, -122.41061191)</td>\n",
       "      <td>Mobile/Open311</td>\n",
       "      <td>http://mobile311.sfgov.org/media/san_francisco...</td>\n",
       "    </tr>\n",
       "    <tr>\n",
       "      <th>86582</th>\n",
       "      <td>4223752</td>\n",
       "      <td>11/19/2014 10:48:56 AM</td>\n",
       "      <td>06/25/2018 10:22:00 AM</td>\n",
       "      <td>06/25/2018 10:22:00 AM</td>\n",
       "      <td>Closed</td>\n",
       "      <td>2515-2565 Bay Shore Blvd: damaged sidewalk nex...</td>\n",
       "      <td>DPW BSM Queue</td>\n",
       "      <td>Sidewalk or Curb</td>\n",
       "      <td>Sidewalk_Defect</td>\n",
       "      <td>Collapsed_sidewalk</td>\n",
       "      <td>Intersection of BAY SHORE BLVD and SUNNYDALE AVE</td>\n",
       "      <td>10.0</td>\n",
       "      <td>Little Hollywood</td>\n",
       "      <td>INGLESIDE</td>\n",
       "      <td>37.70903</td>\n",
       "      <td>-122.4048</td>\n",
       "      <td>(37.70885355, -122.4051094)</td>\n",
       "      <td>Mobile/Open311</td>\n",
       "      <td>http://mobile311.sfgov.org/media/san_francisco...</td>\n",
       "    </tr>\n",
       "    <tr>\n",
       "      <th>100891</th>\n",
       "      <td>10303151</td>\n",
       "      <td>01/01/2019 10:10:00 PM</td>\n",
       "      <td>01/08/2019 05:46:00 AM</td>\n",
       "      <td>01/08/2019 05:46:00 AM</td>\n",
       "      <td>Closed</td>\n",
       "      <td>01/07/2019 VEH GOA @1033 HOURS #338</td>\n",
       "      <td>DPT Abandoned Vehicles Work Queue</td>\n",
       "      <td>Abandoned Vehicle</td>\n",
       "      <td>Abandoned Vehicles</td>\n",
       "      <td>DPT Abandoned Vehicles Low</td>\n",
       "      <td>1097 OAKDALE AVE, SAN FRANCISCO, CA, 94124</td>\n",
       "      <td>10.0</td>\n",
       "      <td>Hunters Point</td>\n",
       "      <td>BAYVIEW</td>\n",
       "      <td>37.72940</td>\n",
       "      <td>-122.3813</td>\n",
       "      <td>(37.72939344, -122.38131978)</td>\n",
       "      <td>Web</td>\n",
       "      <td>http://mobile311.sfgov.org/media/san_francisco...</td>\n",
       "    </tr>\n",
       "    <tr>\n",
       "      <th>140933</th>\n",
       "      <td>10303744</td>\n",
       "      <td>01/02/2019 08:20:00 AM</td>\n",
       "      <td>01/08/2019 07:39:00 AM</td>\n",
       "      <td>01/08/2019 07:39:00 AM</td>\n",
       "      <td>Closed</td>\n",
       "      <td>01/07/2019  @1349 HRS #168</td>\n",
       "      <td>DPT Abandoned Vehicles Work Queue</td>\n",
       "      <td>Abandoned Vehicle</td>\n",
       "      <td>Abandoned Vehicles</td>\n",
       "      <td>DPT Abandoned Vehicles Low</td>\n",
       "      <td>Intersection of MALTA DR and VALLETTA CT</td>\n",
       "      <td>7.0</td>\n",
       "      <td>Miraloma Park</td>\n",
       "      <td>INGLESIDE</td>\n",
       "      <td>37.73619</td>\n",
       "      <td>-122.4444</td>\n",
       "      <td>(37.7362185, -122.4444058)</td>\n",
       "      <td>Mobile/Open311</td>\n",
       "      <td>http://mobile311.sfgov.org/media/san_francisco...</td>\n",
       "    </tr>\n",
       "  </tbody>\n",
       "</table>\n",
       "</div>"
      ],
      "text/plain": [
       "          CaseID                  Opened                  Closed  \\\n",
       "24810    3135216  12/05/2013 02:50:24 PM  06/25/2018 09:50:55 AM   \n",
       "86201    4203877  11/12/2014 08:46:11 PM  06/25/2018 10:38:19 AM   \n",
       "86582    4223752  11/19/2014 10:48:56 AM  06/25/2018 10:22:00 AM   \n",
       "100891  10303151  01/01/2019 10:10:00 PM  01/08/2019 05:46:00 AM   \n",
       "140933  10303744  01/02/2019 08:20:00 AM  01/08/2019 07:39:00 AM   \n",
       "\n",
       "                       Updated  Status  \\\n",
       "24810   06/25/2018 09:50:55 AM  Closed   \n",
       "86201   06/25/2018 10:38:19 AM  Closed   \n",
       "86582   06/25/2018 10:22:00 AM  Closed   \n",
       "100891  01/08/2019 05:46:00 AM  Closed   \n",
       "140933  01/08/2019 07:39:00 AM  Closed   \n",
       "\n",
       "                                             Status Notes  \\\n",
       "24810   Found 40 square feet of damaged/uneven sidewal...   \n",
       "86201   9 Sumner St: damaged sidewalk around utility v...   \n",
       "86582   2515-2565 Bay Shore Blvd: damaged sidewalk nex...   \n",
       "100891                01/07/2019 VEH GOA @1033 HOURS #338   \n",
       "140933                         01/07/2019  @1349 HRS #168   \n",
       "\n",
       "                       Responsible Agency           Category  \\\n",
       "24810                       DPW BSM Queue   Sidewalk or Curb   \n",
       "86201                       DPW BSM Queue   Sidewalk or Curb   \n",
       "86582                       DPW BSM Queue   Sidewalk or Curb   \n",
       "100891  DPT Abandoned Vehicles Work Queue  Abandoned Vehicle   \n",
       "140933  DPT Abandoned Vehicles Work Queue  Abandoned Vehicle   \n",
       "\n",
       "              Request Type             Request Details  \\\n",
       "24810      Sidewalk_Defect          Collapsed_sidewalk   \n",
       "86201      Sidewalk_Defect          Collapsed_sidewalk   \n",
       "86582      Sidewalk_Defect          Collapsed_sidewalk   \n",
       "100891  Abandoned Vehicles  DPT Abandoned Vehicles Low   \n",
       "140933  Abandoned Vehicles  DPT Abandoned Vehicles Low   \n",
       "\n",
       "                                                 Address  Supervisor District  \\\n",
       "24810         920 VAN NESS AVE, SAN FRANCISCO, CA, 94109                  6.0   \n",
       "86201             10 SUMNER ST, SAN FRANCISCO, CA, 94103                  6.0   \n",
       "86582   Intersection of BAY SHORE BLVD and SUNNYDALE AVE                 10.0   \n",
       "100891        1097 OAKDALE AVE, SAN FRANCISCO, CA, 94124                 10.0   \n",
       "140933          Intersection of MALTA DR and VALLETTA CT                  7.0   \n",
       "\n",
       "            Neighborhood Police District  Latitude  Longitude  \\\n",
       "24810         Tenderloin        NORTHERN  37.78418  -122.4208   \n",
       "86201    South of Market        SOUTHERN  37.77632  -122.4106   \n",
       "86582   Little Hollywood       INGLESIDE  37.70903  -122.4048   \n",
       "100891     Hunters Point         BAYVIEW  37.72940  -122.3813   \n",
       "140933     Miraloma Park       INGLESIDE  37.73619  -122.4444   \n",
       "\n",
       "                               Point          Source  \\\n",
       "24810   (37.78416124, -122.42081673)  Mobile/Open311   \n",
       "86201   (37.77629119, -122.41061191)  Mobile/Open311   \n",
       "86582    (37.70885355, -122.4051094)  Mobile/Open311   \n",
       "100891  (37.72939344, -122.38131978)             Web   \n",
       "140933    (37.7362185, -122.4444058)  Mobile/Open311   \n",
       "\n",
       "                                                Media URL  \n",
       "24810   http://mobile311.sfgov.org/media/san_francisco...  \n",
       "86201   http://mobile311.sfgov.org/media/san_francisco...  \n",
       "86582   http://mobile311.sfgov.org/media/san_francisco...  \n",
       "100891  http://mobile311.sfgov.org/media/san_francisco...  \n",
       "140933  http://mobile311.sfgov.org/media/san_francisco...  "
      ]
     },
     "execution_count": 6,
     "metadata": {},
     "output_type": "execute_result"
    }
   ],
   "source": [
    "# quick inspection\n",
    "len(data) # 3,362,678\n",
    "data.head()"
   ]
  },
  {
   "cell_type": "markdown",
   "metadata": {},
   "source": [
    "## Downsize data"
   ]
  },
  {
   "cell_type": "code",
   "execution_count": 7,
   "metadata": {},
   "outputs": [
    {
     "data": {
      "text/plain": [
       "53957"
      ]
     },
     "execution_count": 7,
     "metadata": {},
     "output_type": "execute_result"
    }
   ],
   "source": [
    "small_data = data.sample(n = int(len(data) * 0.1)) # keep 10%\n",
    "len(small_data) # 336,267"
   ]
  },
  {
   "cell_type": "markdown",
   "metadata": {},
   "source": [
    "## Select relevant variables\n",
    "Remember, the goal is to predict how long it takes to close a case, given neighborhood and category of complaint"
   ]
  },
  {
   "cell_type": "code",
   "execution_count": 83,
   "metadata": {},
   "outputs": [],
   "source": [
    "# note: might want to move Category to Request Type?\n",
    "X = small_data[[\"Latitude\", \"Longitude\" ]] #, \"Category\"]] # explanatory variables\n",
    "#X[\"Category\"]\n",
    "#pd.get_dummies(columns = \"Category\", data = X)"
   ]
  },
  {
   "cell_type": "code",
   "execution_count": 74,
   "metadata": {},
   "outputs": [],
   "source": [
    "timedelta = pd.to_datetime(small_data[\"Closed\"]) - pd.to_datetime(small_data[\"Opened\"])\n",
    "small_data[\"ClosingTime\"] = timedelta.dt.days\n",
    "Y = small_data[\"ClosingTime\"] # target variable"
   ]
  },
  {
   "cell_type": "code",
   "execution_count": 10,
   "metadata": {},
   "outputs": [
    {
     "data": {
      "text/html": [
       "<div>\n",
       "<style scoped>\n",
       "    .dataframe tbody tr th:only-of-type {\n",
       "        vertical-align: middle;\n",
       "    }\n",
       "\n",
       "    .dataframe tbody tr th {\n",
       "        vertical-align: top;\n",
       "    }\n",
       "\n",
       "    .dataframe thead th {\n",
       "        text-align: right;\n",
       "    }\n",
       "</style>\n",
       "<table border=\"1\" class=\"dataframe\">\n",
       "  <thead>\n",
       "    <tr style=\"text-align: right;\">\n",
       "      <th></th>\n",
       "      <th>CaseID</th>\n",
       "      <th>Opened</th>\n",
       "      <th>Closed</th>\n",
       "      <th>Updated</th>\n",
       "      <th>Status</th>\n",
       "      <th>Status Notes</th>\n",
       "      <th>Responsible Agency</th>\n",
       "      <th>Category</th>\n",
       "      <th>Request Type</th>\n",
       "      <th>Request Details</th>\n",
       "      <th>Address</th>\n",
       "      <th>Supervisor District</th>\n",
       "      <th>Neighborhood</th>\n",
       "      <th>Police District</th>\n",
       "      <th>Latitude</th>\n",
       "      <th>Longitude</th>\n",
       "      <th>Point</th>\n",
       "      <th>Source</th>\n",
       "      <th>Media URL</th>\n",
       "      <th>ClosingTime</th>\n",
       "    </tr>\n",
       "  </thead>\n",
       "  <tbody>\n",
       "    <tr>\n",
       "      <th>1731947</th>\n",
       "      <td>5363889</td>\n",
       "      <td>12/10/2015 05:05:30 PM</td>\n",
       "      <td>12/23/2015 09:56:00 AM</td>\n",
       "      <td>12/23/2015 09:56:00 AM</td>\n",
       "      <td>Closed</td>\n",
       "      <td>resolved:  - NRV # 1053844,NRV # 1053845,</td>\n",
       "      <td>DPW BSM Queue</td>\n",
       "      <td>Graffiti</td>\n",
       "      <td>Graffiti on News_rack</td>\n",
       "      <td>News_rack - Offensive</td>\n",
       "      <td>Intersection of FILLMORE ST and HAYES ST</td>\n",
       "      <td>5.0</td>\n",
       "      <td>Hayes Valley</td>\n",
       "      <td>NORTHERN</td>\n",
       "      <td>37.77594</td>\n",
       "      <td>-122.4311</td>\n",
       "      <td>(37.7758344070154, -122.431198557278)</td>\n",
       "      <td>Mobile/Open311</td>\n",
       "      <td>http://mobile311.sfgov.org/media/san_francisco...</td>\n",
       "      <td>12</td>\n",
       "    </tr>\n",
       "    <tr>\n",
       "      <th>2539513</th>\n",
       "      <td>6749694</td>\n",
       "      <td>01/19/2017 07:22:29 PM</td>\n",
       "      <td>01/20/2017 09:59:11 AM</td>\n",
       "      <td>01/20/2017 09:59:11 AM</td>\n",
       "      <td>Closed</td>\n",
       "      <td>Pickup completed.</td>\n",
       "      <td>Recology_Abandoned</td>\n",
       "      <td>Street and Sidewalk Cleaning</td>\n",
       "      <td>Bulky Items</td>\n",
       "      <td>Boxed or Bagged Items</td>\n",
       "      <td>1350 VERMONT ST, SAN FRANCISCO, CA, 94110</td>\n",
       "      <td>10.0</td>\n",
       "      <td>Potrero Hill</td>\n",
       "      <td>MISSION</td>\n",
       "      <td>37.75260</td>\n",
       "      <td>-122.4035</td>\n",
       "      <td>(37.75251984, -122.4034833)</td>\n",
       "      <td>Mobile/Open311</td>\n",
       "      <td>http://mobile311.sfgov.org/media/san_francisco...</td>\n",
       "      <td>0</td>\n",
       "    </tr>\n",
       "    <tr>\n",
       "      <th>2013678</th>\n",
       "      <td>6116335</td>\n",
       "      <td>07/24/2016 08:53:13 PM</td>\n",
       "      <td>07/26/2016 03:11:42 PM</td>\n",
       "      <td>07/26/2016 03:11:42 PM</td>\n",
       "      <td>Closed</td>\n",
       "      <td>done</td>\n",
       "      <td>DPW Ops Queue</td>\n",
       "      <td>Illegal Postings</td>\n",
       "      <td>Illegal Postings - Posted_on_Traffic_Light</td>\n",
       "      <td>Posted on Traffic Light</td>\n",
       "      <td>Intersection of FULTON ST and MASONIC AVE</td>\n",
       "      <td>5.0</td>\n",
       "      <td>Lone Mountain</td>\n",
       "      <td>PARK</td>\n",
       "      <td>37.77575</td>\n",
       "      <td>-122.4465</td>\n",
       "      <td>(37.7758016091424, -122.446470949368)</td>\n",
       "      <td>Mobile/Open311</td>\n",
       "      <td>http://mobile311.sfgov.org/media/san_francisco...</td>\n",
       "      <td>1</td>\n",
       "    </tr>\n",
       "    <tr>\n",
       "      <th>2483932</th>\n",
       "      <td>9490569</td>\n",
       "      <td>09/03/2018 07:07:20 PM</td>\n",
       "      <td>09/04/2018 06:23:00 AM</td>\n",
       "      <td>09/04/2018 06:23:00 AM</td>\n",
       "      <td>Closed</td>\n",
       "      <td>These cans are the responsibility of the build...</td>\n",
       "      <td>Recology_Overflowing</td>\n",
       "      <td>Street and Sidewalk Cleaning</td>\n",
       "      <td>City_garbage_can_overflowing</td>\n",
       "      <td>City_garbage_can_overflowing</td>\n",
       "      <td>1001 16TH ST, SAN FRANCISCO, CA, 94107</td>\n",
       "      <td>10.0</td>\n",
       "      <td>Potrero Hill</td>\n",
       "      <td>SOUTHERN</td>\n",
       "      <td>37.76630</td>\n",
       "      <td>-122.3970</td>\n",
       "      <td>(37.7662661, -122.39718442)</td>\n",
       "      <td>Mobile/Open311</td>\n",
       "      <td>http://mobile311.sfgov.org/media/san_francisco...</td>\n",
       "      <td>0</td>\n",
       "    </tr>\n",
       "    <tr>\n",
       "      <th>2582471</th>\n",
       "      <td>8224146</td>\n",
       "      <td>11/03/2017 03:07:34 PM</td>\n",
       "      <td>08/23/2018 11:00:25 AM</td>\n",
       "      <td>08/23/2018 11:00:25 AM</td>\n",
       "      <td>Closed</td>\n",
       "      <td>Sign repaired or replaced.</td>\n",
       "      <td>DPT SignShop 07 Queue</td>\n",
       "      <td>Sign Repair</td>\n",
       "      <td>Sign - Defaced</td>\n",
       "      <td>Other_Parking_Type - Defaced; support - OK</td>\n",
       "      <td>Intersection of ARDENWOOD WAY and SLOAT BLVD</td>\n",
       "      <td>7.0</td>\n",
       "      <td>West Portal</td>\n",
       "      <td>TARAVAL</td>\n",
       "      <td>37.73478</td>\n",
       "      <td>-122.4728</td>\n",
       "      <td>(37.73479776, -122.4726315)</td>\n",
       "      <td>Mobile/Open311</td>\n",
       "      <td>http://mobile311.sfgov.org/media/san_francisco...</td>\n",
       "      <td>292</td>\n",
       "    </tr>\n",
       "  </tbody>\n",
       "</table>\n",
       "</div>"
      ],
      "text/plain": [
       "          CaseID                  Opened                  Closed  \\\n",
       "1731947  5363889  12/10/2015 05:05:30 PM  12/23/2015 09:56:00 AM   \n",
       "2539513  6749694  01/19/2017 07:22:29 PM  01/20/2017 09:59:11 AM   \n",
       "2013678  6116335  07/24/2016 08:53:13 PM  07/26/2016 03:11:42 PM   \n",
       "2483932  9490569  09/03/2018 07:07:20 PM  09/04/2018 06:23:00 AM   \n",
       "2582471  8224146  11/03/2017 03:07:34 PM  08/23/2018 11:00:25 AM   \n",
       "\n",
       "                        Updated  Status  \\\n",
       "1731947  12/23/2015 09:56:00 AM  Closed   \n",
       "2539513  01/20/2017 09:59:11 AM  Closed   \n",
       "2013678  07/26/2016 03:11:42 PM  Closed   \n",
       "2483932  09/04/2018 06:23:00 AM  Closed   \n",
       "2582471  08/23/2018 11:00:25 AM  Closed   \n",
       "\n",
       "                                              Status Notes  \\\n",
       "1731947          resolved:  - NRV # 1053844,NRV # 1053845,   \n",
       "2539513                                  Pickup completed.   \n",
       "2013678                                               done   \n",
       "2483932  These cans are the responsibility of the build...   \n",
       "2582471                         Sign repaired or replaced.   \n",
       "\n",
       "            Responsible Agency                      Category  \\\n",
       "1731947          DPW BSM Queue                      Graffiti   \n",
       "2539513     Recology_Abandoned  Street and Sidewalk Cleaning   \n",
       "2013678          DPW Ops Queue              Illegal Postings   \n",
       "2483932   Recology_Overflowing  Street and Sidewalk Cleaning   \n",
       "2582471  DPT SignShop 07 Queue                   Sign Repair   \n",
       "\n",
       "                                       Request Type  \\\n",
       "1731947                       Graffiti on News_rack   \n",
       "2539513                                 Bulky Items   \n",
       "2013678  Illegal Postings - Posted_on_Traffic_Light   \n",
       "2483932                City_garbage_can_overflowing   \n",
       "2582471                              Sign - Defaced   \n",
       "\n",
       "                                    Request Details  \\\n",
       "1731947                       News_rack - Offensive   \n",
       "2539513                       Boxed or Bagged Items   \n",
       "2013678                     Posted on Traffic Light   \n",
       "2483932                City_garbage_can_overflowing   \n",
       "2582471  Other_Parking_Type - Defaced; support - OK   \n",
       "\n",
       "                                              Address  Supervisor District  \\\n",
       "1731947      Intersection of FILLMORE ST and HAYES ST                  5.0   \n",
       "2539513     1350 VERMONT ST, SAN FRANCISCO, CA, 94110                 10.0   \n",
       "2013678     Intersection of FULTON ST and MASONIC AVE                  5.0   \n",
       "2483932        1001 16TH ST, SAN FRANCISCO, CA, 94107                 10.0   \n",
       "2582471  Intersection of ARDENWOOD WAY and SLOAT BLVD                  7.0   \n",
       "\n",
       "          Neighborhood Police District  Latitude  Longitude  \\\n",
       "1731947   Hayes Valley        NORTHERN  37.77594  -122.4311   \n",
       "2539513   Potrero Hill         MISSION  37.75260  -122.4035   \n",
       "2013678  Lone Mountain            PARK  37.77575  -122.4465   \n",
       "2483932   Potrero Hill        SOUTHERN  37.76630  -122.3970   \n",
       "2582471    West Portal         TARAVAL  37.73478  -122.4728   \n",
       "\n",
       "                                         Point          Source  \\\n",
       "1731947  (37.7758344070154, -122.431198557278)  Mobile/Open311   \n",
       "2539513            (37.75251984, -122.4034833)  Mobile/Open311   \n",
       "2013678  (37.7758016091424, -122.446470949368)  Mobile/Open311   \n",
       "2483932            (37.7662661, -122.39718442)  Mobile/Open311   \n",
       "2582471            (37.73479776, -122.4726315)  Mobile/Open311   \n",
       "\n",
       "                                                 Media URL  ClosingTime  \n",
       "1731947  http://mobile311.sfgov.org/media/san_francisco...           12  \n",
       "2539513  http://mobile311.sfgov.org/media/san_francisco...            0  \n",
       "2013678  http://mobile311.sfgov.org/media/san_francisco...            1  \n",
       "2483932  http://mobile311.sfgov.org/media/san_francisco...            0  \n",
       "2582471  http://mobile311.sfgov.org/media/san_francisco...          292  "
      ]
     },
     "execution_count": 10,
     "metadata": {},
     "output_type": "execute_result"
    }
   ],
   "source": [
    "small_data.head()"
   ]
  },
  {
   "cell_type": "markdown",
   "metadata": {},
   "source": [
    "# Outlier Detection: Visual Methods"
   ]
  },
  {
   "cell_type": "code",
   "execution_count": 11,
   "metadata": {},
   "outputs": [
    {
     "name": "stderr",
     "output_type": "stream",
     "text": [
      "/home/louiselai88gmail/anaconda3/lib/python3.6/site-packages/scipy/stats/stats.py:1713: FutureWarning: Using a non-tuple sequence for multidimensional indexing is deprecated; use `arr[tuple(seq)]` instead of `arr[seq]`. In the future this will be interpreted as an array index, `arr[np.array(seq)]`, which will result either in an error or a different result.\n",
      "  return np.add.reduce(sorted[indexer] * weights, axis=axis) / sumval\n",
      "/home/louiselai88gmail/anaconda3/lib/python3.6/site-packages/matplotlib/axes/_axes.py:6521: MatplotlibDeprecationWarning: \n",
      "The 'normed' kwarg was deprecated in Matplotlib 2.1 and will be removed in 3.1. Use 'density' instead.\n",
      "  alternative=\"'density'\", removal=\"3.1\")\n"
     ]
    },
    {
     "data": {
      "text/plain": [
       "<matplotlib.axes._subplots.AxesSubplot at 0x7fef0b8cacc0>"
      ]
     },
     "execution_count": 11,
     "metadata": {},
     "output_type": "execute_result"
    },
    {
     "data": {
      "image/png": "[encoded data removed]",
      "text/plain": [
       "<Figure size 432x288 with 1 Axes>"
      ]
     },
     "metadata": {},
     "output_type": "display_data"
    }
   ],
   "source": [
    "sns.distplot(small_data.ClosingTime) # trash"
   ]
  },
  {
   "cell_type": "code",
   "execution_count": 13,
   "metadata": {},
   "outputs": [
    {
     "data": {
      "text/plain": [
       "<matplotlib.axes._subplots.AxesSubplot at 0x7feef9cbbb00>"
      ]
     },
     "execution_count": 13,
     "metadata": {},
     "output_type": "execute_result"
    },
    {
     "data": {
      "image/png": "[encoded data removed]",
      "text/plain": [
       "<Figure size 432x288 with 1 Axes>"
      ]
     },
     "metadata": {},
     "output_type": "display_data"
    }
   ],
   "source": [
    "sns.boxplot(x=\"ClosingTime\", data=small_data) # trash also"
   ]
  },
  {
   "cell_type": "code",
   "execution_count": 16,
   "metadata": {},
   "outputs": [
    {
     "data": {
      "text/plain": [
       "<matplotlib.axes._subplots.AxesSubplot at 0x7feee6cd07f0>"
      ]
     },
     "execution_count": 16,
     "metadata": {},
     "output_type": "execute_result"
    },
    {
     "data": {
      "image/png": "[encoded data removed]",
      "text/plain": [
       "<Figure size 432x288 with 1 Axes>"
      ]
     },
     "metadata": {},
     "output_type": "display_data"
    }
   ],
   "source": [
    "sns.boxplot(x=\"ClosingTime\", y=\"Category\", data=small_data) # not very helpful visually. Too many categories!"
   ]
  },
  {
   "cell_type": "code",
   "execution_count": 39,
   "metadata": {},
   "outputs": [
    {
     "data": {
      "text/html": [
       "<div>\n",
       "<style scoped>\n",
       "    .dataframe tbody tr th:only-of-type {\n",
       "        vertical-align: middle;\n",
       "    }\n",
       "\n",
       "    .dataframe tbody tr th {\n",
       "        vertical-align: top;\n",
       "    }\n",
       "\n",
       "    .dataframe thead th {\n",
       "        text-align: right;\n",
       "    }\n",
       "</style>\n",
       "<table border=\"1\" class=\"dataframe\">\n",
       "  <thead>\n",
       "    <tr style=\"text-align: right;\">\n",
       "      <th></th>\n",
       "      <th>CaseID</th>\n",
       "      <th>Opened</th>\n",
       "      <th>Closed</th>\n",
       "      <th>Updated</th>\n",
       "      <th>Status</th>\n",
       "      <th>Status Notes</th>\n",
       "      <th>Responsible Agency</th>\n",
       "      <th>Request Type</th>\n",
       "      <th>Request Details</th>\n",
       "      <th>Address</th>\n",
       "      <th>Supervisor District</th>\n",
       "      <th>Neighborhood</th>\n",
       "      <th>Police District</th>\n",
       "      <th>Latitude</th>\n",
       "      <th>Longitude</th>\n",
       "      <th>Point</th>\n",
       "      <th>Source</th>\n",
       "      <th>Media URL</th>\n",
       "      <th>ClosingTime</th>\n",
       "    </tr>\n",
       "    <tr>\n",
       "      <th>Category</th>\n",
       "      <th></th>\n",
       "      <th></th>\n",
       "      <th></th>\n",
       "      <th></th>\n",
       "      <th></th>\n",
       "      <th></th>\n",
       "      <th></th>\n",
       "      <th></th>\n",
       "      <th></th>\n",
       "      <th></th>\n",
       "      <th></th>\n",
       "      <th></th>\n",
       "      <th></th>\n",
       "      <th></th>\n",
       "      <th></th>\n",
       "      <th></th>\n",
       "      <th></th>\n",
       "      <th></th>\n",
       "      <th></th>\n",
       "    </tr>\n",
       "  </thead>\n",
       "  <tbody>\n",
       "    <tr>\n",
       "      <th>Street and Sidewalk Cleaning</th>\n",
       "      <td>19750</td>\n",
       "      <td>19750</td>\n",
       "      <td>19750</td>\n",
       "      <td>19750</td>\n",
       "      <td>19750</td>\n",
       "      <td>19750</td>\n",
       "      <td>19750</td>\n",
       "      <td>19750</td>\n",
       "      <td>19750</td>\n",
       "      <td>19750</td>\n",
       "      <td>19750</td>\n",
       "      <td>19750</td>\n",
       "      <td>19750</td>\n",
       "      <td>19750</td>\n",
       "      <td>19750</td>\n",
       "      <td>19750</td>\n",
       "      <td>19750</td>\n",
       "      <td>19750</td>\n",
       "      <td>19750</td>\n",
       "    </tr>\n",
       "    <tr>\n",
       "      <th>Graffiti</th>\n",
       "      <td>13480</td>\n",
       "      <td>13480</td>\n",
       "      <td>13480</td>\n",
       "      <td>13480</td>\n",
       "      <td>13480</td>\n",
       "      <td>13480</td>\n",
       "      <td>13480</td>\n",
       "      <td>13480</td>\n",
       "      <td>13480</td>\n",
       "      <td>13480</td>\n",
       "      <td>13480</td>\n",
       "      <td>13480</td>\n",
       "      <td>13480</td>\n",
       "      <td>13480</td>\n",
       "      <td>13480</td>\n",
       "      <td>13480</td>\n",
       "      <td>13480</td>\n",
       "      <td>13480</td>\n",
       "      <td>13480</td>\n",
       "    </tr>\n",
       "    <tr>\n",
       "      <th>Encampments</th>\n",
       "      <td>5556</td>\n",
       "      <td>5556</td>\n",
       "      <td>5556</td>\n",
       "      <td>5556</td>\n",
       "      <td>5556</td>\n",
       "      <td>5556</td>\n",
       "      <td>5556</td>\n",
       "      <td>5556</td>\n",
       "      <td>5556</td>\n",
       "      <td>5556</td>\n",
       "      <td>5556</td>\n",
       "      <td>5556</td>\n",
       "      <td>5556</td>\n",
       "      <td>5556</td>\n",
       "      <td>5556</td>\n",
       "      <td>5556</td>\n",
       "      <td>5556</td>\n",
       "      <td>5556</td>\n",
       "      <td>5556</td>\n",
       "    </tr>\n",
       "    <tr>\n",
       "      <th>Abandoned Vehicle</th>\n",
       "      <td>2351</td>\n",
       "      <td>2351</td>\n",
       "      <td>2351</td>\n",
       "      <td>2351</td>\n",
       "      <td>2351</td>\n",
       "      <td>2351</td>\n",
       "      <td>2351</td>\n",
       "      <td>2351</td>\n",
       "      <td>2351</td>\n",
       "      <td>2351</td>\n",
       "      <td>2351</td>\n",
       "      <td>2351</td>\n",
       "      <td>2351</td>\n",
       "      <td>2351</td>\n",
       "      <td>2351</td>\n",
       "      <td>2351</td>\n",
       "      <td>2351</td>\n",
       "      <td>2351</td>\n",
       "      <td>2351</td>\n",
       "    </tr>\n",
       "    <tr>\n",
       "      <th>Homeless Concerns</th>\n",
       "      <td>1983</td>\n",
       "      <td>1983</td>\n",
       "      <td>1983</td>\n",
       "      <td>1983</td>\n",
       "      <td>1983</td>\n",
       "      <td>1983</td>\n",
       "      <td>1983</td>\n",
       "      <td>1983</td>\n",
       "      <td>1983</td>\n",
       "      <td>1983</td>\n",
       "      <td>1983</td>\n",
       "      <td>1983</td>\n",
       "      <td>1983</td>\n",
       "      <td>1983</td>\n",
       "      <td>1983</td>\n",
       "      <td>1983</td>\n",
       "      <td>1983</td>\n",
       "      <td>1983</td>\n",
       "      <td>1983</td>\n",
       "    </tr>\n",
       "    <tr>\n",
       "      <th>Illegal Postings</th>\n",
       "      <td>1470</td>\n",
       "      <td>1470</td>\n",
       "      <td>1470</td>\n",
       "      <td>1470</td>\n",
       "      <td>1470</td>\n",
       "      <td>1470</td>\n",
       "      <td>1470</td>\n",
       "      <td>1470</td>\n",
       "      <td>1470</td>\n",
       "      <td>1470</td>\n",
       "      <td>1470</td>\n",
       "      <td>1470</td>\n",
       "      <td>1470</td>\n",
       "      <td>1470</td>\n",
       "      <td>1470</td>\n",
       "      <td>1470</td>\n",
       "      <td>1470</td>\n",
       "      <td>1470</td>\n",
       "      <td>1470</td>\n",
       "    </tr>\n",
       "    <tr>\n",
       "      <th>Rec and Park Requests</th>\n",
       "      <td>1178</td>\n",
       "      <td>1178</td>\n",
       "      <td>1178</td>\n",
       "      <td>1178</td>\n",
       "      <td>1178</td>\n",
       "      <td>1178</td>\n",
       "      <td>1178</td>\n",
       "      <td>1178</td>\n",
       "      <td>1178</td>\n",
       "      <td>1178</td>\n",
       "      <td>1178</td>\n",
       "      <td>1178</td>\n",
       "      <td>1178</td>\n",
       "      <td>1178</td>\n",
       "      <td>1178</td>\n",
       "      <td>1178</td>\n",
       "      <td>1178</td>\n",
       "      <td>1178</td>\n",
       "      <td>1178</td>\n",
       "    </tr>\n",
       "    <tr>\n",
       "      <th>Parking Enforcement</th>\n",
       "      <td>1155</td>\n",
       "      <td>1155</td>\n",
       "      <td>1155</td>\n",
       "      <td>1155</td>\n",
       "      <td>1155</td>\n",
       "      <td>1155</td>\n",
       "      <td>1155</td>\n",
       "      <td>1155</td>\n",
       "      <td>1155</td>\n",
       "      <td>1155</td>\n",
       "      <td>1155</td>\n",
       "      <td>1155</td>\n",
       "      <td>1155</td>\n",
       "      <td>1155</td>\n",
       "      <td>1155</td>\n",
       "      <td>1155</td>\n",
       "      <td>1155</td>\n",
       "      <td>1155</td>\n",
       "      <td>1155</td>\n",
       "    </tr>\n",
       "    <tr>\n",
       "      <th>Sidewalk or Curb</th>\n",
       "      <td>1051</td>\n",
       "      <td>1051</td>\n",
       "      <td>1051</td>\n",
       "      <td>1051</td>\n",
       "      <td>1051</td>\n",
       "      <td>1051</td>\n",
       "      <td>1051</td>\n",
       "      <td>1051</td>\n",
       "      <td>1051</td>\n",
       "      <td>1051</td>\n",
       "      <td>1051</td>\n",
       "      <td>1051</td>\n",
       "      <td>1051</td>\n",
       "      <td>1051</td>\n",
       "      <td>1051</td>\n",
       "      <td>1051</td>\n",
       "      <td>1051</td>\n",
       "      <td>1051</td>\n",
       "      <td>1051</td>\n",
       "    </tr>\n",
       "  </tbody>\n",
       "</table>\n",
       "</div>"
      ],
      "text/plain": [
       "                              CaseID  Opened  Closed  Updated  Status  \\\n",
       "Category                                                                \n",
       "Street and Sidewalk Cleaning   19750   19750   19750    19750   19750   \n",
       "Graffiti                       13480   13480   13480    13480   13480   \n",
       "Encampments                     5556    5556    5556     5556    5556   \n",
       "Abandoned Vehicle               2351    2351    2351     2351    2351   \n",
       "Homeless Concerns               1983    1983    1983     1983    1983   \n",
       "Illegal Postings                1470    1470    1470     1470    1470   \n",
       "Rec and Park Requests           1178    1178    1178     1178    1178   \n",
       "Parking Enforcement             1155    1155    1155     1155    1155   \n",
       "Sidewalk or Curb                1051    1051    1051     1051    1051   \n",
       "\n",
       "                              Status Notes  Responsible Agency  Request Type  \\\n",
       "Category                                                                       \n",
       "Street and Sidewalk Cleaning         19750               19750         19750   \n",
       "Graffiti                             13480               13480         13480   \n",
       "Encampments                           5556                5556          5556   \n",
       "Abandoned Vehicle                     2351                2351          2351   \n",
       "Homeless Concerns                     1983                1983          1983   \n",
       "Illegal Postings                      1470                1470          1470   \n",
       "Rec and Park Requests                 1178                1178          1178   \n",
       "Parking Enforcement                   1155                1155          1155   \n",
       "Sidewalk or Curb                      1051                1051          1051   \n",
       "\n",
       "                              Request Details  Address  Supervisor District  \\\n",
       "Category                                                                      \n",
       "Street and Sidewalk Cleaning            19750    19750                19750   \n",
       "Graffiti                                13480    13480                13480   \n",
       "Encampments                              5556     5556                 5556   \n",
       "Abandoned Vehicle                        2351     2351                 2351   \n",
       "Homeless Concerns                        1983     1983                 1983   \n",
       "Illegal Postings                         1470     1470                 1470   \n",
       "Rec and Park Requests                    1178     1178                 1178   \n",
       "Parking Enforcement                      1155     1155                 1155   \n",
       "Sidewalk or Curb                         1051     1051                 1051   \n",
       "\n",
       "                              Neighborhood  Police District  Latitude  \\\n",
       "Category                                                                \n",
       "Street and Sidewalk Cleaning         19750            19750     19750   \n",
       "Graffiti                             13480            13480     13480   \n",
       "Encampments                           5556             5556      5556   \n",
       "Abandoned Vehicle                     2351             2351      2351   \n",
       "Homeless Concerns                     1983             1983      1983   \n",
       "Illegal Postings                      1470             1470      1470   \n",
       "Rec and Park Requests                 1178             1178      1178   \n",
       "Parking Enforcement                   1155             1155      1155   \n",
       "Sidewalk or Curb                      1051             1051      1051   \n",
       "\n",
       "                              Longitude  Point  Source  Media URL  ClosingTime  \n",
       "Category                                                                        \n",
       "Street and Sidewalk Cleaning      19750  19750   19750      19750        19750  \n",
       "Graffiti                          13480  13480   13480      13480        13480  \n",
       "Encampments                        5556   5556    5556       5556         5556  \n",
       "Abandoned Vehicle                  2351   2351    2351       2351         2351  \n",
       "Homeless Concerns                  1983   1983    1983       1983         1983  \n",
       "Illegal Postings                   1470   1470    1470       1470         1470  \n",
       "Rec and Park Requests              1178   1178    1178       1178         1178  \n",
       "Parking Enforcement                1155   1155    1155       1155         1155  \n",
       "Sidewalk or Curb                   1051   1051    1051       1051         1051  "
      ]
     },
     "execution_count": 39,
     "metadata": {},
     "output_type": "execute_result"
    }
   ],
   "source": [
    "# visualizing the top categories only\n",
    "small_data.groupby(\"Category\").count().sort_values(by=['CaseID'], ascending=False).head(9) # it was observerd that after 10, the numbers dropped"
   ]
  },
  {
   "cell_type": "code",
   "execution_count": 40,
   "metadata": {},
   "outputs": [
    {
     "data": {
      "text/plain": [
       "<matplotlib.axes._subplots.AxesSubplot at 0x7feee0b0def0>"
      ]
     },
     "execution_count": 40,
     "metadata": {},
     "output_type": "execute_result"
    },
    {
     "data": {
      "image/png": "[encoded data removed]",
      "text/plain": [
       "<Figure size 432x288 with 1 Axes>"
      ]
     },
     "metadata": {},
     "output_type": "display_data"
    }
   ],
   "source": [
    "top_categories = [\"Street and Sidewalk Cleaning\", \"Graffiti\", \"Encampments\",\n",
    "                 \"Abandoned Vehicle\", \"Homeless Concerns\", \"Illegal Postings\",\n",
    "                  \"Rec and Park Requests\", \"Parking Enforcement\", \"Parking Enforcement\",\n",
    "                  \"Sidewalk or Curb\"]\n",
    "\n",
    "top_small_data = small_data[small_data[\"Category\"].isin(top_categories, )]\n",
    "\n",
    "sns.boxplot(x=\"ClosingTime\", y=\"Category\", data=top_small_data)\n",
    "\n",
    "# the boxplot is still bad. Thus, we turn to statistical methods"
   ]
  },
  {
   "cell_type": "markdown",
   "metadata": {},
   "source": [
    "# Outlier Detection 2: Statistical Methods"
   ]
  },
  {
   "cell_type": "code",
   "execution_count": 71,
   "metadata": {},
   "outputs": [
    {
     "name": "stdout",
     "output_type": "stream",
     "text": [
      "Within 3 s.d's       : 52980\n",
      "Greather than 3 s.d's: 977\n",
      "Total                : 53957\n"
     ]
    }
   ],
   "source": [
    "z = np.abs(stats.zscore(small_data['ClosingTime'])) # gives us the z-score for each closing time\n",
    "threshold = 3 # standard deviations\n",
    "\n",
    "data_reduced = small_data[(z < threshold)] # \n",
    "outliers = small_data[(z >= threshold)]\n",
    "\n",
    "print(\"Within 3 s.d's       : {}\".format(len(data_reduced)))\n",
    "print(\"Greather than 3 s.d's: {}\".format(len(outliers)))\n",
    "print(\"Total                : {}\".format(len(small_data)))\n",
    "\n",
    "# Thus, we've now removed 977 rows of outlier data\n",
    "# Success!"
   ]
  },
  {
   "cell_type": "markdown",
   "metadata": {},
   "source": [
    "# Plotting, again"
   ]
  },
  {
   "cell_type": "code",
   "execution_count": 72,
   "metadata": {},
   "outputs": [
    {
     "name": "stderr",
     "output_type": "stream",
     "text": [
      "/home/louiselai88gmail/anaconda3/lib/python3.6/site-packages/scipy/stats/stats.py:1713: FutureWarning: Using a non-tuple sequence for multidimensional indexing is deprecated; use `arr[tuple(seq)]` instead of `arr[seq]`. In the future this will be interpreted as an array index, `arr[np.array(seq)]`, which will result either in an error or a different result.\n",
      "  return np.add.reduce(sorted[indexer] * weights, axis=axis) / sumval\n",
      "/home/louiselai88gmail/anaconda3/lib/python3.6/site-packages/matplotlib/axes/_axes.py:6521: MatplotlibDeprecationWarning: \n",
      "The 'normed' kwarg was deprecated in Matplotlib 2.1 and will be removed in 3.1. Use 'density' instead.\n",
      "  alternative=\"'density'\", removal=\"3.1\")\n"
     ]
    },
    {
     "data": {
      "text/plain": [
       "<matplotlib.axes._subplots.AxesSubplot at 0x7feed1bd8588>"
      ]
     },
     "execution_count": 72,
     "metadata": {},
     "output_type": "execute_result"
    },
    {
     "data": {
      "image/png": "[encoded data removed]",
      "text/plain": [
       "<Figure size 432x288 with 1 Axes>"
      ]
     },
     "metadata": {},
     "output_type": "display_data"
    }
   ],
   "source": [
    "# After successfully removing outliers, we plot again\n",
    "sns.distplot(data_reduced.ClosingTime) \n",
    "\n",
    "# .. well. We see that there is simply a huge concentration around \n",
    "# zero days for closing time. We have to live with this for now."
   ]
  },
  {
   "cell_type": "markdown",
   "metadata": {},
   "source": [
    "# Prediction, finally"
   ]
  },
  {
   "cell_type": "code",
   "execution_count": 76,
   "metadata": {},
   "outputs": [],
   "source": [
    "from sklearn.model_selection import train_test_split"
   ]
  },
  {
   "cell_type": "code",
   "execution_count": null,
   "metadata": {},
   "outputs": [],
   "source": [
    "# first, let us try without outlier removal"
   ]
  },
  {
   "cell_type": "code",
   "execution_count": 84,
   "metadata": {},
   "outputs": [],
   "source": [
    "X_train, X_test, y_train, y_test = train_test_split(X, Y, test_size=0.33)"
   ]
  },
  {
   "cell_type": "markdown",
   "metadata": {},
   "source": [
    "# KNN"
   ]
  },
  {
   "cell_type": "code",
   "execution_count": 78,
   "metadata": {},
   "outputs": [],
   "source": [
    "from sklearn.neighbors import KNeighborsClassifier"
   ]
  },
  {
   "cell_type": "code",
   "execution_count": 85,
   "metadata": {},
   "outputs": [
    {
     "data": {
      "text/plain": [
       "KNeighborsClassifier(algorithm='auto', leaf_size=30, metric='minkowski',\n",
       "           metric_params=None, n_jobs=None, n_neighbors=5, p=2,\n",
       "           weights='uniform')"
      ]
     },
     "execution_count": 85,
     "metadata": {},
     "output_type": "execute_result"
    }
   ],
   "source": [
    "clf_2 = KNeighborsClassifier(n_neighbors=5)\n",
    "clf_2.fit(X_train,y_train)"
   ]
  },
  {
   "cell_type": "code",
   "execution_count": 87,
   "metadata": {},
   "outputs": [
    {
     "data": {
      "text/plain": [
       "0.45518364596203525"
      ]
     },
     "execution_count": 87,
     "metadata": {},
     "output_type": "execute_result"
    }
   ],
   "source": [
    "from sklearn.metrics import accuracy_score\n",
    "y_pred_2 = clf_2.predict(X_test)\n",
    "accuracy_score(y_test,y_pred_2)"
   ]
  },
  {
   "cell_type": "code",
   "execution_count": null,
   "metadata": {},
   "outputs": [],
   "source": []
  }
 ],
 "metadata": {
  "kernelspec": {
   "display_name": "Python 3",
   "language": "python",
   "name": "python3"
  },
  "language_info": {
   "codemirror_mode": {
    "name": "ipython",
    "version": 3
   },
   "file_extension": ".py",
   "mimetype": "text/x-python",
   "name": "python",
   "nbconvert_exporter": "python",
   "pygments_lexer": "ipython3",
   "version": "3.6.6"
  }
 },
 "nbformat": 4,
 "nbformat_minor": 2
}
