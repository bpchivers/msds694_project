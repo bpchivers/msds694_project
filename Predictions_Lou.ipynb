{
 "cells": [
  {
   "cell_type": "markdown",
   "metadata": {},
   "source": [
    "## Loading Data"
   ]
  },
  {
   "cell_type": "code",
   "execution_count": 1,
   "metadata": {},
   "outputs": [],
   "source": [
    "import pandas as pd\n",
    "import datetime\n",
    "import seaborn as sns\n",
    "from scipy import stats\n",
    "import numpy as np\n",
    "import random"
   ]
  },
  {
   "cell_type": "code",
   "execution_count": 2,
   "metadata": {},
   "outputs": [],
   "source": [
    "filename = \"./../data/311_Cases.csv\""
   ]
  },
  {
   "cell_type": "code",
   "execution_count": 4,
   "metadata": {},
   "outputs": [],
   "source": [
    "data = pd.read_csv(filename, encoding='utf8',engine='python').dropna()"
   ]
  },
  {
   "cell_type": "code",
   "execution_count": 5,
   "metadata": {},
   "outputs": [
    {
     "data": {
      "text/html": [
       "<div>\n",
       "<style scoped>\n",
       "    .dataframe tbody tr th:only-of-type {\n",
       "        vertical-align: middle;\n",
       "    }\n",
       "\n",
       "    .dataframe tbody tr th {\n",
       "        vertical-align: top;\n",
       "    }\n",
       "\n",
       "    .dataframe thead th {\n",
       "        text-align: right;\n",
       "    }\n",
       "</style>\n",
       "<table border=\"1\" class=\"dataframe\">\n",
       "  <thead>\n",
       "    <tr style=\"text-align: right;\">\n",
       "      <th></th>\n",
       "      <th>CaseID</th>\n",
       "      <th>Opened</th>\n",
       "      <th>Closed</th>\n",
       "      <th>Updated</th>\n",
       "      <th>Status</th>\n",
       "      <th>Status Notes</th>\n",
       "      <th>Responsible Agency</th>\n",
       "      <th>Category</th>\n",
       "      <th>Request Type</th>\n",
       "      <th>Request Details</th>\n",
       "      <th>Address</th>\n",
       "      <th>Supervisor District</th>\n",
       "      <th>Neighborhood</th>\n",
       "      <th>Police District</th>\n",
       "      <th>Latitude</th>\n",
       "      <th>Longitude</th>\n",
       "      <th>Point</th>\n",
       "      <th>Source</th>\n",
       "      <th>Media URL</th>\n",
       "    </tr>\n",
       "  </thead>\n",
       "  <tbody>\n",
       "    <tr>\n",
       "      <th>24810</th>\n",
       "      <td>3135216</td>\n",
       "      <td>12/05/2013 02:50:24 PM</td>\n",
       "      <td>06/25/2018 09:50:55 AM</td>\n",
       "      <td>06/25/2018 09:50:55 AM</td>\n",
       "      <td>Closed</td>\n",
       "      <td>Found 40 square feet of damaged/uneven sidewal...</td>\n",
       "      <td>DPW BSM Queue</td>\n",
       "      <td>Sidewalk or Curb</td>\n",
       "      <td>Sidewalk_Defect</td>\n",
       "      <td>Collapsed_sidewalk</td>\n",
       "      <td>920 VAN NESS AVE, SAN FRANCISCO, CA, 94109</td>\n",
       "      <td>6.0</td>\n",
       "      <td>Tenderloin</td>\n",
       "      <td>NORTHERN</td>\n",
       "      <td>37.78418</td>\n",
       "      <td>-122.4208</td>\n",
       "      <td>(37.78416124, -122.42081673)</td>\n",
       "      <td>Mobile/Open311</td>\n",
       "      <td>http://mobile311.sfgov.org/media/san_francisco...</td>\n",
       "    </tr>\n",
       "    <tr>\n",
       "      <th>86201</th>\n",
       "      <td>4203877</td>\n",
       "      <td>11/12/2014 08:46:11 PM</td>\n",
       "      <td>06/25/2018 10:38:19 AM</td>\n",
       "      <td>06/25/2018 10:38:19 AM</td>\n",
       "      <td>Closed</td>\n",
       "      <td>9 Sumner St: damaged sidewalk around utility v...</td>\n",
       "      <td>DPW BSM Queue</td>\n",
       "      <td>Sidewalk or Curb</td>\n",
       "      <td>Sidewalk_Defect</td>\n",
       "      <td>Collapsed_sidewalk</td>\n",
       "      <td>10 SUMNER ST, SAN FRANCISCO, CA, 94103</td>\n",
       "      <td>6.0</td>\n",
       "      <td>South of Market</td>\n",
       "      <td>SOUTHERN</td>\n",
       "      <td>37.77632</td>\n",
       "      <td>-122.4106</td>\n",
       "      <td>(37.77629119, -122.41061191)</td>\n",
       "      <td>Mobile/Open311</td>\n",
       "      <td>http://mobile311.sfgov.org/media/san_francisco...</td>\n",
       "    </tr>\n",
       "    <tr>\n",
       "      <th>86582</th>\n",
       "      <td>4223752</td>\n",
       "      <td>11/19/2014 10:48:56 AM</td>\n",
       "      <td>06/25/2018 10:22:00 AM</td>\n",
       "      <td>06/25/2018 10:22:00 AM</td>\n",
       "      <td>Closed</td>\n",
       "      <td>2515-2565 Bay Shore Blvd: damaged sidewalk nex...</td>\n",
       "      <td>DPW BSM Queue</td>\n",
       "      <td>Sidewalk or Curb</td>\n",
       "      <td>Sidewalk_Defect</td>\n",
       "      <td>Collapsed_sidewalk</td>\n",
       "      <td>Intersection of BAY SHORE BLVD and SUNNYDALE AVE</td>\n",
       "      <td>10.0</td>\n",
       "      <td>Little Hollywood</td>\n",
       "      <td>INGLESIDE</td>\n",
       "      <td>37.70903</td>\n",
       "      <td>-122.4048</td>\n",
       "      <td>(37.70885355, -122.4051094)</td>\n",
       "      <td>Mobile/Open311</td>\n",
       "      <td>http://mobile311.sfgov.org/media/san_francisco...</td>\n",
       "    </tr>\n",
       "    <tr>\n",
       "      <th>100891</th>\n",
       "      <td>10303151</td>\n",
       "      <td>01/01/2019 10:10:00 PM</td>\n",
       "      <td>01/08/2019 05:46:00 AM</td>\n",
       "      <td>01/08/2019 05:46:00 AM</td>\n",
       "      <td>Closed</td>\n",
       "      <td>01/07/2019 VEH GOA @1033 HOURS #338</td>\n",
       "      <td>DPT Abandoned Vehicles Work Queue</td>\n",
       "      <td>Abandoned Vehicle</td>\n",
       "      <td>Abandoned Vehicles</td>\n",
       "      <td>DPT Abandoned Vehicles Low</td>\n",
       "      <td>1097 OAKDALE AVE, SAN FRANCISCO, CA, 94124</td>\n",
       "      <td>10.0</td>\n",
       "      <td>Hunters Point</td>\n",
       "      <td>BAYVIEW</td>\n",
       "      <td>37.72940</td>\n",
       "      <td>-122.3813</td>\n",
       "      <td>(37.72939344, -122.38131978)</td>\n",
       "      <td>Web</td>\n",
       "      <td>http://mobile311.sfgov.org/media/san_francisco...</td>\n",
       "    </tr>\n",
       "    <tr>\n",
       "      <th>140933</th>\n",
       "      <td>10303744</td>\n",
       "      <td>01/02/2019 08:20:00 AM</td>\n",
       "      <td>01/08/2019 07:39:00 AM</td>\n",
       "      <td>01/08/2019 07:39:00 AM</td>\n",
       "      <td>Closed</td>\n",
       "      <td>01/07/2019  @1349 HRS #168</td>\n",
       "      <td>DPT Abandoned Vehicles Work Queue</td>\n",
       "      <td>Abandoned Vehicle</td>\n",
       "      <td>Abandoned Vehicles</td>\n",
       "      <td>DPT Abandoned Vehicles Low</td>\n",
       "      <td>Intersection of MALTA DR and VALLETTA CT</td>\n",
       "      <td>7.0</td>\n",
       "      <td>Miraloma Park</td>\n",
       "      <td>INGLESIDE</td>\n",
       "      <td>37.73619</td>\n",
       "      <td>-122.4444</td>\n",
       "      <td>(37.7362185, -122.4444058)</td>\n",
       "      <td>Mobile/Open311</td>\n",
       "      <td>http://mobile311.sfgov.org/media/san_francisco...</td>\n",
       "    </tr>\n",
       "  </tbody>\n",
       "</table>\n",
       "</div>"
      ],
      "text/plain": [
       "          CaseID                  Opened                  Closed  \\\n",
       "24810    3135216  12/05/2013 02:50:24 PM  06/25/2018 09:50:55 AM   \n",
       "86201    4203877  11/12/2014 08:46:11 PM  06/25/2018 10:38:19 AM   \n",
       "86582    4223752  11/19/2014 10:48:56 AM  06/25/2018 10:22:00 AM   \n",
       "100891  10303151  01/01/2019 10:10:00 PM  01/08/2019 05:46:00 AM   \n",
       "140933  10303744  01/02/2019 08:20:00 AM  01/08/2019 07:39:00 AM   \n",
       "\n",
       "                       Updated  Status  \\\n",
       "24810   06/25/2018 09:50:55 AM  Closed   \n",
       "86201   06/25/2018 10:38:19 AM  Closed   \n",
       "86582   06/25/2018 10:22:00 AM  Closed   \n",
       "100891  01/08/2019 05:46:00 AM  Closed   \n",
       "140933  01/08/2019 07:39:00 AM  Closed   \n",
       "\n",
       "                                             Status Notes  \\\n",
       "24810   Found 40 square feet of damaged/uneven sidewal...   \n",
       "86201   9 Sumner St: damaged sidewalk around utility v...   \n",
       "86582   2515-2565 Bay Shore Blvd: damaged sidewalk nex...   \n",
       "100891                01/07/2019 VEH GOA @1033 HOURS #338   \n",
       "140933                         01/07/2019  @1349 HRS #168   \n",
       "\n",
       "                       Responsible Agency           Category  \\\n",
       "24810                       DPW BSM Queue   Sidewalk or Curb   \n",
       "86201                       DPW BSM Queue   Sidewalk or Curb   \n",
       "86582                       DPW BSM Queue   Sidewalk or Curb   \n",
       "100891  DPT Abandoned Vehicles Work Queue  Abandoned Vehicle   \n",
       "140933  DPT Abandoned Vehicles Work Queue  Abandoned Vehicle   \n",
       "\n",
       "              Request Type             Request Details  \\\n",
       "24810      Sidewalk_Defect          Collapsed_sidewalk   \n",
       "86201      Sidewalk_Defect          Collapsed_sidewalk   \n",
       "86582      Sidewalk_Defect          Collapsed_sidewalk   \n",
       "100891  Abandoned Vehicles  DPT Abandoned Vehicles Low   \n",
       "140933  Abandoned Vehicles  DPT Abandoned Vehicles Low   \n",
       "\n",
       "                                                 Address  Supervisor District  \\\n",
       "24810         920 VAN NESS AVE, SAN FRANCISCO, CA, 94109                  6.0   \n",
       "86201             10 SUMNER ST, SAN FRANCISCO, CA, 94103                  6.0   \n",
       "86582   Intersection of BAY SHORE BLVD and SUNNYDALE AVE                 10.0   \n",
       "100891        1097 OAKDALE AVE, SAN FRANCISCO, CA, 94124                 10.0   \n",
       "140933          Intersection of MALTA DR and VALLETTA CT                  7.0   \n",
       "\n",
       "            Neighborhood Police District  Latitude  Longitude  \\\n",
       "24810         Tenderloin        NORTHERN  37.78418  -122.4208   \n",
       "86201    South of Market        SOUTHERN  37.77632  -122.4106   \n",
       "86582   Little Hollywood       INGLESIDE  37.70903  -122.4048   \n",
       "100891     Hunters Point         BAYVIEW  37.72940  -122.3813   \n",
       "140933     Miraloma Park       INGLESIDE  37.73619  -122.4444   \n",
       "\n",
       "                               Point          Source  \\\n",
       "24810   (37.78416124, -122.42081673)  Mobile/Open311   \n",
       "86201   (37.77629119, -122.41061191)  Mobile/Open311   \n",
       "86582    (37.70885355, -122.4051094)  Mobile/Open311   \n",
       "100891  (37.72939344, -122.38131978)             Web   \n",
       "140933    (37.7362185, -122.4444058)  Mobile/Open311   \n",
       "\n",
       "                                                Media URL  \n",
       "24810   http://mobile311.sfgov.org/media/san_francisco...  \n",
       "86201   http://mobile311.sfgov.org/media/san_francisco...  \n",
       "86582   http://mobile311.sfgov.org/media/san_francisco...  \n",
       "100891  http://mobile311.sfgov.org/media/san_francisco...  \n",
       "140933  http://mobile311.sfgov.org/media/san_francisco...  "
      ]
     },
     "execution_count": 5,
     "metadata": {},
     "output_type": "execute_result"
    }
   ],
   "source": [
    "# quick inspection\n",
    "len(data) # 3,362,678\n",
    "data.head()"
   ]
  },
  {
   "cell_type": "markdown",
   "metadata": {},
   "source": [
    "## Downsize data"
   ]
  },
  {
   "cell_type": "code",
   "execution_count": 6,
   "metadata": {},
   "outputs": [
    {
     "data": {
      "text/plain": [
       "53957"
      ]
     },
     "execution_count": 6,
     "metadata": {},
     "output_type": "execute_result"
    }
   ],
   "source": [
    "# set random seed\n",
    "random.seed(42)\n",
    "small_data = data.sample(n = int(len(data) * 0.1)) # keep 10%\n",
    "len(small_data) # 336,267"
   ]
  },
  {
   "cell_type": "markdown",
   "metadata": {},
   "source": [
    "## Select relevant variables\n",
    "Remember, the goal is to predict how long it takes to close a case, given neighborhood and category of complaint"
   ]
  },
  {
   "cell_type": "code",
   "execution_count": 7,
   "metadata": {},
   "outputs": [],
   "source": [
    "# note: might want to move Category to Request Type?\n",
    "X = small_data[[\"Neighborhood\", \"Category\", ]] # explanatory variables"
   ]
  },
  {
   "cell_type": "code",
   "execution_count": 8,
   "metadata": {},
   "outputs": [],
   "source": [
    "# NOTE: this takes some time\n",
    "timedelta = pd.to_datetime(small_data[\"Closed\"]) - pd.to_datetime(small_data[\"Opened\"])\n",
    "small_data[\"ClosingTime\"] = timedelta.dt.days\n",
    "Y = small_data[\"ClosingTime\"] # target variable"
   ]
  },
  {
   "cell_type": "code",
   "execution_count": null,
   "metadata": {},
   "outputs": [],
   "source": [
    "len(small_data)"
   ]
  },
  {
   "cell_type": "code",
   "execution_count": 9,
   "metadata": {},
   "outputs": [
    {
     "data": {
      "text/html": [
       "<div>\n",
       "<style scoped>\n",
       "    .dataframe tbody tr th:only-of-type {\n",
       "        vertical-align: middle;\n",
       "    }\n",
       "\n",
       "    .dataframe tbody tr th {\n",
       "        vertical-align: top;\n",
       "    }\n",
       "\n",
       "    .dataframe thead th {\n",
       "        text-align: right;\n",
       "    }\n",
       "</style>\n",
       "<table border=\"1\" class=\"dataframe\">\n",
       "  <thead>\n",
       "    <tr style=\"text-align: right;\">\n",
       "      <th></th>\n",
       "      <th>CaseID</th>\n",
       "      <th>Opened</th>\n",
       "      <th>Closed</th>\n",
       "      <th>Updated</th>\n",
       "      <th>Status</th>\n",
       "      <th>Status Notes</th>\n",
       "      <th>Responsible Agency</th>\n",
       "      <th>Category</th>\n",
       "      <th>Request Type</th>\n",
       "      <th>Request Details</th>\n",
       "      <th>Address</th>\n",
       "      <th>Supervisor District</th>\n",
       "      <th>Neighborhood</th>\n",
       "      <th>Police District</th>\n",
       "      <th>Latitude</th>\n",
       "      <th>Longitude</th>\n",
       "      <th>Point</th>\n",
       "      <th>Source</th>\n",
       "      <th>Media URL</th>\n",
       "      <th>ClosingTime</th>\n",
       "    </tr>\n",
       "  </thead>\n",
       "  <tbody>\n",
       "    <tr>\n",
       "      <th>2006906</th>\n",
       "      <td>6094995</td>\n",
       "      <td>07/18/2016 05:33:25 PM</td>\n",
       "      <td>08/22/2016 03:57:34 PM</td>\n",
       "      <td>08/22/2016 03:57:34 PM</td>\n",
       "      <td>Closed</td>\n",
       "      <td>cleaned</td>\n",
       "      <td>DPW Ops Queue</td>\n",
       "      <td>Encampments</td>\n",
       "      <td>Encampment Reports</td>\n",
       "      <td>Encampment Cleanup</td>\n",
       "      <td>470 8TH ST, SAN FRANCISCO, CA, 94103</td>\n",
       "      <td>6.0</td>\n",
       "      <td>South of Market</td>\n",
       "      <td>SOUTHERN</td>\n",
       "      <td>37.77285</td>\n",
       "      <td>-122.4077</td>\n",
       "      <td>(37.772720378971, -122.407471948151)</td>\n",
       "      <td>Mobile/Open311</td>\n",
       "      <td>http://mobile311.sfgov.org/media/san_francisco...</td>\n",
       "      <td>34</td>\n",
       "    </tr>\n",
       "    <tr>\n",
       "      <th>3259051</th>\n",
       "      <td>9112022</td>\n",
       "      <td>06/08/2018 02:17:00 PM</td>\n",
       "      <td>06/11/2018 02:24:00 PM</td>\n",
       "      <td>06/11/2018 02:24:00 PM</td>\n",
       "      <td>Closed</td>\n",
       "      <td>Public Works cleaned up the area. Area cleaned.</td>\n",
       "      <td>HSOC Queue</td>\n",
       "      <td>Encampments</td>\n",
       "      <td>Encampment Reports</td>\n",
       "      <td>Encampment Cleanup</td>\n",
       "      <td>Intersection of POTRERO AVE and 19TH ST</td>\n",
       "      <td>10.0</td>\n",
       "      <td>Mission</td>\n",
       "      <td>MISSION</td>\n",
       "      <td>37.76046</td>\n",
       "      <td>-122.4068</td>\n",
       "      <td>(37.76066135, -122.4070657)</td>\n",
       "      <td>Mobile/Open311</td>\n",
       "      <td>http://mobile311.sfgov.org/media/san_francisco...</td>\n",
       "      <td>3</td>\n",
       "    </tr>\n",
       "    <tr>\n",
       "      <th>2221338</th>\n",
       "      <td>9248800</td>\n",
       "      <td>07/10/2018 02:25:40 PM</td>\n",
       "      <td>07/10/2018 03:25:58 PM</td>\n",
       "      <td>07/10/2018 03:25:58 PM</td>\n",
       "      <td>Closed</td>\n",
       "      <td>Pickup completed.</td>\n",
       "      <td>Recology_Abandoned</td>\n",
       "      <td>Encampments</td>\n",
       "      <td>Encampment items</td>\n",
       "      <td>Cart Pickup</td>\n",
       "      <td>2230 REVERE AVE, SAN FRANCISCO, CA, 94124</td>\n",
       "      <td>10.0</td>\n",
       "      <td>Apparel City</td>\n",
       "      <td>BAYVIEW</td>\n",
       "      <td>37.73847</td>\n",
       "      <td>-122.4018</td>\n",
       "      <td>(37.73847079, -122.40189034)</td>\n",
       "      <td>Mobile/Open311</td>\n",
       "      <td>http://mobile311.sfgov.org/media/san_francisco...</td>\n",
       "      <td>0</td>\n",
       "    </tr>\n",
       "    <tr>\n",
       "      <th>1691756</th>\n",
       "      <td>5233527</td>\n",
       "      <td>10/28/2015 03:32:48 PM</td>\n",
       "      <td>10/29/2015 07:22:03 AM</td>\n",
       "      <td>10/29/2015 07:22:03 AM</td>\n",
       "      <td>Closed</td>\n",
       "      <td>resolved: PROPERTY HAS ALREADY BEEN POSTED DS....</td>\n",
       "      <td>DPW Ops Queue</td>\n",
       "      <td>Graffiti</td>\n",
       "      <td>Graffiti on Building_residential</td>\n",
       "      <td>Building_residential - Offensive</td>\n",
       "      <td>Intersection of 14TH ST and CASTRO ST</td>\n",
       "      <td>8.0</td>\n",
       "      <td>Corona Heights</td>\n",
       "      <td>PARK</td>\n",
       "      <td>37.76741</td>\n",
       "      <td>-122.4356</td>\n",
       "      <td>(37.7673279317701, -122.43562427948)</td>\n",
       "      <td>Mobile/Open311</td>\n",
       "      <td>http://mobile311.sfgov.org/media/san_francisco...</td>\n",
       "      <td>0</td>\n",
       "    </tr>\n",
       "    <tr>\n",
       "      <th>2761816</th>\n",
       "      <td>7081963</td>\n",
       "      <td>04/25/2017 03:40:10 PM</td>\n",
       "      <td>04/25/2017 06:31:02 PM</td>\n",
       "      <td>04/25/2017 06:31:02 PM</td>\n",
       "      <td>Closed</td>\n",
       "      <td>Pickup completed.</td>\n",
       "      <td>Recology_Abandoned</td>\n",
       "      <td>Street and Sidewalk Cleaning</td>\n",
       "      <td>Bulky Items</td>\n",
       "      <td>Boxed or Bagged Items</td>\n",
       "      <td>Intersection of GRANT AVE and SACRAMENTO ST</td>\n",
       "      <td>3.0</td>\n",
       "      <td>Chinatown</td>\n",
       "      <td>CENTRAL</td>\n",
       "      <td>37.79337</td>\n",
       "      <td>-122.4060</td>\n",
       "      <td>(37.79337979, -122.4061295)</td>\n",
       "      <td>Mobile/Open311</td>\n",
       "      <td>http://mobile311.sfgov.org/media/san_francisco...</td>\n",
       "      <td>0</td>\n",
       "    </tr>\n",
       "  </tbody>\n",
       "</table>\n",
       "</div>"
      ],
      "text/plain": [
       "          CaseID                  Opened                  Closed  \\\n",
       "2006906  6094995  07/18/2016 05:33:25 PM  08/22/2016 03:57:34 PM   \n",
       "3259051  9112022  06/08/2018 02:17:00 PM  06/11/2018 02:24:00 PM   \n",
       "2221338  9248800  07/10/2018 02:25:40 PM  07/10/2018 03:25:58 PM   \n",
       "1691756  5233527  10/28/2015 03:32:48 PM  10/29/2015 07:22:03 AM   \n",
       "2761816  7081963  04/25/2017 03:40:10 PM  04/25/2017 06:31:02 PM   \n",
       "\n",
       "                        Updated  Status  \\\n",
       "2006906  08/22/2016 03:57:34 PM  Closed   \n",
       "3259051  06/11/2018 02:24:00 PM  Closed   \n",
       "2221338  07/10/2018 03:25:58 PM  Closed   \n",
       "1691756  10/29/2015 07:22:03 AM  Closed   \n",
       "2761816  04/25/2017 06:31:02 PM  Closed   \n",
       "\n",
       "                                              Status Notes  \\\n",
       "2006906                                            cleaned   \n",
       "3259051    Public Works cleaned up the area. Area cleaned.   \n",
       "2221338                                  Pickup completed.   \n",
       "1691756  resolved: PROPERTY HAS ALREADY BEEN POSTED DS....   \n",
       "2761816                                  Pickup completed.   \n",
       "\n",
       "         Responsible Agency                      Category  \\\n",
       "2006906       DPW Ops Queue                   Encampments   \n",
       "3259051          HSOC Queue                   Encampments   \n",
       "2221338  Recology_Abandoned                   Encampments   \n",
       "1691756       DPW Ops Queue                      Graffiti   \n",
       "2761816  Recology_Abandoned  Street and Sidewalk Cleaning   \n",
       "\n",
       "                             Request Type                   Request Details  \\\n",
       "2006906                Encampment Reports                Encampment Cleanup   \n",
       "3259051                Encampment Reports                Encampment Cleanup   \n",
       "2221338                  Encampment items                       Cart Pickup   \n",
       "1691756  Graffiti on Building_residential  Building_residential - Offensive   \n",
       "2761816                       Bulky Items             Boxed or Bagged Items   \n",
       "\n",
       "                                             Address  Supervisor District  \\\n",
       "2006906         470 8TH ST, SAN FRANCISCO, CA, 94103                  6.0   \n",
       "3259051      Intersection of POTRERO AVE and 19TH ST                 10.0   \n",
       "2221338    2230 REVERE AVE, SAN FRANCISCO, CA, 94124                 10.0   \n",
       "1691756        Intersection of 14TH ST and CASTRO ST                  8.0   \n",
       "2761816  Intersection of GRANT AVE and SACRAMENTO ST                  3.0   \n",
       "\n",
       "            Neighborhood Police District  Latitude  Longitude  \\\n",
       "2006906  South of Market        SOUTHERN  37.77285  -122.4077   \n",
       "3259051          Mission         MISSION  37.76046  -122.4068   \n",
       "2221338     Apparel City         BAYVIEW  37.73847  -122.4018   \n",
       "1691756   Corona Heights            PARK  37.76741  -122.4356   \n",
       "2761816        Chinatown         CENTRAL  37.79337  -122.4060   \n",
       "\n",
       "                                        Point          Source  \\\n",
       "2006906  (37.772720378971, -122.407471948151)  Mobile/Open311   \n",
       "3259051           (37.76066135, -122.4070657)  Mobile/Open311   \n",
       "2221338          (37.73847079, -122.40189034)  Mobile/Open311   \n",
       "1691756  (37.7673279317701, -122.43562427948)  Mobile/Open311   \n",
       "2761816           (37.79337979, -122.4061295)  Mobile/Open311   \n",
       "\n",
       "                                                 Media URL  ClosingTime  \n",
       "2006906  http://mobile311.sfgov.org/media/san_francisco...           34  \n",
       "3259051  http://mobile311.sfgov.org/media/san_francisco...            3  \n",
       "2221338  http://mobile311.sfgov.org/media/san_francisco...            0  \n",
       "1691756  http://mobile311.sfgov.org/media/san_francisco...            0  \n",
       "2761816  http://mobile311.sfgov.org/media/san_francisco...            0  "
      ]
     },
     "execution_count": 9,
     "metadata": {},
     "output_type": "execute_result"
    }
   ],
   "source": [
    "small_data.head()"
   ]
  },
  {
   "cell_type": "markdown",
   "metadata": {},
   "source": [
    "# Outlier Detection: Visual Methods"
   ]
  },
  {
   "cell_type": "code",
   "execution_count": null,
   "metadata": {},
   "outputs": [],
   "source": [
    "sns.distplot(small_data.ClosingTime) # trash"
   ]
  },
  {
   "cell_type": "code",
   "execution_count": null,
   "metadata": {},
   "outputs": [],
   "source": [
    "sns.boxplot(x=\"ClosingTime\", data=small_data) # trash also"
   ]
  },
  {
   "cell_type": "code",
   "execution_count": null,
   "metadata": {},
   "outputs": [],
   "source": [
    "sns.boxplot(x=\"ClosingTime\", y=\"Category\", data=small_data) # not very helpful visually. Too many categories!"
   ]
  },
  {
   "cell_type": "code",
   "execution_count": null,
   "metadata": {},
   "outputs": [],
   "source": [
    "# visualizing the top categories only\n",
    "small_data.groupby(\"Category\").count().sort_values(by=['CaseID'], ascending=False).head(9) # it was observerd that after 10, the numbers dropped"
   ]
  },
  {
   "cell_type": "code",
   "execution_count": null,
   "metadata": {},
   "outputs": [],
   "source": [
    "top_categories = [\"Street and Sidewalk Cleaning\", \"Graffiti\", \"Encampments\",\n",
    "                 \"Abandoned Vehicle\", \"Homeless Concerns\", \"Illegal Postings\",\n",
    "                  \"Rec and Park Requests\", \"Parking Enforcement\", \"Parking Enforcement\",\n",
    "                  \"Sidewalk or Curb\"]\n",
    "\n",
    "top_small_data = small_data[small_data[\"Category\"].isin(top_categories, )]\n",
    "\n",
    "sns.boxplot(x=\"ClosingTime\", y=\"Category\", data=top_small_data)\n",
    "\n",
    "# the boxplot is still bad. Thus, we turn to statistical methods"
   ]
  },
  {
   "cell_type": "markdown",
   "metadata": {},
   "source": [
    "# Outlier Detection 2: Statistical Methods"
   ]
  },
  {
   "cell_type": "code",
   "execution_count": null,
   "metadata": {},
   "outputs": [],
   "source": [
    "z = np.abs(stats.zscore(small_data['ClosingTime'])) # gives us the z-score for each closing time\n",
    "threshold = 3 # standard deviations\n",
    "\n",
    "data_reduced = small_data[(z < threshold)] # \n",
    "outliers = small_data[(z >= threshold)]\n",
    "\n",
    "print(\"Within 3 s.d's       : {}\".format(len(data_reduced)))\n",
    "print(\"Greather than 3 s.d's: {}\".format(len(outliers)))\n",
    "print(\"Total                : {}\".format(len(small_data)))\n",
    "\n",
    "# Thus, we've now removed 963 rows of outlier data\n",
    "# Success!"
   ]
  },
  {
   "cell_type": "markdown",
   "metadata": {},
   "source": [
    "# Plotting, again"
   ]
  },
  {
   "cell_type": "code",
   "execution_count": null,
   "metadata": {},
   "outputs": [],
   "source": [
    "# After successfully removing outliers, we plot again\n",
    "sns.distplot(data_reduced.ClosingTime) \n",
    "\n",
    "# .. well. We see that there is simply a huge concentration around \n",
    "# zero days for closing time. We have to live with this for now."
   ]
  },
  {
   "cell_type": "markdown",
   "metadata": {},
   "source": [
    "# Prediction, finally"
   ]
  },
  {
   "cell_type": "code",
   "execution_count": null,
   "metadata": {},
   "outputs": [],
   "source": [
    "from sklearn.model_selection import train_test_split"
   ]
  },
  {
   "cell_type": "code",
   "execution_count": null,
   "metadata": {},
   "outputs": [],
   "source": [
    "# first, let us try without outlier removal"
   ]
  },
  {
   "cell_type": "code",
   "execution_count": null,
   "metadata": {},
   "outputs": [],
   "source": [
    "X_train, X_test, y_train, y_test = train_test_split(X, Y, test_size=0.33)"
   ]
  },
  {
   "cell_type": "markdown",
   "metadata": {},
   "source": [
    "# KNN"
   ]
  },
  {
   "cell_type": "code",
   "execution_count": null,
   "metadata": {},
   "outputs": [],
   "source": [
    "from sklearn.neighbors import KNeighborsClassifier"
   ]
  },
  {
   "cell_type": "code",
   "execution_count": null,
   "metadata": {},
   "outputs": [],
   "source": [
    "clf_2 = KNeighborsClassifier(n_neighbors=5)\n",
    "clf_2.fit(X_train,y_train)"
   ]
  },
  {
   "cell_type": "code",
   "execution_count": null,
   "metadata": {},
   "outputs": [],
   "source": [
    "from sklearn.metrics import accuracy_score\n",
    "y_pred_2 = clf_2.predict(X_test)\n",
    "accuracy_score(y_test,y_pred_2)\n",
    "\n",
    "# not great. Moving on to add more categorical variables."
   ]
  },
  {
   "cell_type": "markdown",
   "metadata": {},
   "source": [
    "# KNN with categorical variables\n",
    "(still with no outlier removal, yet)"
   ]
  },
  {
   "cell_type": "code",
   "execution_count": null,
   "metadata": {},
   "outputs": [],
   "source": [
    "# note: might want to move Category to Request Type?\n",
    "# also, we are using 'top small data'\n",
    "X = top_small_data[[\"Latitude\", \"Longitude\", \"Category\"]] # explanatory variables\n",
    "\n",
    "categories_nums = {\"Category\": {\"Street and Sidewalk Cleaning\" : 1,\n",
    "                                  \"Graffiti\" :10, \n",
    "                                  \"Encampments\" : 2,\n",
    "                                  \"Abandoned Vehicle\": 3, \n",
    "                                  \"Homeless Concerns\": 4, \n",
    "                                  \"Illegal Postings\": 5,\n",
    "                                  \"Rec and Park Requests\": 6, \n",
    "                                  \"Parking Enforcement\": 7, \n",
    "                                  \"Parking Enforcement\": 8,\n",
    "                                  \"Sidewalk or Curb\": 9}\n",
    "                  }\n",
    "\n",
    "top_small_data.replace(categories_nums, inplace = True)\n",
    "top_small_data.head()\n",
    "\n",
    "# succesfully replaced"
   ]
  },
  {
   "cell_type": "code",
   "execution_count": null,
   "metadata": {},
   "outputs": [],
   "source": [
    "# nothing in this cell is new, we're just using the updated dataframe\n",
    "# that contains categorical variables\n",
    "# train test split, again\n",
    "\n",
    "X = top_small_data[[\"Latitude\", \"Longitude\", \"Category\"]] # explanatory variables\n",
    "Y = top_small_data[\"ClosingTime\"] # target variable\n",
    "\n",
    "X_train, X_test, y_train, y_test = train_test_split(X, Y, test_size=0.33)\n",
    "clf_2 = KNeighborsClassifier(n_neighbors=5)\n",
    "\n",
    "clf_2.fit(X_train,y_train)\n",
    "y_pred_2 = clf_2.predict(X_test)\n",
    "accuracy_score(y_test,y_pred_2)\n",
    "\n",
    "# improved!!!! Went to ~50%!"
   ]
  },
  {
   "cell_type": "markdown",
   "metadata": {},
   "source": [
    "*Suggested next step: add Police District into the model*"
   ]
  }
 ],
 "metadata": {
  "kernelspec": {
   "display_name": "Python 3",
   "language": "python",
   "name": "python3"
  },
  "language_info": {
   "codemirror_mode": {
    "name": "ipython",
    "version": 3
   },
   "file_extension": ".py",
   "mimetype": "text/x-python",
   "name": "python",
   "nbconvert_exporter": "python",
   "pygments_lexer": "ipython3",
   "version": "3.6.6"
  }
 },
 "nbformat": 4,
 "nbformat_minor": 2
}
