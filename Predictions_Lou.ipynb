{
 "cells": [
  {
   "cell_type": "markdown",
   "metadata": {},
   "source": [
    "## Loading Data"
   ]
  },
  {
   "cell_type": "code",
   "execution_count": 6,
   "metadata": {},
   "outputs": [],
   "source": [
    "import pandas as pd\n",
    "import datetime\n",
    "import seaborn as sns\n",
    "from scipy import stats\n",
    "import numpy as np\n",
    "import random"
   ]
  },
  {
   "cell_type": "code",
   "execution_count": 3,
   "metadata": {},
   "outputs": [],
   "source": [
    "filename = \"./../data/311_Cases.csv\""
   ]
  },
  {
   "cell_type": "code",
   "execution_count": 4,
   "metadata": {},
   "outputs": [],
   "source": [
    "data = pd.read_csv(filename, encoding='utf8',engine='python').dropna()"
   ]
  },
  {
   "cell_type": "code",
   "execution_count": 5,
   "metadata": {},
   "outputs": [
    {
     "data": {
      "text/html": [
       "<div>\n",
       "<style scoped>\n",
       "    .dataframe tbody tr th:only-of-type {\n",
       "        vertical-align: middle;\n",
       "    }\n",
       "\n",
       "    .dataframe tbody tr th {\n",
       "        vertical-align: top;\n",
       "    }\n",
       "\n",
       "    .dataframe thead th {\n",
       "        text-align: right;\n",
       "    }\n",
       "</style>\n",
       "<table border=\"1\" class=\"dataframe\">\n",
       "  <thead>\n",
       "    <tr style=\"text-align: right;\">\n",
       "      <th></th>\n",
       "      <th>CaseID</th>\n",
       "      <th>Opened</th>\n",
       "      <th>Closed</th>\n",
       "      <th>Updated</th>\n",
       "      <th>Status</th>\n",
       "      <th>Status Notes</th>\n",
       "      <th>Responsible Agency</th>\n",
       "      <th>Category</th>\n",
       "      <th>Request Type</th>\n",
       "      <th>Request Details</th>\n",
       "      <th>Address</th>\n",
       "      <th>Supervisor District</th>\n",
       "      <th>Neighborhood</th>\n",
       "      <th>Police District</th>\n",
       "      <th>Latitude</th>\n",
       "      <th>Longitude</th>\n",
       "      <th>Point</th>\n",
       "      <th>Source</th>\n",
       "      <th>Media URL</th>\n",
       "    </tr>\n",
       "  </thead>\n",
       "  <tbody>\n",
       "    <tr>\n",
       "      <th>24810</th>\n",
       "      <td>3135216</td>\n",
       "      <td>12/05/2013 02:50:24 PM</td>\n",
       "      <td>06/25/2018 09:50:55 AM</td>\n",
       "      <td>06/25/2018 09:50:55 AM</td>\n",
       "      <td>Closed</td>\n",
       "      <td>Found 40 square feet of damaged/uneven sidewal...</td>\n",
       "      <td>DPW BSM Queue</td>\n",
       "      <td>Sidewalk or Curb</td>\n",
       "      <td>Sidewalk_Defect</td>\n",
       "      <td>Collapsed_sidewalk</td>\n",
       "      <td>920 VAN NESS AVE, SAN FRANCISCO, CA, 94109</td>\n",
       "      <td>6.0</td>\n",
       "      <td>Tenderloin</td>\n",
       "      <td>NORTHERN</td>\n",
       "      <td>37.78418</td>\n",
       "      <td>-122.4208</td>\n",
       "      <td>(37.78416124, -122.42081673)</td>\n",
       "      <td>Mobile/Open311</td>\n",
       "      <td>http://mobile311.sfgov.org/media/san_francisco...</td>\n",
       "    </tr>\n",
       "    <tr>\n",
       "      <th>86201</th>\n",
       "      <td>4203877</td>\n",
       "      <td>11/12/2014 08:46:11 PM</td>\n",
       "      <td>06/25/2018 10:38:19 AM</td>\n",
       "      <td>06/25/2018 10:38:19 AM</td>\n",
       "      <td>Closed</td>\n",
       "      <td>9 Sumner St: damaged sidewalk around utility v...</td>\n",
       "      <td>DPW BSM Queue</td>\n",
       "      <td>Sidewalk or Curb</td>\n",
       "      <td>Sidewalk_Defect</td>\n",
       "      <td>Collapsed_sidewalk</td>\n",
       "      <td>10 SUMNER ST, SAN FRANCISCO, CA, 94103</td>\n",
       "      <td>6.0</td>\n",
       "      <td>South of Market</td>\n",
       "      <td>SOUTHERN</td>\n",
       "      <td>37.77632</td>\n",
       "      <td>-122.4106</td>\n",
       "      <td>(37.77629119, -122.41061191)</td>\n",
       "      <td>Mobile/Open311</td>\n",
       "      <td>http://mobile311.sfgov.org/media/san_francisco...</td>\n",
       "    </tr>\n",
       "    <tr>\n",
       "      <th>86582</th>\n",
       "      <td>4223752</td>\n",
       "      <td>11/19/2014 10:48:56 AM</td>\n",
       "      <td>06/25/2018 10:22:00 AM</td>\n",
       "      <td>06/25/2018 10:22:00 AM</td>\n",
       "      <td>Closed</td>\n",
       "      <td>2515-2565 Bay Shore Blvd: damaged sidewalk nex...</td>\n",
       "      <td>DPW BSM Queue</td>\n",
       "      <td>Sidewalk or Curb</td>\n",
       "      <td>Sidewalk_Defect</td>\n",
       "      <td>Collapsed_sidewalk</td>\n",
       "      <td>Intersection of BAY SHORE BLVD and SUNNYDALE AVE</td>\n",
       "      <td>10.0</td>\n",
       "      <td>Little Hollywood</td>\n",
       "      <td>INGLESIDE</td>\n",
       "      <td>37.70903</td>\n",
       "      <td>-122.4048</td>\n",
       "      <td>(37.70885355, -122.4051094)</td>\n",
       "      <td>Mobile/Open311</td>\n",
       "      <td>http://mobile311.sfgov.org/media/san_francisco...</td>\n",
       "    </tr>\n",
       "    <tr>\n",
       "      <th>100891</th>\n",
       "      <td>10303151</td>\n",
       "      <td>01/01/2019 10:10:00 PM</td>\n",
       "      <td>01/08/2019 05:46:00 AM</td>\n",
       "      <td>01/08/2019 05:46:00 AM</td>\n",
       "      <td>Closed</td>\n",
       "      <td>01/07/2019 VEH GOA @1033 HOURS #338</td>\n",
       "      <td>DPT Abandoned Vehicles Work Queue</td>\n",
       "      <td>Abandoned Vehicle</td>\n",
       "      <td>Abandoned Vehicles</td>\n",
       "      <td>DPT Abandoned Vehicles Low</td>\n",
       "      <td>1097 OAKDALE AVE, SAN FRANCISCO, CA, 94124</td>\n",
       "      <td>10.0</td>\n",
       "      <td>Hunters Point</td>\n",
       "      <td>BAYVIEW</td>\n",
       "      <td>37.72940</td>\n",
       "      <td>-122.3813</td>\n",
       "      <td>(37.72939344, -122.38131978)</td>\n",
       "      <td>Web</td>\n",
       "      <td>http://mobile311.sfgov.org/media/san_francisco...</td>\n",
       "    </tr>\n",
       "    <tr>\n",
       "      <th>140933</th>\n",
       "      <td>10303744</td>\n",
       "      <td>01/02/2019 08:20:00 AM</td>\n",
       "      <td>01/08/2019 07:39:00 AM</td>\n",
       "      <td>01/08/2019 07:39:00 AM</td>\n",
       "      <td>Closed</td>\n",
       "      <td>01/07/2019  @1349 HRS #168</td>\n",
       "      <td>DPT Abandoned Vehicles Work Queue</td>\n",
       "      <td>Abandoned Vehicle</td>\n",
       "      <td>Abandoned Vehicles</td>\n",
       "      <td>DPT Abandoned Vehicles Low</td>\n",
       "      <td>Intersection of MALTA DR and VALLETTA CT</td>\n",
       "      <td>7.0</td>\n",
       "      <td>Miraloma Park</td>\n",
       "      <td>INGLESIDE</td>\n",
       "      <td>37.73619</td>\n",
       "      <td>-122.4444</td>\n",
       "      <td>(37.7362185, -122.4444058)</td>\n",
       "      <td>Mobile/Open311</td>\n",
       "      <td>http://mobile311.sfgov.org/media/san_francisco...</td>\n",
       "    </tr>\n",
       "  </tbody>\n",
       "</table>\n",
       "</div>"
      ],
      "text/plain": [
       "          CaseID                  Opened                  Closed  \\\n",
       "24810    3135216  12/05/2013 02:50:24 PM  06/25/2018 09:50:55 AM   \n",
       "86201    4203877  11/12/2014 08:46:11 PM  06/25/2018 10:38:19 AM   \n",
       "86582    4223752  11/19/2014 10:48:56 AM  06/25/2018 10:22:00 AM   \n",
       "100891  10303151  01/01/2019 10:10:00 PM  01/08/2019 05:46:00 AM   \n",
       "140933  10303744  01/02/2019 08:20:00 AM  01/08/2019 07:39:00 AM   \n",
       "\n",
       "                       Updated  Status  \\\n",
       "24810   06/25/2018 09:50:55 AM  Closed   \n",
       "86201   06/25/2018 10:38:19 AM  Closed   \n",
       "86582   06/25/2018 10:22:00 AM  Closed   \n",
       "100891  01/08/2019 05:46:00 AM  Closed   \n",
       "140933  01/08/2019 07:39:00 AM  Closed   \n",
       "\n",
       "                                             Status Notes  \\\n",
       "24810   Found 40 square feet of damaged/uneven sidewal...   \n",
       "86201   9 Sumner St: damaged sidewalk around utility v...   \n",
       "86582   2515-2565 Bay Shore Blvd: damaged sidewalk nex...   \n",
       "100891                01/07/2019 VEH GOA @1033 HOURS #338   \n",
       "140933                         01/07/2019  @1349 HRS #168   \n",
       "\n",
       "                       Responsible Agency           Category  \\\n",
       "24810                       DPW BSM Queue   Sidewalk or Curb   \n",
       "86201                       DPW BSM Queue   Sidewalk or Curb   \n",
       "86582                       DPW BSM Queue   Sidewalk or Curb   \n",
       "100891  DPT Abandoned Vehicles Work Queue  Abandoned Vehicle   \n",
       "140933  DPT Abandoned Vehicles Work Queue  Abandoned Vehicle   \n",
       "\n",
       "              Request Type             Request Details  \\\n",
       "24810      Sidewalk_Defect          Collapsed_sidewalk   \n",
       "86201      Sidewalk_Defect          Collapsed_sidewalk   \n",
       "86582      Sidewalk_Defect          Collapsed_sidewalk   \n",
       "100891  Abandoned Vehicles  DPT Abandoned Vehicles Low   \n",
       "140933  Abandoned Vehicles  DPT Abandoned Vehicles Low   \n",
       "\n",
       "                                                 Address  Supervisor District  \\\n",
       "24810         920 VAN NESS AVE, SAN FRANCISCO, CA, 94109                  6.0   \n",
       "86201             10 SUMNER ST, SAN FRANCISCO, CA, 94103                  6.0   \n",
       "86582   Intersection of BAY SHORE BLVD and SUNNYDALE AVE                 10.0   \n",
       "100891        1097 OAKDALE AVE, SAN FRANCISCO, CA, 94124                 10.0   \n",
       "140933          Intersection of MALTA DR and VALLETTA CT                  7.0   \n",
       "\n",
       "            Neighborhood Police District  Latitude  Longitude  \\\n",
       "24810         Tenderloin        NORTHERN  37.78418  -122.4208   \n",
       "86201    South of Market        SOUTHERN  37.77632  -122.4106   \n",
       "86582   Little Hollywood       INGLESIDE  37.70903  -122.4048   \n",
       "100891     Hunters Point         BAYVIEW  37.72940  -122.3813   \n",
       "140933     Miraloma Park       INGLESIDE  37.73619  -122.4444   \n",
       "\n",
       "                               Point          Source  \\\n",
       "24810   (37.78416124, -122.42081673)  Mobile/Open311   \n",
       "86201   (37.77629119, -122.41061191)  Mobile/Open311   \n",
       "86582    (37.70885355, -122.4051094)  Mobile/Open311   \n",
       "100891  (37.72939344, -122.38131978)             Web   \n",
       "140933    (37.7362185, -122.4444058)  Mobile/Open311   \n",
       "\n",
       "                                                Media URL  \n",
       "24810   http://mobile311.sfgov.org/media/san_francisco...  \n",
       "86201   http://mobile311.sfgov.org/media/san_francisco...  \n",
       "86582   http://mobile311.sfgov.org/media/san_francisco...  \n",
       "100891  http://mobile311.sfgov.org/media/san_francisco...  \n",
       "140933  http://mobile311.sfgov.org/media/san_francisco...  "
      ]
     },
     "execution_count": 5,
     "metadata": {},
     "output_type": "execute_result"
    }
   ],
   "source": [
    "# quick inspection\n",
    "len(data) # 3,362,678\n",
    "data.head()"
   ]
  },
  {
   "cell_type": "markdown",
   "metadata": {},
   "source": [
    "## Downsize data"
   ]
  },
  {
   "cell_type": "code",
   "execution_count": 34,
   "metadata": {},
   "outputs": [
    {
     "data": {
      "text/plain": [
       "53957"
      ]
     },
     "execution_count": 34,
     "metadata": {},
     "output_type": "execute_result"
    }
   ],
   "source": [
    "# set random seed\n",
    "random.seed(42)\n",
    "small_data = data.sample(n = int(len(data) * 0.1)) # keep 10%\n",
    "len(small_data) # 336,267"
   ]
  },
  {
   "cell_type": "markdown",
   "metadata": {},
   "source": [
    "## Select relevant variables\n",
    "Remember, the goal is to predict how long it takes to close a case, given neighborhood and category of complaint"
   ]
  },
  {
   "cell_type": "code",
   "execution_count": 35,
   "metadata": {},
   "outputs": [],
   "source": [
    "# note: might want to move Category to Request Type?\n",
    "X = small_data[[\"Latitude\", \"Longitude\" ]] #, \"Category\"]] # explanatory variables"
   ]
  },
  {
   "cell_type": "code",
   "execution_count": 38,
   "metadata": {},
   "outputs": [],
   "source": [
    "# NOTE: this takes some time\n",
    "timedelta = pd.to_datetime(small_data[\"Closed\"]) - pd.to_datetime(small_data[\"Opened\"])\n",
    "small_data[\"ClosingTime\"] = timedelta.dt.days\n",
    "Y = small_data[\"ClosingTime\"] # target variable"
   ]
  },
  {
   "cell_type": "code",
   "execution_count": 39,
   "metadata": {},
   "outputs": [
    {
     "data": {
      "text/plain": [
       "53957"
      ]
     },
     "execution_count": 39,
     "metadata": {},
     "output_type": "execute_result"
    }
   ],
   "source": [
    "len(small_data)"
   ]
  },
  {
   "cell_type": "markdown",
   "metadata": {},
   "source": [
    "# Outlier Detection: Visual Methods"
   ]
  },
  {
   "cell_type": "code",
   "execution_count": 40,
   "metadata": {},
   "outputs": [
    {
     "name": "stderr",
     "output_type": "stream",
     "text": [
      "/home/louiselai88gmail/anaconda3/lib/python3.6/site-packages/scipy/stats/stats.py:1713: FutureWarning: Using a non-tuple sequence for multidimensional indexing is deprecated; use `arr[tuple(seq)]` instead of `arr[seq]`. In the future this will be interpreted as an array index, `arr[np.array(seq)]`, which will result either in an error or a different result.\n",
      "  return np.add.reduce(sorted[indexer] * weights, axis=axis) / sumval\n",
      "/home/louiselai88gmail/anaconda3/lib/python3.6/site-packages/matplotlib/axes/_axes.py:6521: MatplotlibDeprecationWarning: \n",
      "The 'normed' kwarg was deprecated in Matplotlib 2.1 and will be removed in 3.1. Use 'density' instead.\n",
      "  alternative=\"'density'\", removal=\"3.1\")\n"
     ]
    },
    {
     "data": {
      "text/plain": [
       "<matplotlib.axes._subplots.AxesSubplot at 0x7f746af85b70>"
      ]
     },
     "execution_count": 40,
     "metadata": {},
     "output_type": "execute_result"
    },
    {
     "data": {
      "image/png": "[encoded data removed]",
      "text/plain": [
       "<Figure size 432x288 with 1 Axes>"
      ]
     },
     "metadata": {},
     "output_type": "display_data"
    }
   ],
   "source": [
    "sns.distplot(small_data.ClosingTime) # trash"
   ]
  },
  {
   "cell_type": "code",
   "execution_count": 41,
   "metadata": {},
   "outputs": [
    {
     "data": {
      "text/plain": [
       "<matplotlib.axes._subplots.AxesSubplot at 0x7f7499500320>"
      ]
     },
     "execution_count": 41,
     "metadata": {},
     "output_type": "execute_result"
    },
    {
     "data": {
      "image/png": "[encoded data removed]",
      "text/plain": [
       "<Figure size 432x288 with 1 Axes>"
      ]
     },
     "metadata": {},
     "output_type": "display_data"
    }
   ],
   "source": [
    "sns.boxplot(x=\"ClosingTime\", data=small_data) # trash also"
   ]
  },
  {
   "cell_type": "code",
   "execution_count": 42,
   "metadata": {},
   "outputs": [
    {
     "data": {
      "text/plain": [
       "<matplotlib.axes._subplots.AxesSubplot at 0x7f746802dc50>"
      ]
     },
     "execution_count": 42,
     "metadata": {},
     "output_type": "execute_result"
    },
    {
     "data": {
      "image/png": "[encoded data removed]",
      "text/plain": [
       "<Figure size 432x288 with 1 Axes>"
      ]
     },
     "metadata": {},
     "output_type": "display_data"
    }
   ],
   "source": [
    "sns.boxplot(x=\"ClosingTime\", y=\"Category\", data=small_data) # not very helpful visually. Too many categories!"
   ]
  },
  {
   "cell_type": "code",
   "execution_count": 43,
   "metadata": {},
   "outputs": [
    {
     "data": {
      "text/html": [
       "<div>\n",
       "<style scoped>\n",
       "    .dataframe tbody tr th:only-of-type {\n",
       "        vertical-align: middle;\n",
       "    }\n",
       "\n",
       "    .dataframe tbody tr th {\n",
       "        vertical-align: top;\n",
       "    }\n",
       "\n",
       "    .dataframe thead th {\n",
       "        text-align: right;\n",
       "    }\n",
       "</style>\n",
       "<table border=\"1\" class=\"dataframe\">\n",
       "  <thead>\n",
       "    <tr style=\"text-align: right;\">\n",
       "      <th></th>\n",
       "      <th>CaseID</th>\n",
       "      <th>Opened</th>\n",
       "      <th>Closed</th>\n",
       "      <th>Updated</th>\n",
       "      <th>Status</th>\n",
       "      <th>Status Notes</th>\n",
       "      <th>Responsible Agency</th>\n",
       "      <th>Request Type</th>\n",
       "      <th>Request Details</th>\n",
       "      <th>Address</th>\n",
       "      <th>Supervisor District</th>\n",
       "      <th>Neighborhood</th>\n",
       "      <th>Police District</th>\n",
       "      <th>Latitude</th>\n",
       "      <th>Longitude</th>\n",
       "      <th>Point</th>\n",
       "      <th>Source</th>\n",
       "      <th>Media URL</th>\n",
       "      <th>ClosingTime</th>\n",
       "    </tr>\n",
       "    <tr>\n",
       "      <th>Category</th>\n",
       "      <th></th>\n",
       "      <th></th>\n",
       "      <th></th>\n",
       "      <th></th>\n",
       "      <th></th>\n",
       "      <th></th>\n",
       "      <th></th>\n",
       "      <th></th>\n",
       "      <th></th>\n",
       "      <th></th>\n",
       "      <th></th>\n",
       "      <th></th>\n",
       "      <th></th>\n",
       "      <th></th>\n",
       "      <th></th>\n",
       "      <th></th>\n",
       "      <th></th>\n",
       "      <th></th>\n",
       "      <th></th>\n",
       "    </tr>\n",
       "  </thead>\n",
       "  <tbody>\n",
       "    <tr>\n",
       "      <th>Street and Sidewalk Cleaning</th>\n",
       "      <td>19962</td>\n",
       "      <td>19962</td>\n",
       "      <td>19962</td>\n",
       "      <td>19962</td>\n",
       "      <td>19962</td>\n",
       "      <td>19962</td>\n",
       "      <td>19962</td>\n",
       "      <td>19962</td>\n",
       "      <td>19962</td>\n",
       "      <td>19962</td>\n",
       "      <td>19962</td>\n",
       "      <td>19962</td>\n",
       "      <td>19962</td>\n",
       "      <td>19962</td>\n",
       "      <td>19962</td>\n",
       "      <td>19962</td>\n",
       "      <td>19962</td>\n",
       "      <td>19962</td>\n",
       "      <td>19962</td>\n",
       "    </tr>\n",
       "    <tr>\n",
       "      <th>Graffiti</th>\n",
       "      <td>13352</td>\n",
       "      <td>13352</td>\n",
       "      <td>13352</td>\n",
       "      <td>13352</td>\n",
       "      <td>13352</td>\n",
       "      <td>13352</td>\n",
       "      <td>13352</td>\n",
       "      <td>13352</td>\n",
       "      <td>13352</td>\n",
       "      <td>13352</td>\n",
       "      <td>13352</td>\n",
       "      <td>13352</td>\n",
       "      <td>13352</td>\n",
       "      <td>13352</td>\n",
       "      <td>13352</td>\n",
       "      <td>13352</td>\n",
       "      <td>13352</td>\n",
       "      <td>13352</td>\n",
       "      <td>13352</td>\n",
       "    </tr>\n",
       "    <tr>\n",
       "      <th>Encampments</th>\n",
       "      <td>5398</td>\n",
       "      <td>5398</td>\n",
       "      <td>5398</td>\n",
       "      <td>5398</td>\n",
       "      <td>5398</td>\n",
       "      <td>5398</td>\n",
       "      <td>5398</td>\n",
       "      <td>5398</td>\n",
       "      <td>5398</td>\n",
       "      <td>5398</td>\n",
       "      <td>5398</td>\n",
       "      <td>5398</td>\n",
       "      <td>5398</td>\n",
       "      <td>5398</td>\n",
       "      <td>5398</td>\n",
       "      <td>5398</td>\n",
       "      <td>5398</td>\n",
       "      <td>5398</td>\n",
       "      <td>5398</td>\n",
       "    </tr>\n",
       "    <tr>\n",
       "      <th>Abandoned Vehicle</th>\n",
       "      <td>2306</td>\n",
       "      <td>2306</td>\n",
       "      <td>2306</td>\n",
       "      <td>2306</td>\n",
       "      <td>2306</td>\n",
       "      <td>2306</td>\n",
       "      <td>2306</td>\n",
       "      <td>2306</td>\n",
       "      <td>2306</td>\n",
       "      <td>2306</td>\n",
       "      <td>2306</td>\n",
       "      <td>2306</td>\n",
       "      <td>2306</td>\n",
       "      <td>2306</td>\n",
       "      <td>2306</td>\n",
       "      <td>2306</td>\n",
       "      <td>2306</td>\n",
       "      <td>2306</td>\n",
       "      <td>2306</td>\n",
       "    </tr>\n",
       "    <tr>\n",
       "      <th>Homeless Concerns</th>\n",
       "      <td>2002</td>\n",
       "      <td>2002</td>\n",
       "      <td>2002</td>\n",
       "      <td>2002</td>\n",
       "      <td>2002</td>\n",
       "      <td>2002</td>\n",
       "      <td>2002</td>\n",
       "      <td>2002</td>\n",
       "      <td>2002</td>\n",
       "      <td>2002</td>\n",
       "      <td>2002</td>\n",
       "      <td>2002</td>\n",
       "      <td>2002</td>\n",
       "      <td>2002</td>\n",
       "      <td>2002</td>\n",
       "      <td>2002</td>\n",
       "      <td>2002</td>\n",
       "      <td>2002</td>\n",
       "      <td>2002</td>\n",
       "    </tr>\n",
       "    <tr>\n",
       "      <th>Illegal Postings</th>\n",
       "      <td>1491</td>\n",
       "      <td>1491</td>\n",
       "      <td>1491</td>\n",
       "      <td>1491</td>\n",
       "      <td>1491</td>\n",
       "      <td>1491</td>\n",
       "      <td>1491</td>\n",
       "      <td>1491</td>\n",
       "      <td>1491</td>\n",
       "      <td>1491</td>\n",
       "      <td>1491</td>\n",
       "      <td>1491</td>\n",
       "      <td>1491</td>\n",
       "      <td>1491</td>\n",
       "      <td>1491</td>\n",
       "      <td>1491</td>\n",
       "      <td>1491</td>\n",
       "      <td>1491</td>\n",
       "      <td>1491</td>\n",
       "    </tr>\n",
       "    <tr>\n",
       "      <th>Rec and Park Requests</th>\n",
       "      <td>1215</td>\n",
       "      <td>1215</td>\n",
       "      <td>1215</td>\n",
       "      <td>1215</td>\n",
       "      <td>1215</td>\n",
       "      <td>1215</td>\n",
       "      <td>1215</td>\n",
       "      <td>1215</td>\n",
       "      <td>1215</td>\n",
       "      <td>1215</td>\n",
       "      <td>1215</td>\n",
       "      <td>1215</td>\n",
       "      <td>1215</td>\n",
       "      <td>1215</td>\n",
       "      <td>1215</td>\n",
       "      <td>1215</td>\n",
       "      <td>1215</td>\n",
       "      <td>1215</td>\n",
       "      <td>1215</td>\n",
       "    </tr>\n",
       "    <tr>\n",
       "      <th>Parking Enforcement</th>\n",
       "      <td>1191</td>\n",
       "      <td>1191</td>\n",
       "      <td>1191</td>\n",
       "      <td>1191</td>\n",
       "      <td>1191</td>\n",
       "      <td>1191</td>\n",
       "      <td>1191</td>\n",
       "      <td>1191</td>\n",
       "      <td>1191</td>\n",
       "      <td>1191</td>\n",
       "      <td>1191</td>\n",
       "      <td>1191</td>\n",
       "      <td>1191</td>\n",
       "      <td>1191</td>\n",
       "      <td>1191</td>\n",
       "      <td>1191</td>\n",
       "      <td>1191</td>\n",
       "      <td>1191</td>\n",
       "      <td>1191</td>\n",
       "    </tr>\n",
       "    <tr>\n",
       "      <th>Sidewalk or Curb</th>\n",
       "      <td>1071</td>\n",
       "      <td>1071</td>\n",
       "      <td>1071</td>\n",
       "      <td>1071</td>\n",
       "      <td>1071</td>\n",
       "      <td>1071</td>\n",
       "      <td>1071</td>\n",
       "      <td>1071</td>\n",
       "      <td>1071</td>\n",
       "      <td>1071</td>\n",
       "      <td>1071</td>\n",
       "      <td>1071</td>\n",
       "      <td>1071</td>\n",
       "      <td>1071</td>\n",
       "      <td>1071</td>\n",
       "      <td>1071</td>\n",
       "      <td>1071</td>\n",
       "      <td>1071</td>\n",
       "      <td>1071</td>\n",
       "    </tr>\n",
       "  </tbody>\n",
       "</table>\n",
       "</div>"
      ],
      "text/plain": [
       "                              CaseID  Opened  Closed  Updated  Status  \\\n",
       "Category                                                                \n",
       "Street and Sidewalk Cleaning   19962   19962   19962    19962   19962   \n",
       "Graffiti                       13352   13352   13352    13352   13352   \n",
       "Encampments                     5398    5398    5398     5398    5398   \n",
       "Abandoned Vehicle               2306    2306    2306     2306    2306   \n",
       "Homeless Concerns               2002    2002    2002     2002    2002   \n",
       "Illegal Postings                1491    1491    1491     1491    1491   \n",
       "Rec and Park Requests           1215    1215    1215     1215    1215   \n",
       "Parking Enforcement             1191    1191    1191     1191    1191   \n",
       "Sidewalk or Curb                1071    1071    1071     1071    1071   \n",
       "\n",
       "                              Status Notes  Responsible Agency  Request Type  \\\n",
       "Category                                                                       \n",
       "Street and Sidewalk Cleaning         19962               19962         19962   \n",
       "Graffiti                             13352               13352         13352   \n",
       "Encampments                           5398                5398          5398   \n",
       "Abandoned Vehicle                     2306                2306          2306   \n",
       "Homeless Concerns                     2002                2002          2002   \n",
       "Illegal Postings                      1491                1491          1491   \n",
       "Rec and Park Requests                 1215                1215          1215   \n",
       "Parking Enforcement                   1191                1191          1191   \n",
       "Sidewalk or Curb                      1071                1071          1071   \n",
       "\n",
       "                              Request Details  Address  Supervisor District  \\\n",
       "Category                                                                      \n",
       "Street and Sidewalk Cleaning            19962    19962                19962   \n",
       "Graffiti                                13352    13352                13352   \n",
       "Encampments                              5398     5398                 5398   \n",
       "Abandoned Vehicle                        2306     2306                 2306   \n",
       "Homeless Concerns                        2002     2002                 2002   \n",
       "Illegal Postings                         1491     1491                 1491   \n",
       "Rec and Park Requests                    1215     1215                 1215   \n",
       "Parking Enforcement                      1191     1191                 1191   \n",
       "Sidewalk or Curb                         1071     1071                 1071   \n",
       "\n",
       "                              Neighborhood  Police District  Latitude  \\\n",
       "Category                                                                \n",
       "Street and Sidewalk Cleaning         19962            19962     19962   \n",
       "Graffiti                             13352            13352     13352   \n",
       "Encampments                           5398             5398      5398   \n",
       "Abandoned Vehicle                     2306             2306      2306   \n",
       "Homeless Concerns                     2002             2002      2002   \n",
       "Illegal Postings                      1491             1491      1491   \n",
       "Rec and Park Requests                 1215             1215      1215   \n",
       "Parking Enforcement                   1191             1191      1191   \n",
       "Sidewalk or Curb                      1071             1071      1071   \n",
       "\n",
       "                              Longitude  Point  Source  Media URL  ClosingTime  \n",
       "Category                                                                        \n",
       "Street and Sidewalk Cleaning      19962  19962   19962      19962        19962  \n",
       "Graffiti                          13352  13352   13352      13352        13352  \n",
       "Encampments                        5398   5398    5398       5398         5398  \n",
       "Abandoned Vehicle                  2306   2306    2306       2306         2306  \n",
       "Homeless Concerns                  2002   2002    2002       2002         2002  \n",
       "Illegal Postings                   1491   1491    1491       1491         1491  \n",
       "Rec and Park Requests              1215   1215    1215       1215         1215  \n",
       "Parking Enforcement                1191   1191    1191       1191         1191  \n",
       "Sidewalk or Curb                   1071   1071    1071       1071         1071  "
      ]
     },
     "execution_count": 43,
     "metadata": {},
     "output_type": "execute_result"
    }
   ],
   "source": [
    "# visualizing the top categories only\n",
    "small_data.groupby(\"Category\").count().sort_values(by=['CaseID'], ascending=False).head(9) # it was observerd that after 10, the numbers dropped"
   ]
  },
  {
   "cell_type": "code",
   "execution_count": 44,
   "metadata": {},
   "outputs": [
    {
     "data": {
      "text/plain": [
       "<matplotlib.axes._subplots.AxesSubplot at 0x7f746266d748>"
      ]
     },
     "execution_count": 44,
     "metadata": {},
     "output_type": "execute_result"
    },
    {
     "data": {
      "image/png": "[encoded data removed]",
      "text/plain": [
       "<Figure size 432x288 with 1 Axes>"
      ]
     },
     "metadata": {},
     "output_type": "display_data"
    }
   ],
   "source": [
    "top_categories = [\"Street and Sidewalk Cleaning\", \"Graffiti\", \"Encampments\",\n",
    "                 \"Abandoned Vehicle\", \"Homeless Concerns\", \"Illegal Postings\",\n",
    "                  \"Rec and Park Requests\", \"Parking Enforcement\", \"Parking Enforcement\",\n",
    "                  \"Sidewalk or Curb\"]\n",
    "\n",
    "top_small_data = small_data[small_data[\"Category\"].isin(top_categories, )]\n",
    "\n",
    "sns.boxplot(x=\"ClosingTime\", y=\"Category\", data=top_small_data)\n",
    "\n",
    "# the boxplot is still bad. Thus, we turn to statistical methods"
   ]
  },
  {
   "cell_type": "markdown",
   "metadata": {},
   "source": [
    "# Outlier Detection 2: Statistical Methods"
   ]
  },
  {
   "cell_type": "code",
   "execution_count": 18,
   "metadata": {},
   "outputs": [
    {
     "name": "stdout",
     "output_type": "stream",
     "text": [
      "Within 3 s.d's       : 52994\n",
      "Greather than 3 s.d's: 963\n",
      "Total                : 53957\n"
     ]
    }
   ],
   "source": [
    "z = np.abs(stats.zscore(small_data['ClosingTime'])) # gives us the z-score for each closing time\n",
    "threshold = 3 # standard deviations\n",
    "\n",
    "data_reduced = small_data[(z < threshold)] # \n",
    "outliers = small_data[(z >= threshold)]\n",
    "\n",
    "print(\"Within 3 s.d's       : {}\".format(len(data_reduced)))\n",
    "print(\"Greather than 3 s.d's: {}\".format(len(outliers)))\n",
    "print(\"Total                : {}\".format(len(small_data)))\n",
    "\n",
    "# Thus, we've now removed 963 rows of outlier data\n",
    "# Success!"
   ]
  },
  {
   "cell_type": "markdown",
   "metadata": {},
   "source": [
    "# Plotting, again"
   ]
  },
  {
   "cell_type": "code",
   "execution_count": 19,
   "metadata": {},
   "outputs": [
    {
     "name": "stderr",
     "output_type": "stream",
     "text": [
      "/home/louiselai88gmail/anaconda3/lib/python3.6/site-packages/scipy/stats/stats.py:1713: FutureWarning: Using a non-tuple sequence for multidimensional indexing is deprecated; use `arr[tuple(seq)]` instead of `arr[seq]`. In the future this will be interpreted as an array index, `arr[np.array(seq)]`, which will result either in an error or a different result.\n",
      "  return np.add.reduce(sorted[indexer] * weights, axis=axis) / sumval\n",
      "/home/louiselai88gmail/anaconda3/lib/python3.6/site-packages/matplotlib/axes/_axes.py:6521: MatplotlibDeprecationWarning: \n",
      "The 'normed' kwarg was deprecated in Matplotlib 2.1 and will be removed in 3.1. Use 'density' instead.\n",
      "  alternative=\"'density'\", removal=\"3.1\")\n"
     ]
    },
    {
     "data": {
      "text/plain": [
       "<matplotlib.axes._subplots.AxesSubplot at 0x7f749d462c50>"
      ]
     },
     "execution_count": 19,
     "metadata": {},
     "output_type": "execute_result"
    },
    {
     "data": {
      "image/png": "[encoded data removed]",
      "text/plain": [
       "<Figure size 432x288 with 1 Axes>"
      ]
     },
     "metadata": {},
     "output_type": "display_data"
    }
   ],
   "source": [
    "# After successfully removing outliers, we plot again\n",
    "sns.distplot(data_reduced.ClosingTime) \n",
    "\n",
    "# .. well. We see that there is simply a huge concentration around \n",
    "# zero days for closing time. We have to live with this for now."
   ]
  },
  {
   "cell_type": "markdown",
   "metadata": {},
   "source": [
    "# Prediction, finally"
   ]
  },
  {
   "cell_type": "code",
   "execution_count": 20,
   "metadata": {},
   "outputs": [],
   "source": [
    "from sklearn.model_selection import train_test_split"
   ]
  },
  {
   "cell_type": "code",
   "execution_count": null,
   "metadata": {},
   "outputs": [],
   "source": [
    "# first, let us try without outlier removal"
   ]
  },
  {
   "cell_type": "code",
   "execution_count": 21,
   "metadata": {},
   "outputs": [],
   "source": [
    "X_train, X_test, y_train, y_test = train_test_split(X, Y, test_size=0.33)"
   ]
  },
  {
   "cell_type": "markdown",
   "metadata": {},
   "source": [
    "# KNN"
   ]
  },
  {
   "cell_type": "code",
   "execution_count": 22,
   "metadata": {},
   "outputs": [],
   "source": [
    "from sklearn.neighbors import KNeighborsClassifier"
   ]
  },
  {
   "cell_type": "code",
   "execution_count": 23,
   "metadata": {},
   "outputs": [
    {
     "data": {
      "text/plain": [
       "KNeighborsClassifier(algorithm='auto', leaf_size=30, metric='minkowski',\n",
       "           metric_params=None, n_jobs=None, n_neighbors=5, p=2,\n",
       "           weights='uniform')"
      ]
     },
     "execution_count": 23,
     "metadata": {},
     "output_type": "execute_result"
    }
   ],
   "source": [
    "clf_2 = KNeighborsClassifier(n_neighbors=5)\n",
    "clf_2.fit(X_train,y_train)"
   ]
  },
  {
   "cell_type": "code",
   "execution_count": 24,
   "metadata": {},
   "outputs": [
    {
     "data": {
      "text/plain": [
       "0.45490284173873974"
      ]
     },
     "execution_count": 24,
     "metadata": {},
     "output_type": "execute_result"
    }
   ],
   "source": [
    "from sklearn.metrics import accuracy_score\n",
    "y_pred_2 = clf_2.predict(X_test)\n",
    "accuracy_score(y_test,y_pred_2)\n",
    "\n",
    "# not great. Moving on to add more categorical variables."
   ]
  },
  {
   "cell_type": "markdown",
   "metadata": {},
   "source": [
    "# KNN with categorical variables\n",
    "(still with no outlier removal, yet)"
   ]
  },
  {
   "cell_type": "code",
   "execution_count": 46,
   "metadata": {},
   "outputs": [
    {
     "name": "stderr",
     "output_type": "stream",
     "text": [
      "/home/louiselai88gmail/anaconda3/lib/python3.6/site-packages/pandas/core/generic.py:5817: SettingWithCopyWarning: \n",
      "A value is trying to be set on a copy of a slice from a DataFrame.\n",
      "Try using .loc[row_indexer,col_indexer] = value instead\n",
      "\n",
      "See the caveats in the documentation: http://pandas.pydata.org/pandas-docs/stable/indexing.html#indexing-view-versus-copy\n",
      "  regex=regex)\n"
     ]
    },
    {
     "data": {
      "text/html": [
       "<div>\n",
       "<style scoped>\n",
       "    .dataframe tbody tr th:only-of-type {\n",
       "        vertical-align: middle;\n",
       "    }\n",
       "\n",
       "    .dataframe tbody tr th {\n",
       "        vertical-align: top;\n",
       "    }\n",
       "\n",
       "    .dataframe thead th {\n",
       "        text-align: right;\n",
       "    }\n",
       "</style>\n",
       "<table border=\"1\" class=\"dataframe\">\n",
       "  <thead>\n",
       "    <tr style=\"text-align: right;\">\n",
       "      <th></th>\n",
       "      <th>CaseID</th>\n",
       "      <th>Opened</th>\n",
       "      <th>Closed</th>\n",
       "      <th>Updated</th>\n",
       "      <th>Status</th>\n",
       "      <th>Status Notes</th>\n",
       "      <th>Responsible Agency</th>\n",
       "      <th>Category</th>\n",
       "      <th>Request Type</th>\n",
       "      <th>Request Details</th>\n",
       "      <th>Address</th>\n",
       "      <th>Supervisor District</th>\n",
       "      <th>Neighborhood</th>\n",
       "      <th>Police District</th>\n",
       "      <th>Latitude</th>\n",
       "      <th>Longitude</th>\n",
       "      <th>Point</th>\n",
       "      <th>Source</th>\n",
       "      <th>Media URL</th>\n",
       "      <th>ClosingTime</th>\n",
       "    </tr>\n",
       "  </thead>\n",
       "  <tbody>\n",
       "    <tr>\n",
       "      <th>2441062</th>\n",
       "      <td>9034956</td>\n",
       "      <td>05/22/2018 01:14:29 PM</td>\n",
       "      <td>05/22/2018 02:24:29 PM</td>\n",
       "      <td>05/22/2018 02:24:29 PM</td>\n",
       "      <td>Closed</td>\n",
       "      <td>Pickup completed.</td>\n",
       "      <td>Recology_Abandoned</td>\n",
       "      <td>2</td>\n",
       "      <td>Encampment items</td>\n",
       "      <td>Cart Pickup</td>\n",
       "      <td>1 TRAINOR ST, SAN FRANCISCO, CA, 94103</td>\n",
       "      <td>9.0</td>\n",
       "      <td>Mission</td>\n",
       "      <td>MISSION</td>\n",
       "      <td>37.76926</td>\n",
       "      <td>-122.4143</td>\n",
       "      <td>(37.76950468, -122.41442734)</td>\n",
       "      <td>Mobile/Open311</td>\n",
       "      <td>http://mobile311.sfgov.org/media/san_francisco...</td>\n",
       "      <td>0</td>\n",
       "    </tr>\n",
       "    <tr>\n",
       "      <th>3275523</th>\n",
       "      <td>9178698</td>\n",
       "      <td>06/24/2018 12:38:26 PM</td>\n",
       "      <td>06/24/2018 01:18:00 PM</td>\n",
       "      <td>06/24/2018 01:18:00 PM</td>\n",
       "      <td>Closed</td>\n",
       "      <td>Private container</td>\n",
       "      <td>Recology_Overflowing</td>\n",
       "      <td>1</td>\n",
       "      <td>City_garbage_can_overflowing</td>\n",
       "      <td>City_garbage_can_overflowing</td>\n",
       "      <td>Intersection of HOLLY PARK CIR and APPLETON AVE</td>\n",
       "      <td>9.0</td>\n",
       "      <td>Holly Park</td>\n",
       "      <td>INGLESIDE</td>\n",
       "      <td>37.73755</td>\n",
       "      <td>-122.4208</td>\n",
       "      <td>(37.73761065, -122.42091)</td>\n",
       "      <td>Mobile/Open311</td>\n",
       "      <td>http://mobile311.sfgov.org/media/san_francisco...</td>\n",
       "      <td>0</td>\n",
       "    </tr>\n",
       "    <tr>\n",
       "      <th>2189925</th>\n",
       "      <td>6628465</td>\n",
       "      <td>12/14/2016 01:29:43 PM</td>\n",
       "      <td>12/28/2016 03:31:23 AM</td>\n",
       "      <td>12/28/2016 03:31:23 AM</td>\n",
       "      <td>Closed</td>\n",
       "      <td>Per PSA manager: Graffiti has been abated.</td>\n",
       "      <td>RPD Park Service Area 5 Queue</td>\n",
       "      <td>10</td>\n",
       "      <td>Graffiti on Other_enter_additional_details_below</td>\n",
       "      <td>Other_enter_additional_details_below - Offensive</td>\n",
       "      <td>Corona Heights, , SAN FRANCISCO, CA, 94114</td>\n",
       "      <td>8.0</td>\n",
       "      <td>Corona Heights</td>\n",
       "      <td>PARK</td>\n",
       "      <td>37.76460</td>\n",
       "      <td>-122.4370</td>\n",
       "      <td>(37.765, -122.439)</td>\n",
       "      <td>Mobile/Open311</td>\n",
       "      <td>http://mobile311.sfgov.org/media/san_francisco...</td>\n",
       "      <td>13</td>\n",
       "    </tr>\n",
       "    <tr>\n",
       "      <th>1737550</th>\n",
       "      <td>5382979</td>\n",
       "      <td>12/17/2015 09:17:30 AM</td>\n",
       "      <td>12/17/2015 10:36:52 AM</td>\n",
       "      <td>12/17/2015 10:36:52 AM</td>\n",
       "      <td>Closed</td>\n",
       "      <td>resolved: Pickup completed</td>\n",
       "      <td>Recology_Abandoned</td>\n",
       "      <td>1</td>\n",
       "      <td>City_garbage_can_overflowing</td>\n",
       "      <td>City_garbage_can_overflowing</td>\n",
       "      <td>566 FELL ST, SAN FRANCISCO, CA, 94102</td>\n",
       "      <td>5.0</td>\n",
       "      <td>Hayes Valley</td>\n",
       "      <td>NORTHERN</td>\n",
       "      <td>37.77578</td>\n",
       "      <td>-122.4275</td>\n",
       "      <td>(37.775491467901, -122.427242949599)</td>\n",
       "      <td>Mobile/Open311</td>\n",
       "      <td>http://mobile311.sfgov.org/media/san_francisco...</td>\n",
       "      <td>0</td>\n",
       "    </tr>\n",
       "    <tr>\n",
       "      <th>2254688</th>\n",
       "      <td>9299071</td>\n",
       "      <td>07/22/2018 08:56:30 AM</td>\n",
       "      <td>07/25/2018 12:00:00 AM</td>\n",
       "      <td>07/25/2018 12:00:00 AM</td>\n",
       "      <td>Closed</td>\n",
       "      <td>No Action Described</td>\n",
       "      <td>DPW BSM Queue</td>\n",
       "      <td>9</td>\n",
       "      <td>Sidewalk_Defect</td>\n",
       "      <td>Lifted_sidewalk_other</td>\n",
       "      <td>1298 POTRERO AVE, SAN FRANCISCO, CA, 94110</td>\n",
       "      <td>9.0</td>\n",
       "      <td>Mission</td>\n",
       "      <td>MISSION</td>\n",
       "      <td>37.75148</td>\n",
       "      <td>-122.4064</td>\n",
       "      <td>(37.75153725, -122.40638213)</td>\n",
       "      <td>Mobile/Open311</td>\n",
       "      <td>http://mobile311.sfgov.org/media/san_francisco...</td>\n",
       "      <td>2</td>\n",
       "    </tr>\n",
       "  </tbody>\n",
       "</table>\n",
       "</div>"
      ],
      "text/plain": [
       "          CaseID                  Opened                  Closed  \\\n",
       "2441062  9034956  05/22/2018 01:14:29 PM  05/22/2018 02:24:29 PM   \n",
       "3275523  9178698  06/24/2018 12:38:26 PM  06/24/2018 01:18:00 PM   \n",
       "2189925  6628465  12/14/2016 01:29:43 PM  12/28/2016 03:31:23 AM   \n",
       "1737550  5382979  12/17/2015 09:17:30 AM  12/17/2015 10:36:52 AM   \n",
       "2254688  9299071  07/22/2018 08:56:30 AM  07/25/2018 12:00:00 AM   \n",
       "\n",
       "                        Updated  Status  \\\n",
       "2441062  05/22/2018 02:24:29 PM  Closed   \n",
       "3275523  06/24/2018 01:18:00 PM  Closed   \n",
       "2189925  12/28/2016 03:31:23 AM  Closed   \n",
       "1737550  12/17/2015 10:36:52 AM  Closed   \n",
       "2254688  07/25/2018 12:00:00 AM  Closed   \n",
       "\n",
       "                                       Status Notes  \\\n",
       "2441062                           Pickup completed.   \n",
       "3275523                           Private container   \n",
       "2189925  Per PSA manager: Graffiti has been abated.   \n",
       "1737550                  resolved: Pickup completed   \n",
       "2254688                         No Action Described   \n",
       "\n",
       "                    Responsible Agency  Category  \\\n",
       "2441062             Recology_Abandoned         2   \n",
       "3275523           Recology_Overflowing         1   \n",
       "2189925  RPD Park Service Area 5 Queue        10   \n",
       "1737550             Recology_Abandoned         1   \n",
       "2254688                  DPW BSM Queue         9   \n",
       "\n",
       "                                             Request Type  \\\n",
       "2441062                                  Encampment items   \n",
       "3275523                      City_garbage_can_overflowing   \n",
       "2189925  Graffiti on Other_enter_additional_details_below   \n",
       "1737550                      City_garbage_can_overflowing   \n",
       "2254688                                   Sidewalk_Defect   \n",
       "\n",
       "                                          Request Details  \\\n",
       "2441062                                       Cart Pickup   \n",
       "3275523                      City_garbage_can_overflowing   \n",
       "2189925  Other_enter_additional_details_below - Offensive   \n",
       "1737550                      City_garbage_can_overflowing   \n",
       "2254688                             Lifted_sidewalk_other   \n",
       "\n",
       "                                                 Address  Supervisor District  \\\n",
       "2441062           1 TRAINOR ST, SAN FRANCISCO, CA, 94103                  9.0   \n",
       "3275523  Intersection of HOLLY PARK CIR and APPLETON AVE                  9.0   \n",
       "2189925       Corona Heights, , SAN FRANCISCO, CA, 94114                  8.0   \n",
       "1737550            566 FELL ST, SAN FRANCISCO, CA, 94102                  5.0   \n",
       "2254688       1298 POTRERO AVE, SAN FRANCISCO, CA, 94110                  9.0   \n",
       "\n",
       "           Neighborhood Police District  Latitude  Longitude  \\\n",
       "2441062         Mission         MISSION  37.76926  -122.4143   \n",
       "3275523      Holly Park       INGLESIDE  37.73755  -122.4208   \n",
       "2189925  Corona Heights            PARK  37.76460  -122.4370   \n",
       "1737550    Hayes Valley        NORTHERN  37.77578  -122.4275   \n",
       "2254688         Mission         MISSION  37.75148  -122.4064   \n",
       "\n",
       "                                        Point          Source  \\\n",
       "2441062          (37.76950468, -122.41442734)  Mobile/Open311   \n",
       "3275523             (37.73761065, -122.42091)  Mobile/Open311   \n",
       "2189925                    (37.765, -122.439)  Mobile/Open311   \n",
       "1737550  (37.775491467901, -122.427242949599)  Mobile/Open311   \n",
       "2254688          (37.75153725, -122.40638213)  Mobile/Open311   \n",
       "\n",
       "                                                 Media URL  ClosingTime  \n",
       "2441062  http://mobile311.sfgov.org/media/san_francisco...            0  \n",
       "3275523  http://mobile311.sfgov.org/media/san_francisco...            0  \n",
       "2189925  http://mobile311.sfgov.org/media/san_francisco...           13  \n",
       "1737550  http://mobile311.sfgov.org/media/san_francisco...            0  \n",
       "2254688  http://mobile311.sfgov.org/media/san_francisco...            2  "
      ]
     },
     "execution_count": 46,
     "metadata": {},
     "output_type": "execute_result"
    }
   ],
   "source": [
    "# note: might want to move Category to Request Type?\n",
    "# also, we are using 'top small data'\n",
    "X = top_small_data[[\"Latitude\", \"Longitude\", \"Category\"]] # explanatory variables\n",
    "\n",
    "categories_nums = {\"Category\": {\"Street and Sidewalk Cleaning\" : 1,\n",
    "                                  \"Graffiti\" :10, \n",
    "                                  \"Encampments\" : 2,\n",
    "                                  \"Abandoned Vehicle\": 3, \n",
    "                                  \"Homeless Concerns\": 4, \n",
    "                                  \"Illegal Postings\": 5,\n",
    "                                  \"Rec and Park Requests\": 6, \n",
    "                                  \"Parking Enforcement\": 7, \n",
    "                                  \"Parking Enforcement\": 8,\n",
    "                                  \"Sidewalk or Curb\": 9}\n",
    "                  }\n",
    "\n",
    "top_small_data.replace(categories_nums, inplace = True)\n",
    "top_small_data.head()\n",
    "\n",
    "# succesfully replaced"
   ]
  },
  {
   "cell_type": "code",
   "execution_count": 52,
   "metadata": {},
   "outputs": [
    {
     "data": {
      "text/plain": [
       "0.508240197007009"
      ]
     },
     "execution_count": 52,
     "metadata": {},
     "output_type": "execute_result"
    }
   ],
   "source": [
    "# nothing in this cell is new, we're just using the updated dataframe\n",
    "# that contains categorical variables\n",
    "# train test split, again\n",
    "\n",
    "X = top_small_data[[\"Latitude\", \"Longitude\", \"Category\"]] # explanatory variables\n",
    "Y = top_small_data[\"ClosingTime\"] # target variable\n",
    "\n",
    "X_train, X_test, y_train, y_test = train_test_split(X, Y, test_size=0.33)\n",
    "clf_2 = KNeighborsClassifier(n_neighbors=5)\n",
    "\n",
    "clf_2.fit(X_train,y_train)\n",
    "y_pred_2 = clf_2.predict(X_test)\n",
    "accuracy_score(y_test,y_pred_2)\n",
    "\n",
    "# improved!!!! Went to ~50%!"
   ]
  },
  {
   "cell_type": "markdown",
   "metadata": {},
   "source": [
    "*Suggested next step: add Police District into the model*"
   ]
  }
 ],
 "metadata": {
  "kernelspec": {
   "display_name": "Python 3",
   "language": "python",
   "name": "python3"
  },
  "language_info": {
   "codemirror_mode": {
    "name": "ipython",
    "version": 3
   },
   "file_extension": ".py",
   "mimetype": "text/x-python",
   "name": "python",
   "nbconvert_exporter": "python",
   "pygments_lexer": "ipython3",
   "version": "3.6.6"
  }
 },
 "nbformat": 4,
 "nbformat_minor": 2
}
