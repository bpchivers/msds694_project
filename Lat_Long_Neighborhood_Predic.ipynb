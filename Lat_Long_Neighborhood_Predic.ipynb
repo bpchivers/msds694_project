{
 "cells": [
  {
   "cell_type": "code",
   "execution_count": 1,
   "metadata": {
    "ExecuteTime": {
     "end_time": "2019-01-14T00:27:27.094646Z",
     "start_time": "2019-01-14T00:27:26.020666Z"
    }
   },
   "outputs": [],
   "source": [
    "import pandas as pd\n"
   ]
  },
  {
   "cell_type": "code",
   "execution_count": 2,
   "metadata": {
    "ExecuteTime": {
     "end_time": "2019-01-14T00:27:27.101412Z",
     "start_time": "2019-01-14T00:27:27.097949Z"
    }
   },
   "outputs": [],
   "source": [
    "file = \"Data/311_Cases.csv\""
   ]
  },
  {
   "cell_type": "code",
   "execution_count": 3,
   "metadata": {
    "ExecuteTime": {
     "end_time": "2019-01-14T00:27:47.292028Z",
     "start_time": "2019-01-14T00:27:27.110451Z"
    }
   },
   "outputs": [
    {
     "name": "stderr",
     "output_type": "stream",
     "text": [
      "/Users/bpc_msds2019/miniconda3/envs/msds694/lib/python3.6/site-packages/IPython/core/interactiveshell.py:3020: DtypeWarning: Columns (18) have mixed types. Specify dtype option on import or set low_memory=False.\n",
      "  interactivity=interactivity, compiler=compiler, result=result)\n"
     ]
    }
   ],
   "source": [
    "csv = pd.read_csv(file)"
   ]
  },
  {
   "cell_type": "code",
   "execution_count": 4,
   "metadata": {
    "ExecuteTime": {
     "end_time": "2019-01-14T00:27:47.735361Z",
     "start_time": "2019-01-14T00:27:47.293819Z"
    }
   },
   "outputs": [],
   "source": [
    "data = csv[[\"Latitude\",\"Longitude\",\"Neighborhood\"]].dropna()"
   ]
  },
  {
   "cell_type": "code",
   "execution_count": 5,
   "metadata": {
    "ExecuteTime": {
     "end_time": "2019-01-14T00:27:47.760527Z",
     "start_time": "2019-01-14T00:27:47.738290Z"
    },
    "scrolled": true
   },
   "outputs": [
    {
     "data": {
      "text/html": [
       "<div>\n",
       "<style scoped>\n",
       "    .dataframe tbody tr th:only-of-type {\n",
       "        vertical-align: middle;\n",
       "    }\n",
       "\n",
       "    .dataframe tbody tr th {\n",
       "        vertical-align: top;\n",
       "    }\n",
       "\n",
       "    .dataframe thead th {\n",
       "        text-align: right;\n",
       "    }\n",
       "</style>\n",
       "<table border=\"1\" class=\"dataframe\">\n",
       "  <thead>\n",
       "    <tr style=\"text-align: right;\">\n",
       "      <th></th>\n",
       "      <th>Latitude</th>\n",
       "      <th>Longitude</th>\n",
       "      <th>Neighborhood</th>\n",
       "    </tr>\n",
       "  </thead>\n",
       "  <tbody>\n",
       "    <tr>\n",
       "      <th>0</th>\n",
       "      <td>37.80493</td>\n",
       "      <td>-122.4381</td>\n",
       "      <td>Marina</td>\n",
       "    </tr>\n",
       "    <tr>\n",
       "      <th>1</th>\n",
       "      <td>37.78257</td>\n",
       "      <td>-122.4308</td>\n",
       "      <td>Western Addition</td>\n",
       "    </tr>\n",
       "    <tr>\n",
       "      <th>2</th>\n",
       "      <td>37.78120</td>\n",
       "      <td>-122.4650</td>\n",
       "      <td>Inner Richmond</td>\n",
       "    </tr>\n",
       "    <tr>\n",
       "      <th>3</th>\n",
       "      <td>37.74384</td>\n",
       "      <td>-122.4244</td>\n",
       "      <td>Noe Valley</td>\n",
       "    </tr>\n",
       "    <tr>\n",
       "      <th>4</th>\n",
       "      <td>37.78361</td>\n",
       "      <td>-122.3898</td>\n",
       "      <td>South Beach</td>\n",
       "    </tr>\n",
       "  </tbody>\n",
       "</table>\n",
       "</div>"
      ],
      "text/plain": [
       "   Latitude  Longitude      Neighborhood\n",
       "0  37.80493  -122.4381            Marina\n",
       "1  37.78257  -122.4308  Western Addition\n",
       "2  37.78120  -122.4650    Inner Richmond\n",
       "3  37.74384  -122.4244        Noe Valley\n",
       "4  37.78361  -122.3898       South Beach"
      ]
     },
     "execution_count": 5,
     "metadata": {},
     "output_type": "execute_result"
    }
   ],
   "source": [
    "data.head()"
   ]
  },
  {
   "cell_type": "code",
   "execution_count": 6,
   "metadata": {
    "ExecuteTime": {
     "end_time": "2019-01-14T00:27:47.786738Z",
     "start_time": "2019-01-14T00:27:47.764315Z"
    }
   },
   "outputs": [],
   "source": [
    "X = data[[\"Latitude\",\"Longitude\"]]\n",
    "Y = data[\"Neighborhood\"]"
   ]
  },
  {
   "cell_type": "markdown",
   "metadata": {},
   "source": [
    "# Test Train Split"
   ]
  },
  {
   "cell_type": "code",
   "execution_count": 7,
   "metadata": {
    "ExecuteTime": {
     "end_time": "2019-01-14T00:27:48.635054Z",
     "start_time": "2019-01-14T00:27:47.789150Z"
    }
   },
   "outputs": [],
   "source": [
    "from sklearn.model_selection import train_test_split\n"
   ]
  },
  {
   "cell_type": "code",
   "execution_count": 8,
   "metadata": {
    "ExecuteTime": {
     "end_time": "2019-01-14T00:27:49.432130Z",
     "start_time": "2019-01-14T00:27:48.637819Z"
    }
   },
   "outputs": [],
   "source": [
    "X_train, X_test, y_train, y_test = train_test_split(X, Y, test_size=0.33)"
   ]
  },
  {
   "cell_type": "markdown",
   "metadata": {},
   "source": [
    "# SVM (lelelelel this never finished on local)"
   ]
  },
  {
   "cell_type": "code",
   "execution_count": 35,
   "metadata": {
    "ExecuteTime": {
     "end_time": "2019-01-14T00:32:17.073513Z",
     "start_time": "2019-01-14T00:32:17.070321Z"
    }
   },
   "outputs": [],
   "source": [
    "#from sklearn import svm"
   ]
  },
  {
   "cell_type": "code",
   "execution_count": 36,
   "metadata": {
    "ExecuteTime": {
     "end_time": "2019-01-14T00:32:17.279966Z",
     "start_time": "2019-01-14T00:32:17.269083Z"
    }
   },
   "outputs": [],
   "source": [
    "#clf_1 = svm.SVC(gamma=\"auto\")\n",
    "#clf_1.fit(X_train,y_train)"
   ]
  },
  {
   "cell_type": "code",
   "execution_count": 37,
   "metadata": {
    "ExecuteTime": {
     "end_time": "2019-01-14T00:32:17.480877Z",
     "start_time": "2019-01-14T00:32:17.470921Z"
    }
   },
   "outputs": [],
   "source": [
    "#y_pred_1 = clf_1.predict(X_test)\n"
   ]
  },
  {
   "cell_type": "code",
   "execution_count": 38,
   "metadata": {
    "ExecuteTime": {
     "end_time": "2019-01-14T00:32:17.723570Z",
     "start_time": "2019-01-14T00:32:17.716595Z"
    }
   },
   "outputs": [],
   "source": [
    "#from sklearn.metrics import accuracy_score\n",
    "#accuracy_score(y_test,y_pred_1)"
   ]
  },
  {
   "cell_type": "markdown",
   "metadata": {},
   "source": [
    "## Nearest Neighbors"
   ]
  },
  {
   "cell_type": "code",
   "execution_count": 31,
   "metadata": {
    "ExecuteTime": {
     "end_time": "2019-01-14T00:30:57.666952Z",
     "start_time": "2019-01-14T00:30:57.661584Z"
    }
   },
   "outputs": [],
   "source": [
    "from sklearn.neighbors import KNeighborsClassifier\n"
   ]
  },
  {
   "cell_type": "code",
   "execution_count": 32,
   "metadata": {
    "ExecuteTime": {
     "end_time": "2019-01-14T00:31:04.468770Z",
     "start_time": "2019-01-14T00:30:57.949683Z"
    }
   },
   "outputs": [
    {
     "data": {
      "text/plain": [
       "KNeighborsClassifier(algorithm='auto', leaf_size=30, metric='minkowski',\n",
       "           metric_params=None, n_jobs=None, n_neighbors=5, p=2,\n",
       "           weights='uniform')"
      ]
     },
     "execution_count": 32,
     "metadata": {},
     "output_type": "execute_result"
    }
   ],
   "source": [
    "clf_2 = KNeighborsClassifier(n_neighbors=5)\n",
    "clf_2.fit(X_train,y_train)"
   ]
  },
  {
   "cell_type": "code",
   "execution_count": 33,
   "metadata": {
    "ExecuteTime": {
     "end_time": "2019-01-14T00:31:14.400262Z",
     "start_time": "2019-01-14T00:31:04.471794Z"
    }
   },
   "outputs": [],
   "source": [
    "y_pred_2 = clf_2.predict(X_test)\n"
   ]
  },
  {
   "cell_type": "code",
   "execution_count": 34,
   "metadata": {
    "ExecuteTime": {
     "end_time": "2019-01-14T00:31:15.790512Z",
     "start_time": "2019-01-14T00:31:14.402602Z"
    }
   },
   "outputs": [
    {
     "data": {
      "text/plain": [
       "0.9815462917026153"
      ]
     },
     "execution_count": 34,
     "metadata": {},
     "output_type": "execute_result"
    }
   ],
   "source": [
    "accuracy_score(y_test,y_pred_2)"
   ]
  },
  {
   "cell_type": "code",
   "execution_count": null,
   "metadata": {},
   "outputs": [],
   "source": []
  }
 ],
 "metadata": {
  "kernelspec": {
   "display_name": "Python 3",
   "language": "python",
   "name": "python3"
  },
  "language_info": {
   "codemirror_mode": {
    "name": "ipython",
    "version": 3
   },
   "file_extension": ".py",
   "mimetype": "text/x-python",
   "name": "python",
   "nbconvert_exporter": "python",
   "pygments_lexer": "ipython3",
   "version": "3.6.8"
  }
 },
 "nbformat": 4,
 "nbformat_minor": 2
}
