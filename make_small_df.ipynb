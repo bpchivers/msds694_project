{
 "cells": [
  {
   "cell_type": "code",
   "execution_count": 3,
   "metadata": {},
   "outputs": [],
   "source": [
    "import pandas as pd\n",
    "import datetime\n",
    "import seaborn as sns\n",
    "from scipy import stats\n",
    "import numpy as np\n",
    "import random"
   ]
  },
  {
   "cell_type": "code",
   "execution_count": 1,
   "metadata": {},
   "outputs": [],
   "source": [
    "filename = \"./../data/311_Cases.csv\""
   ]
  },
  {
   "cell_type": "code",
   "execution_count": 4,
   "metadata": {},
   "outputs": [],
   "source": [
    "data = pd.read_csv(filename, encoding='utf8',engine='python').dropna()"
   ]
  },
  {
   "cell_type": "code",
   "execution_count": 8,
   "metadata": {},
   "outputs": [
    {
     "name": "stdout",
     "output_type": "stream",
     "text": [
      "539576\n"
     ]
    },
    {
     "data": {
      "text/html": [
       "<div>\n",
       "<style scoped>\n",
       "    .dataframe tbody tr th:only-of-type {\n",
       "        vertical-align: middle;\n",
       "    }\n",
       "\n",
       "    .dataframe tbody tr th {\n",
       "        vertical-align: top;\n",
       "    }\n",
       "\n",
       "    .dataframe thead th {\n",
       "        text-align: right;\n",
       "    }\n",
       "</style>\n",
       "<table border=\"1\" class=\"dataframe\">\n",
       "  <thead>\n",
       "    <tr style=\"text-align: right;\">\n",
       "      <th></th>\n",
       "      <th>CaseID</th>\n",
       "      <th>Opened</th>\n",
       "      <th>Closed</th>\n",
       "      <th>Updated</th>\n",
       "      <th>Status</th>\n",
       "      <th>Status Notes</th>\n",
       "      <th>Responsible Agency</th>\n",
       "      <th>Category</th>\n",
       "      <th>Request Type</th>\n",
       "      <th>Request Details</th>\n",
       "      <th>Address</th>\n",
       "      <th>Supervisor District</th>\n",
       "      <th>Neighborhood</th>\n",
       "      <th>Police District</th>\n",
       "      <th>Latitude</th>\n",
       "      <th>Longitude</th>\n",
       "      <th>Point</th>\n",
       "      <th>Source</th>\n",
       "      <th>Media URL</th>\n",
       "    </tr>\n",
       "  </thead>\n",
       "  <tbody>\n",
       "    <tr>\n",
       "      <th>24810</th>\n",
       "      <td>3135216</td>\n",
       "      <td>12/05/2013 02:50:24 PM</td>\n",
       "      <td>06/25/2018 09:50:55 AM</td>\n",
       "      <td>06/25/2018 09:50:55 AM</td>\n",
       "      <td>Closed</td>\n",
       "      <td>Found 40 square feet of damaged/uneven sidewal...</td>\n",
       "      <td>DPW BSM Queue</td>\n",
       "      <td>Sidewalk or Curb</td>\n",
       "      <td>Sidewalk_Defect</td>\n",
       "      <td>Collapsed_sidewalk</td>\n",
       "      <td>920 VAN NESS AVE, SAN FRANCISCO, CA, 94109</td>\n",
       "      <td>6.0</td>\n",
       "      <td>Tenderloin</td>\n",
       "      <td>NORTHERN</td>\n",
       "      <td>37.78418</td>\n",
       "      <td>-122.4208</td>\n",
       "      <td>(37.78416124, -122.42081673)</td>\n",
       "      <td>Mobile/Open311</td>\n",
       "      <td>http://mobile311.sfgov.org/media/san_francisco...</td>\n",
       "    </tr>\n",
       "    <tr>\n",
       "      <th>86201</th>\n",
       "      <td>4203877</td>\n",
       "      <td>11/12/2014 08:46:11 PM</td>\n",
       "      <td>06/25/2018 10:38:19 AM</td>\n",
       "      <td>06/25/2018 10:38:19 AM</td>\n",
       "      <td>Closed</td>\n",
       "      <td>9 Sumner St: damaged sidewalk around utility v...</td>\n",
       "      <td>DPW BSM Queue</td>\n",
       "      <td>Sidewalk or Curb</td>\n",
       "      <td>Sidewalk_Defect</td>\n",
       "      <td>Collapsed_sidewalk</td>\n",
       "      <td>10 SUMNER ST, SAN FRANCISCO, CA, 94103</td>\n",
       "      <td>6.0</td>\n",
       "      <td>South of Market</td>\n",
       "      <td>SOUTHERN</td>\n",
       "      <td>37.77632</td>\n",
       "      <td>-122.4106</td>\n",
       "      <td>(37.77629119, -122.41061191)</td>\n",
       "      <td>Mobile/Open311</td>\n",
       "      <td>http://mobile311.sfgov.org/media/san_francisco...</td>\n",
       "    </tr>\n",
       "    <tr>\n",
       "      <th>86582</th>\n",
       "      <td>4223752</td>\n",
       "      <td>11/19/2014 10:48:56 AM</td>\n",
       "      <td>06/25/2018 10:22:00 AM</td>\n",
       "      <td>06/25/2018 10:22:00 AM</td>\n",
       "      <td>Closed</td>\n",
       "      <td>2515-2565 Bay Shore Blvd: damaged sidewalk nex...</td>\n",
       "      <td>DPW BSM Queue</td>\n",
       "      <td>Sidewalk or Curb</td>\n",
       "      <td>Sidewalk_Defect</td>\n",
       "      <td>Collapsed_sidewalk</td>\n",
       "      <td>Intersection of BAY SHORE BLVD and SUNNYDALE AVE</td>\n",
       "      <td>10.0</td>\n",
       "      <td>Little Hollywood</td>\n",
       "      <td>INGLESIDE</td>\n",
       "      <td>37.70903</td>\n",
       "      <td>-122.4048</td>\n",
       "      <td>(37.70885355, -122.4051094)</td>\n",
       "      <td>Mobile/Open311</td>\n",
       "      <td>http://mobile311.sfgov.org/media/san_francisco...</td>\n",
       "    </tr>\n",
       "    <tr>\n",
       "      <th>100891</th>\n",
       "      <td>10303151</td>\n",
       "      <td>01/01/2019 10:10:00 PM</td>\n",
       "      <td>01/08/2019 05:46:00 AM</td>\n",
       "      <td>01/08/2019 05:46:00 AM</td>\n",
       "      <td>Closed</td>\n",
       "      <td>01/07/2019 VEH GOA @1033 HOURS #338</td>\n",
       "      <td>DPT Abandoned Vehicles Work Queue</td>\n",
       "      <td>Abandoned Vehicle</td>\n",
       "      <td>Abandoned Vehicles</td>\n",
       "      <td>DPT Abandoned Vehicles Low</td>\n",
       "      <td>1097 OAKDALE AVE, SAN FRANCISCO, CA, 94124</td>\n",
       "      <td>10.0</td>\n",
       "      <td>Hunters Point</td>\n",
       "      <td>BAYVIEW</td>\n",
       "      <td>37.72940</td>\n",
       "      <td>-122.3813</td>\n",
       "      <td>(37.72939344, -122.38131978)</td>\n",
       "      <td>Web</td>\n",
       "      <td>http://mobile311.sfgov.org/media/san_francisco...</td>\n",
       "    </tr>\n",
       "    <tr>\n",
       "      <th>140933</th>\n",
       "      <td>10303744</td>\n",
       "      <td>01/02/2019 08:20:00 AM</td>\n",
       "      <td>01/08/2019 07:39:00 AM</td>\n",
       "      <td>01/08/2019 07:39:00 AM</td>\n",
       "      <td>Closed</td>\n",
       "      <td>01/07/2019  @1349 HRS #168</td>\n",
       "      <td>DPT Abandoned Vehicles Work Queue</td>\n",
       "      <td>Abandoned Vehicle</td>\n",
       "      <td>Abandoned Vehicles</td>\n",
       "      <td>DPT Abandoned Vehicles Low</td>\n",
       "      <td>Intersection of MALTA DR and VALLETTA CT</td>\n",
       "      <td>7.0</td>\n",
       "      <td>Miraloma Park</td>\n",
       "      <td>INGLESIDE</td>\n",
       "      <td>37.73619</td>\n",
       "      <td>-122.4444</td>\n",
       "      <td>(37.7362185, -122.4444058)</td>\n",
       "      <td>Mobile/Open311</td>\n",
       "      <td>http://mobile311.sfgov.org/media/san_francisco...</td>\n",
       "    </tr>\n",
       "  </tbody>\n",
       "</table>\n",
       "</div>"
      ],
      "text/plain": [
       "          CaseID                  Opened                  Closed  \\\n",
       "24810    3135216  12/05/2013 02:50:24 PM  06/25/2018 09:50:55 AM   \n",
       "86201    4203877  11/12/2014 08:46:11 PM  06/25/2018 10:38:19 AM   \n",
       "86582    4223752  11/19/2014 10:48:56 AM  06/25/2018 10:22:00 AM   \n",
       "100891  10303151  01/01/2019 10:10:00 PM  01/08/2019 05:46:00 AM   \n",
       "140933  10303744  01/02/2019 08:20:00 AM  01/08/2019 07:39:00 AM   \n",
       "\n",
       "                       Updated  Status  \\\n",
       "24810   06/25/2018 09:50:55 AM  Closed   \n",
       "86201   06/25/2018 10:38:19 AM  Closed   \n",
       "86582   06/25/2018 10:22:00 AM  Closed   \n",
       "100891  01/08/2019 05:46:00 AM  Closed   \n",
       "140933  01/08/2019 07:39:00 AM  Closed   \n",
       "\n",
       "                                             Status Notes  \\\n",
       "24810   Found 40 square feet of damaged/uneven sidewal...   \n",
       "86201   9 Sumner St: damaged sidewalk around utility v...   \n",
       "86582   2515-2565 Bay Shore Blvd: damaged sidewalk nex...   \n",
       "100891                01/07/2019 VEH GOA @1033 HOURS #338   \n",
       "140933                         01/07/2019  @1349 HRS #168   \n",
       "\n",
       "                       Responsible Agency           Category  \\\n",
       "24810                       DPW BSM Queue   Sidewalk or Curb   \n",
       "86201                       DPW BSM Queue   Sidewalk or Curb   \n",
       "86582                       DPW BSM Queue   Sidewalk or Curb   \n",
       "100891  DPT Abandoned Vehicles Work Queue  Abandoned Vehicle   \n",
       "140933  DPT Abandoned Vehicles Work Queue  Abandoned Vehicle   \n",
       "\n",
       "              Request Type             Request Details  \\\n",
       "24810      Sidewalk_Defect          Collapsed_sidewalk   \n",
       "86201      Sidewalk_Defect          Collapsed_sidewalk   \n",
       "86582      Sidewalk_Defect          Collapsed_sidewalk   \n",
       "100891  Abandoned Vehicles  DPT Abandoned Vehicles Low   \n",
       "140933  Abandoned Vehicles  DPT Abandoned Vehicles Low   \n",
       "\n",
       "                                                 Address  Supervisor District  \\\n",
       "24810         920 VAN NESS AVE, SAN FRANCISCO, CA, 94109                  6.0   \n",
       "86201             10 SUMNER ST, SAN FRANCISCO, CA, 94103                  6.0   \n",
       "86582   Intersection of BAY SHORE BLVD and SUNNYDALE AVE                 10.0   \n",
       "100891        1097 OAKDALE AVE, SAN FRANCISCO, CA, 94124                 10.0   \n",
       "140933          Intersection of MALTA DR and VALLETTA CT                  7.0   \n",
       "\n",
       "            Neighborhood Police District  Latitude  Longitude  \\\n",
       "24810         Tenderloin        NORTHERN  37.78418  -122.4208   \n",
       "86201    South of Market        SOUTHERN  37.77632  -122.4106   \n",
       "86582   Little Hollywood       INGLESIDE  37.70903  -122.4048   \n",
       "100891     Hunters Point         BAYVIEW  37.72940  -122.3813   \n",
       "140933     Miraloma Park       INGLESIDE  37.73619  -122.4444   \n",
       "\n",
       "                               Point          Source  \\\n",
       "24810   (37.78416124, -122.42081673)  Mobile/Open311   \n",
       "86201   (37.77629119, -122.41061191)  Mobile/Open311   \n",
       "86582    (37.70885355, -122.4051094)  Mobile/Open311   \n",
       "100891  (37.72939344, -122.38131978)             Web   \n",
       "140933    (37.7362185, -122.4444058)  Mobile/Open311   \n",
       "\n",
       "                                                Media URL  \n",
       "24810   http://mobile311.sfgov.org/media/san_francisco...  \n",
       "86201   http://mobile311.sfgov.org/media/san_francisco...  \n",
       "86582   http://mobile311.sfgov.org/media/san_francisco...  \n",
       "100891  http://mobile311.sfgov.org/media/san_francisco...  \n",
       "140933  http://mobile311.sfgov.org/media/san_francisco...  "
      ]
     },
     "execution_count": 8,
     "metadata": {},
     "output_type": "execute_result"
    }
   ],
   "source": [
    "# quick inspection\n",
    "print(len(data)) # 539,576 (after dropping NAs)\n",
    "data.head()"
   ]
  },
  {
   "cell_type": "code",
   "execution_count": 9,
   "metadata": {},
   "outputs": [
    {
     "data": {
      "text/plain": [
       "107915"
      ]
     },
     "execution_count": 9,
     "metadata": {},
     "output_type": "execute_result"
    }
   ],
   "source": [
    "# set random seed\n",
    "random.seed(42)\n",
    "small_data = data.sample(n = int(len(data) * 0.2)) # keep 20%\n",
    "len(small_data) # 107,915"
   ]
  },
  {
   "cell_type": "markdown",
   "metadata": {},
   "source": [
    "# Select relevant variables"
   ]
  },
  {
   "cell_type": "code",
   "execution_count": 17,
   "metadata": {},
   "outputs": [],
   "source": [
    "# create ClosingTime (target variable)\n",
    "timedelta = pd.to_datetime(small_data[\"Closed\"]) - pd.to_datetime(small_data[\"Opened\"])"
   ]
  },
  {
   "cell_type": "code",
   "execution_count": 37,
   "metadata": {},
   "outputs": [],
   "source": [
    "small_data['Closing Time'] = timedelta.dt.days\n",
    "for_csv =  small_data[['Closing Time', \"Neighborhood\", \"Category\", 'Police District', 'Responsible Agency']]"
   ]
  },
  {
   "cell_type": "markdown",
   "metadata": {},
   "source": [
    "# Save to CSV"
   ]
  },
  {
   "cell_type": "code",
   "execution_count": 38,
   "metadata": {},
   "outputs": [],
   "source": [
    "for_csv.to_csv(\"./../data/311_Cases_small.csv\", header=False, index=False)"
   ]
  },
  {
   "cell_type": "code",
   "execution_count": null,
   "metadata": {},
   "outputs": [],
   "source": []
  }
 ],
 "metadata": {
  "kernelspec": {
   "display_name": "Python 3",
   "language": "python",
   "name": "python3"
  },
  "language_info": {
   "codemirror_mode": {
    "name": "ipython",
    "version": 3
   },
   "file_extension": ".py",
   "mimetype": "text/x-python",
   "name": "python",
   "nbconvert_exporter": "python",
   "pygments_lexer": "ipython3",
   "version": "3.6.6"
  }
 },
 "nbformat": 4,
 "nbformat_minor": 2
}
