{
 "cells": [
  {
   "cell_type": "code",
   "execution_count": 1,
   "metadata": {
    "ExecuteTime": {
     "end_time": "2019-01-14T00:59:01.645156Z",
     "start_time": "2019-01-14T00:59:01.285963Z"
    }
   },
   "outputs": [],
   "source": [
    "import pandas as pd\n",
    "import numpy as np"
   ]
  },
  {
   "cell_type": "code",
   "execution_count": 2,
   "metadata": {
    "ExecuteTime": {
     "end_time": "2019-01-14T00:59:01.651534Z",
     "start_time": "2019-01-14T00:59:01.647955Z"
    }
   },
   "outputs": [],
   "source": [
    "file = \"Data/311_Cases.csv\""
   ]
  },
  {
   "cell_type": "code",
   "execution_count": 3,
   "metadata": {
    "ExecuteTime": {
     "end_time": "2019-01-14T00:59:20.770074Z",
     "start_time": "2019-01-14T00:59:01.654192Z"
    }
   },
   "outputs": [
    {
     "name": "stderr",
     "output_type": "stream",
     "text": [
      "/Users/bpc_msds2019/miniconda3/envs/msds694/lib/python3.6/site-packages/IPython/core/interactiveshell.py:3020: DtypeWarning: Columns (18) have mixed types. Specify dtype option on import or set low_memory=False.\n",
      "  interactivity=interactivity, compiler=compiler, result=result)\n"
     ]
    }
   ],
   "source": [
    "csv = pd.read_csv(file)"
   ]
  },
  {
   "cell_type": "code",
   "execution_count": 4,
   "metadata": {
    "ExecuteTime": {
     "end_time": "2019-01-14T00:59:21.650165Z",
     "start_time": "2019-01-14T00:59:20.773185Z"
    }
   },
   "outputs": [],
   "source": [
    "csv = csv[pd.notnull(csv['Closed'])]"
   ]
  },
  {
   "cell_type": "code",
   "execution_count": 5,
   "metadata": {
    "ExecuteTime": {
     "end_time": "2019-01-14T00:59:21.663482Z",
     "start_time": "2019-01-14T00:59:21.653812Z"
    }
   },
   "outputs": [
    {
     "data": {
      "text/plain": [
       "3234430"
      ]
     },
     "execution_count": 5,
     "metadata": {},
     "output_type": "execute_result"
    }
   ],
   "source": [
    "len(csv)"
   ]
  },
  {
   "cell_type": "code",
   "execution_count": 6,
   "metadata": {
    "ExecuteTime": {
     "end_time": "2019-01-14T00:59:21.670187Z",
     "start_time": "2019-01-14T00:59:21.665542Z"
    }
   },
   "outputs": [],
   "source": [
    "data = csv[3224430:3234430]"
   ]
  },
  {
   "cell_type": "code",
   "execution_count": 7,
   "metadata": {
    "ExecuteTime": {
     "end_time": "2019-01-14T00:59:24.004010Z",
     "start_time": "2019-01-14T00:59:21.673916Z"
    }
   },
   "outputs": [
    {
     "name": "stderr",
     "output_type": "stream",
     "text": [
      "/Users/bpc_msds2019/miniconda3/envs/msds694/lib/python3.6/site-packages/ipykernel_launcher.py:1: SettingWithCopyWarning: \n",
      "A value is trying to be set on a copy of a slice from a DataFrame.\n",
      "Try using .loc[row_indexer,col_indexer] = value instead\n",
      "\n",
      "See the caveats in the documentation: http://pandas.pydata.org/pandas-docs/stable/indexing.html#indexing-view-versus-copy\n",
      "  \"\"\"Entry point for launching an IPython kernel.\n"
     ]
    }
   ],
   "source": [
    "data[\"time_to_close\"] = pd.to_datetime(data['Closed']) - pd.to_datetime(data['Opened'])"
   ]
  },
  {
   "cell_type": "code",
   "execution_count": 8,
   "metadata": {
    "ExecuteTime": {
     "end_time": "2019-01-14T00:59:24.037527Z",
     "start_time": "2019-01-14T00:59:24.005854Z"
    }
   },
   "outputs": [
    {
     "data": {
      "text/html": [
       "<div>\n",
       "<style scoped>\n",
       "    .dataframe tbody tr th:only-of-type {\n",
       "        vertical-align: middle;\n",
       "    }\n",
       "\n",
       "    .dataframe tbody tr th {\n",
       "        vertical-align: top;\n",
       "    }\n",
       "\n",
       "    .dataframe thead th {\n",
       "        text-align: right;\n",
       "    }\n",
       "</style>\n",
       "<table border=\"1\" class=\"dataframe\">\n",
       "  <thead>\n",
       "    <tr style=\"text-align: right;\">\n",
       "      <th></th>\n",
       "      <th>CaseID</th>\n",
       "      <th>Opened</th>\n",
       "      <th>Closed</th>\n",
       "      <th>Updated</th>\n",
       "      <th>Status</th>\n",
       "      <th>Status Notes</th>\n",
       "      <th>Responsible Agency</th>\n",
       "      <th>Category</th>\n",
       "      <th>Request Type</th>\n",
       "      <th>Request Details</th>\n",
       "      <th>Address</th>\n",
       "      <th>Supervisor District</th>\n",
       "      <th>Neighborhood</th>\n",
       "      <th>Police District</th>\n",
       "      <th>Latitude</th>\n",
       "      <th>Longitude</th>\n",
       "      <th>Point</th>\n",
       "      <th>Source</th>\n",
       "      <th>Media URL</th>\n",
       "      <th>time_to_close</th>\n",
       "    </tr>\n",
       "  </thead>\n",
       "  <tbody>\n",
       "    <tr>\n",
       "      <th>3349117</th>\n",
       "      <td>9989165</td>\n",
       "      <td>12/29/2018 11:51:11 AM</td>\n",
       "      <td>12/29/2018 07:32:00 PM</td>\n",
       "      <td>12/29/2018 07:32:00 PM</td>\n",
       "      <td>Closed</td>\n",
       "      <td>Serviced</td>\n",
       "      <td>Recology_Overflowing</td>\n",
       "      <td>Street and Sidewalk Cleaning</td>\n",
       "      <td>City_garbage_can_overflowing</td>\n",
       "      <td>City_garbage_can_overflowing</td>\n",
       "      <td>345 CONGDON ST, SAN FRANCISCO, CA, 94112</td>\n",
       "      <td>11.0</td>\n",
       "      <td>Mission Terrace</td>\n",
       "      <td>INGLESIDE</td>\n",
       "      <td>37.72879</td>\n",
       "      <td>-122.4259</td>\n",
       "      <td>(37.72879406, -122.42585139)</td>\n",
       "      <td>Web</td>\n",
       "      <td>NaN</td>\n",
       "      <td>07:40:49</td>\n",
       "    </tr>\n",
       "    <tr>\n",
       "      <th>3349118</th>\n",
       "      <td>9989168</td>\n",
       "      <td>12/29/2018 11:51:55 AM</td>\n",
       "      <td>12/29/2018 12:43:22 PM</td>\n",
       "      <td>12/29/2018 12:43:22 PM</td>\n",
       "      <td>Closed</td>\n",
       "      <td>Pickup completed.</td>\n",
       "      <td>Recology_Abandoned</td>\n",
       "      <td>Street and Sidewalk Cleaning</td>\n",
       "      <td>Bulky Items</td>\n",
       "      <td>Furniture</td>\n",
       "      <td>Intersection of BROADWAY and LEAVENWORTH ST</td>\n",
       "      <td>3.0</td>\n",
       "      <td>Russian Hill</td>\n",
       "      <td>CENTRAL</td>\n",
       "      <td>37.79662</td>\n",
       "      <td>-122.4168</td>\n",
       "      <td>(37.79659558, -122.4168394)</td>\n",
       "      <td>Mobile/Open311</td>\n",
       "      <td>NaN</td>\n",
       "      <td>00:51:27</td>\n",
       "    </tr>\n",
       "    <tr>\n",
       "      <th>3349119</th>\n",
       "      <td>9989175</td>\n",
       "      <td>12/29/2018 11:53:06 AM</td>\n",
       "      <td>12/29/2018 12:05:59 PM</td>\n",
       "      <td>12/29/2018 12:05:59 PM</td>\n",
       "      <td>Closed</td>\n",
       "      <td>THIS CASE HAS BEEN SENT GOLDEN GATE</td>\n",
       "      <td>Recology_Abandoned</td>\n",
       "      <td>Street and Sidewalk Cleaning</td>\n",
       "      <td>Bulky Items</td>\n",
       "      <td>Boxed or Bagged Items</td>\n",
       "      <td>176 VALPARAISO ST, SAN FRANCISCO, CA, 94133</td>\n",
       "      <td>3.0</td>\n",
       "      <td>Russian Hill</td>\n",
       "      <td>CENTRAL</td>\n",
       "      <td>37.80112</td>\n",
       "      <td>-122.4157</td>\n",
       "      <td>(37.80119087, -122.41568286)</td>\n",
       "      <td>Mobile/Open311</td>\n",
       "      <td>NaN</td>\n",
       "      <td>00:12:53</td>\n",
       "    </tr>\n",
       "    <tr>\n",
       "      <th>3349120</th>\n",
       "      <td>9989180</td>\n",
       "      <td>12/29/2018 11:55:00 AM</td>\n",
       "      <td>12/29/2018 12:03:10 PM</td>\n",
       "      <td>12/29/2018 12:03:10 PM</td>\n",
       "      <td>Closed</td>\n",
       "      <td>See CAD# 183631339 for details.</td>\n",
       "      <td>Parking Enforcement Dispatch Queue</td>\n",
       "      <td>Parking Enforcement</td>\n",
       "      <td>Parking_on_Sidewalk</td>\n",
       "      <td>teale - Moped - 21V2310</td>\n",
       "      <td>17 WHITE ST, SAN FRANCISCO, CA, 94109</td>\n",
       "      <td>3.0</td>\n",
       "      <td>Russian Hill</td>\n",
       "      <td>CENTRAL</td>\n",
       "      <td>37.79751</td>\n",
       "      <td>-122.4197</td>\n",
       "      <td>(37.79750974, -122.41965395)</td>\n",
       "      <td>Phone</td>\n",
       "      <td>NaN</td>\n",
       "      <td>00:08:10</td>\n",
       "    </tr>\n",
       "    <tr>\n",
       "      <th>3349122</th>\n",
       "      <td>9989186</td>\n",
       "      <td>12/29/2018 11:56:55 AM</td>\n",
       "      <td>12/29/2018 12:58:09 PM</td>\n",
       "      <td>12/29/2018 12:58:09 PM</td>\n",
       "      <td>Closed</td>\n",
       "      <td>Pickup completed.</td>\n",
       "      <td>Recology_Abandoned</td>\n",
       "      <td>Street and Sidewalk Cleaning</td>\n",
       "      <td>Bulky Items</td>\n",
       "      <td>Refrigerator</td>\n",
       "      <td>2845 GOLDEN GATE AVE, SAN FRANCISCO, CA, 94118</td>\n",
       "      <td>1.0</td>\n",
       "      <td>Lone Mountain</td>\n",
       "      <td>RICHMOND</td>\n",
       "      <td>37.77621</td>\n",
       "      <td>-122.4574</td>\n",
       "      <td>(37.77620739, -122.45735113)</td>\n",
       "      <td>Integrated Agency</td>\n",
       "      <td>NaN</td>\n",
       "      <td>01:01:14</td>\n",
       "    </tr>\n",
       "  </tbody>\n",
       "</table>\n",
       "</div>"
      ],
      "text/plain": [
       "          CaseID                  Opened                  Closed  \\\n",
       "3349117  9989165  12/29/2018 11:51:11 AM  12/29/2018 07:32:00 PM   \n",
       "3349118  9989168  12/29/2018 11:51:55 AM  12/29/2018 12:43:22 PM   \n",
       "3349119  9989175  12/29/2018 11:53:06 AM  12/29/2018 12:05:59 PM   \n",
       "3349120  9989180  12/29/2018 11:55:00 AM  12/29/2018 12:03:10 PM   \n",
       "3349122  9989186  12/29/2018 11:56:55 AM  12/29/2018 12:58:09 PM   \n",
       "\n",
       "                        Updated  Status                         Status Notes  \\\n",
       "3349117  12/29/2018 07:32:00 PM  Closed                             Serviced   \n",
       "3349118  12/29/2018 12:43:22 PM  Closed                    Pickup completed.   \n",
       "3349119  12/29/2018 12:05:59 PM  Closed  THIS CASE HAS BEEN SENT GOLDEN GATE   \n",
       "3349120  12/29/2018 12:03:10 PM  Closed      See CAD# 183631339 for details.   \n",
       "3349122  12/29/2018 12:58:09 PM  Closed                    Pickup completed.   \n",
       "\n",
       "                         Responsible Agency                      Category  \\\n",
       "3349117                Recology_Overflowing  Street and Sidewalk Cleaning   \n",
       "3349118                  Recology_Abandoned  Street and Sidewalk Cleaning   \n",
       "3349119                  Recology_Abandoned  Street and Sidewalk Cleaning   \n",
       "3349120  Parking Enforcement Dispatch Queue           Parking Enforcement   \n",
       "3349122                  Recology_Abandoned  Street and Sidewalk Cleaning   \n",
       "\n",
       "                         Request Type               Request Details  \\\n",
       "3349117  City_garbage_can_overflowing  City_garbage_can_overflowing   \n",
       "3349118                   Bulky Items                     Furniture   \n",
       "3349119                   Bulky Items         Boxed or Bagged Items   \n",
       "3349120           Parking_on_Sidewalk       teale - Moped - 21V2310   \n",
       "3349122                   Bulky Items                  Refrigerator   \n",
       "\n",
       "                                                Address  Supervisor District  \\\n",
       "3349117        345 CONGDON ST, SAN FRANCISCO, CA, 94112                 11.0   \n",
       "3349118     Intersection of BROADWAY and LEAVENWORTH ST                  3.0   \n",
       "3349119     176 VALPARAISO ST, SAN FRANCISCO, CA, 94133                  3.0   \n",
       "3349120           17 WHITE ST, SAN FRANCISCO, CA, 94109                  3.0   \n",
       "3349122  2845 GOLDEN GATE AVE, SAN FRANCISCO, CA, 94118                  1.0   \n",
       "\n",
       "            Neighborhood Police District  Latitude  Longitude  \\\n",
       "3349117  Mission Terrace       INGLESIDE  37.72879  -122.4259   \n",
       "3349118     Russian Hill         CENTRAL  37.79662  -122.4168   \n",
       "3349119     Russian Hill         CENTRAL  37.80112  -122.4157   \n",
       "3349120     Russian Hill         CENTRAL  37.79751  -122.4197   \n",
       "3349122    Lone Mountain        RICHMOND  37.77621  -122.4574   \n",
       "\n",
       "                                Point             Source Media URL  \\\n",
       "3349117  (37.72879406, -122.42585139)                Web       NaN   \n",
       "3349118   (37.79659558, -122.4168394)     Mobile/Open311       NaN   \n",
       "3349119  (37.80119087, -122.41568286)     Mobile/Open311       NaN   \n",
       "3349120  (37.79750974, -122.41965395)              Phone       NaN   \n",
       "3349122  (37.77620739, -122.45735113)  Integrated Agency       NaN   \n",
       "\n",
       "        time_to_close  \n",
       "3349117      07:40:49  \n",
       "3349118      00:51:27  \n",
       "3349119      00:12:53  \n",
       "3349120      00:08:10  \n",
       "3349122      01:01:14  "
      ]
     },
     "execution_count": 8,
     "metadata": {},
     "output_type": "execute_result"
    }
   ],
   "source": [
    "data.head()"
   ]
  },
  {
   "cell_type": "code",
   "execution_count": 9,
   "metadata": {
    "ExecuteTime": {
     "end_time": "2019-01-14T00:59:26.390067Z",
     "start_time": "2019-01-14T00:59:24.039483Z"
    }
   },
   "outputs": [
    {
     "name": "stderr",
     "output_type": "stream",
     "text": [
      "/Users/bpc_msds2019/miniconda3/envs/msds694/lib/python3.6/site-packages/ipykernel_launcher.py:1: SettingWithCopyWarning: \n",
      "A value is trying to be set on a copy of a slice from a DataFrame.\n",
      "Try using .loc[row_indexer,col_indexer] = value instead\n",
      "\n",
      "See the caveats in the documentation: http://pandas.pydata.org/pandas-docs/stable/indexing.html#indexing-view-versus-copy\n",
      "  \"\"\"Entry point for launching an IPython kernel.\n"
     ]
    }
   ],
   "source": [
    "data[\"time_to_close\"] = pd.to_numeric(pd.to_datetime(data['Closed']) - pd.to_datetime(data['Opened'])) / (1000000000)"
   ]
  },
  {
   "cell_type": "code",
   "execution_count": 10,
   "metadata": {
    "ExecuteTime": {
     "end_time": "2019-01-14T00:59:26.414604Z",
     "start_time": "2019-01-14T00:59:26.392445Z"
    }
   },
   "outputs": [
    {
     "data": {
      "text/html": [
       "<div>\n",
       "<style scoped>\n",
       "    .dataframe tbody tr th:only-of-type {\n",
       "        vertical-align: middle;\n",
       "    }\n",
       "\n",
       "    .dataframe tbody tr th {\n",
       "        vertical-align: top;\n",
       "    }\n",
       "\n",
       "    .dataframe thead th {\n",
       "        text-align: right;\n",
       "    }\n",
       "</style>\n",
       "<table border=\"1\" class=\"dataframe\">\n",
       "  <thead>\n",
       "    <tr style=\"text-align: right;\">\n",
       "      <th></th>\n",
       "      <th>CaseID</th>\n",
       "      <th>Opened</th>\n",
       "      <th>Closed</th>\n",
       "      <th>Updated</th>\n",
       "      <th>Status</th>\n",
       "      <th>Status Notes</th>\n",
       "      <th>Responsible Agency</th>\n",
       "      <th>Category</th>\n",
       "      <th>Request Type</th>\n",
       "      <th>Request Details</th>\n",
       "      <th>Address</th>\n",
       "      <th>Supervisor District</th>\n",
       "      <th>Neighborhood</th>\n",
       "      <th>Police District</th>\n",
       "      <th>Latitude</th>\n",
       "      <th>Longitude</th>\n",
       "      <th>Point</th>\n",
       "      <th>Source</th>\n",
       "      <th>Media URL</th>\n",
       "      <th>time_to_close</th>\n",
       "    </tr>\n",
       "  </thead>\n",
       "  <tbody>\n",
       "    <tr>\n",
       "      <th>3349117</th>\n",
       "      <td>9989165</td>\n",
       "      <td>12/29/2018 11:51:11 AM</td>\n",
       "      <td>12/29/2018 07:32:00 PM</td>\n",
       "      <td>12/29/2018 07:32:00 PM</td>\n",
       "      <td>Closed</td>\n",
       "      <td>Serviced</td>\n",
       "      <td>Recology_Overflowing</td>\n",
       "      <td>Street and Sidewalk Cleaning</td>\n",
       "      <td>City_garbage_can_overflowing</td>\n",
       "      <td>City_garbage_can_overflowing</td>\n",
       "      <td>345 CONGDON ST, SAN FRANCISCO, CA, 94112</td>\n",
       "      <td>11.0</td>\n",
       "      <td>Mission Terrace</td>\n",
       "      <td>INGLESIDE</td>\n",
       "      <td>37.72879</td>\n",
       "      <td>-122.4259</td>\n",
       "      <td>(37.72879406, -122.42585139)</td>\n",
       "      <td>Web</td>\n",
       "      <td>NaN</td>\n",
       "      <td>27649.0</td>\n",
       "    </tr>\n",
       "    <tr>\n",
       "      <th>3349118</th>\n",
       "      <td>9989168</td>\n",
       "      <td>12/29/2018 11:51:55 AM</td>\n",
       "      <td>12/29/2018 12:43:22 PM</td>\n",
       "      <td>12/29/2018 12:43:22 PM</td>\n",
       "      <td>Closed</td>\n",
       "      <td>Pickup completed.</td>\n",
       "      <td>Recology_Abandoned</td>\n",
       "      <td>Street and Sidewalk Cleaning</td>\n",
       "      <td>Bulky Items</td>\n",
       "      <td>Furniture</td>\n",
       "      <td>Intersection of BROADWAY and LEAVENWORTH ST</td>\n",
       "      <td>3.0</td>\n",
       "      <td>Russian Hill</td>\n",
       "      <td>CENTRAL</td>\n",
       "      <td>37.79662</td>\n",
       "      <td>-122.4168</td>\n",
       "      <td>(37.79659558, -122.4168394)</td>\n",
       "      <td>Mobile/Open311</td>\n",
       "      <td>NaN</td>\n",
       "      <td>3087.0</td>\n",
       "    </tr>\n",
       "    <tr>\n",
       "      <th>3349119</th>\n",
       "      <td>9989175</td>\n",
       "      <td>12/29/2018 11:53:06 AM</td>\n",
       "      <td>12/29/2018 12:05:59 PM</td>\n",
       "      <td>12/29/2018 12:05:59 PM</td>\n",
       "      <td>Closed</td>\n",
       "      <td>THIS CASE HAS BEEN SENT GOLDEN GATE</td>\n",
       "      <td>Recology_Abandoned</td>\n",
       "      <td>Street and Sidewalk Cleaning</td>\n",
       "      <td>Bulky Items</td>\n",
       "      <td>Boxed or Bagged Items</td>\n",
       "      <td>176 VALPARAISO ST, SAN FRANCISCO, CA, 94133</td>\n",
       "      <td>3.0</td>\n",
       "      <td>Russian Hill</td>\n",
       "      <td>CENTRAL</td>\n",
       "      <td>37.80112</td>\n",
       "      <td>-122.4157</td>\n",
       "      <td>(37.80119087, -122.41568286)</td>\n",
       "      <td>Mobile/Open311</td>\n",
       "      <td>NaN</td>\n",
       "      <td>773.0</td>\n",
       "    </tr>\n",
       "    <tr>\n",
       "      <th>3349120</th>\n",
       "      <td>9989180</td>\n",
       "      <td>12/29/2018 11:55:00 AM</td>\n",
       "      <td>12/29/2018 12:03:10 PM</td>\n",
       "      <td>12/29/2018 12:03:10 PM</td>\n",
       "      <td>Closed</td>\n",
       "      <td>See CAD# 183631339 for details.</td>\n",
       "      <td>Parking Enforcement Dispatch Queue</td>\n",
       "      <td>Parking Enforcement</td>\n",
       "      <td>Parking_on_Sidewalk</td>\n",
       "      <td>teale - Moped - 21V2310</td>\n",
       "      <td>17 WHITE ST, SAN FRANCISCO, CA, 94109</td>\n",
       "      <td>3.0</td>\n",
       "      <td>Russian Hill</td>\n",
       "      <td>CENTRAL</td>\n",
       "      <td>37.79751</td>\n",
       "      <td>-122.4197</td>\n",
       "      <td>(37.79750974, -122.41965395)</td>\n",
       "      <td>Phone</td>\n",
       "      <td>NaN</td>\n",
       "      <td>490.0</td>\n",
       "    </tr>\n",
       "    <tr>\n",
       "      <th>3349122</th>\n",
       "      <td>9989186</td>\n",
       "      <td>12/29/2018 11:56:55 AM</td>\n",
       "      <td>12/29/2018 12:58:09 PM</td>\n",
       "      <td>12/29/2018 12:58:09 PM</td>\n",
       "      <td>Closed</td>\n",
       "      <td>Pickup completed.</td>\n",
       "      <td>Recology_Abandoned</td>\n",
       "      <td>Street and Sidewalk Cleaning</td>\n",
       "      <td>Bulky Items</td>\n",
       "      <td>Refrigerator</td>\n",
       "      <td>2845 GOLDEN GATE AVE, SAN FRANCISCO, CA, 94118</td>\n",
       "      <td>1.0</td>\n",
       "      <td>Lone Mountain</td>\n",
       "      <td>RICHMOND</td>\n",
       "      <td>37.77621</td>\n",
       "      <td>-122.4574</td>\n",
       "      <td>(37.77620739, -122.45735113)</td>\n",
       "      <td>Integrated Agency</td>\n",
       "      <td>NaN</td>\n",
       "      <td>3674.0</td>\n",
       "    </tr>\n",
       "  </tbody>\n",
       "</table>\n",
       "</div>"
      ],
      "text/plain": [
       "          CaseID                  Opened                  Closed  \\\n",
       "3349117  9989165  12/29/2018 11:51:11 AM  12/29/2018 07:32:00 PM   \n",
       "3349118  9989168  12/29/2018 11:51:55 AM  12/29/2018 12:43:22 PM   \n",
       "3349119  9989175  12/29/2018 11:53:06 AM  12/29/2018 12:05:59 PM   \n",
       "3349120  9989180  12/29/2018 11:55:00 AM  12/29/2018 12:03:10 PM   \n",
       "3349122  9989186  12/29/2018 11:56:55 AM  12/29/2018 12:58:09 PM   \n",
       "\n",
       "                        Updated  Status                         Status Notes  \\\n",
       "3349117  12/29/2018 07:32:00 PM  Closed                             Serviced   \n",
       "3349118  12/29/2018 12:43:22 PM  Closed                    Pickup completed.   \n",
       "3349119  12/29/2018 12:05:59 PM  Closed  THIS CASE HAS BEEN SENT GOLDEN GATE   \n",
       "3349120  12/29/2018 12:03:10 PM  Closed      See CAD# 183631339 for details.   \n",
       "3349122  12/29/2018 12:58:09 PM  Closed                    Pickup completed.   \n",
       "\n",
       "                         Responsible Agency                      Category  \\\n",
       "3349117                Recology_Overflowing  Street and Sidewalk Cleaning   \n",
       "3349118                  Recology_Abandoned  Street and Sidewalk Cleaning   \n",
       "3349119                  Recology_Abandoned  Street and Sidewalk Cleaning   \n",
       "3349120  Parking Enforcement Dispatch Queue           Parking Enforcement   \n",
       "3349122                  Recology_Abandoned  Street and Sidewalk Cleaning   \n",
       "\n",
       "                         Request Type               Request Details  \\\n",
       "3349117  City_garbage_can_overflowing  City_garbage_can_overflowing   \n",
       "3349118                   Bulky Items                     Furniture   \n",
       "3349119                   Bulky Items         Boxed or Bagged Items   \n",
       "3349120           Parking_on_Sidewalk       teale - Moped - 21V2310   \n",
       "3349122                   Bulky Items                  Refrigerator   \n",
       "\n",
       "                                                Address  Supervisor District  \\\n",
       "3349117        345 CONGDON ST, SAN FRANCISCO, CA, 94112                 11.0   \n",
       "3349118     Intersection of BROADWAY and LEAVENWORTH ST                  3.0   \n",
       "3349119     176 VALPARAISO ST, SAN FRANCISCO, CA, 94133                  3.0   \n",
       "3349120           17 WHITE ST, SAN FRANCISCO, CA, 94109                  3.0   \n",
       "3349122  2845 GOLDEN GATE AVE, SAN FRANCISCO, CA, 94118                  1.0   \n",
       "\n",
       "            Neighborhood Police District  Latitude  Longitude  \\\n",
       "3349117  Mission Terrace       INGLESIDE  37.72879  -122.4259   \n",
       "3349118     Russian Hill         CENTRAL  37.79662  -122.4168   \n",
       "3349119     Russian Hill         CENTRAL  37.80112  -122.4157   \n",
       "3349120     Russian Hill         CENTRAL  37.79751  -122.4197   \n",
       "3349122    Lone Mountain        RICHMOND  37.77621  -122.4574   \n",
       "\n",
       "                                Point             Source Media URL  \\\n",
       "3349117  (37.72879406, -122.42585139)                Web       NaN   \n",
       "3349118   (37.79659558, -122.4168394)     Mobile/Open311       NaN   \n",
       "3349119  (37.80119087, -122.41568286)     Mobile/Open311       NaN   \n",
       "3349120  (37.79750974, -122.41965395)              Phone       NaN   \n",
       "3349122  (37.77620739, -122.45735113)  Integrated Agency       NaN   \n",
       "\n",
       "         time_to_close  \n",
       "3349117        27649.0  \n",
       "3349118         3087.0  \n",
       "3349119          773.0  \n",
       "3349120          490.0  \n",
       "3349122         3674.0  "
      ]
     },
     "execution_count": 10,
     "metadata": {},
     "output_type": "execute_result"
    }
   ],
   "source": [
    "data.head()"
   ]
  },
  {
   "cell_type": "code",
   "execution_count": 11,
   "metadata": {
    "ExecuteTime": {
     "end_time": "2019-01-14T00:59:26.441883Z",
     "start_time": "2019-01-14T00:59:26.424656Z"
    }
   },
   "outputs": [],
   "source": [
    "X = data[[\"Responsible Agency\",\"Category\",\"Request Type\",\"Supervisor District\",\"Police District\",\"Neighborhood\"]]\n",
    "Y = data[\"time_to_close\"]"
   ]
  },
  {
   "cell_type": "markdown",
   "metadata": {},
   "source": [
    "# Test Train Split"
   ]
  },
  {
   "cell_type": "code",
   "execution_count": 12,
   "metadata": {
    "ExecuteTime": {
     "end_time": "2019-01-14T00:59:26.764277Z",
     "start_time": "2019-01-14T00:59:26.444884Z"
    }
   },
   "outputs": [],
   "source": [
    "from sklearn.model_selection import train_test_split\n"
   ]
  },
  {
   "cell_type": "code",
   "execution_count": 13,
   "metadata": {
    "ExecuteTime": {
     "end_time": "2019-01-14T00:59:26.774735Z",
     "start_time": "2019-01-14T00:59:26.766639Z"
    }
   },
   "outputs": [],
   "source": [
    "X_train, X_test, y_train, y_test = train_test_split(X, Y, test_size=0.33)"
   ]
  },
  {
   "cell_type": "markdown",
   "metadata": {},
   "source": [
    "## Hash Encoder"
   ]
  },
  {
   "cell_type": "code",
   "execution_count": 14,
   "metadata": {
    "ExecuteTime": {
     "end_time": "2019-01-14T00:59:26.831245Z",
     "start_time": "2019-01-14T00:59:26.776685Z"
    }
   },
   "outputs": [],
   "source": [
    "from sklearn.feature_extraction import FeatureHasher\n",
    "import copy\n",
    "X_train_hash = copy.copy(X_train)\n",
    "X_test_hash = copy.copy(X_test)\n",
    "for i in range(X_train_hash.shape[1]):\n",
    "    X_train_hash.iloc[:,i]=X_train_hash.iloc[:,i].astype('str')\n",
    "for i in range(X_test_hash.shape[1]):\n",
    "    X_test_hash.iloc[:,i]=X_test_hash.iloc[:,i].astype('str')\n",
    "h = FeatureHasher(n_features=100,input_type=\"string\")\n",
    "X_train_hash = h.transform(X_train_hash.values)\n",
    "X_test_hash = h.transform(X_test_hash.values)"
   ]
  },
  {
   "cell_type": "markdown",
   "metadata": {},
   "source": [
    "## Linear Regression"
   ]
  },
  {
   "cell_type": "code",
   "execution_count": 15,
   "metadata": {
    "ExecuteTime": {
     "end_time": "2019-01-14T00:59:26.867313Z",
     "start_time": "2019-01-14T00:59:26.833273Z"
    }
   },
   "outputs": [],
   "source": [
    "from sklearn.linear_model import LinearRegression"
   ]
  },
  {
   "cell_type": "code",
   "execution_count": 16,
   "metadata": {
    "ExecuteTime": {
     "end_time": "2019-01-14T00:59:26.895794Z",
     "start_time": "2019-01-14T00:59:26.869303Z"
    }
   },
   "outputs": [],
   "source": [
    "reg = LinearRegression().fit(X_train_hash, y_train)"
   ]
  },
  {
   "cell_type": "code",
   "execution_count": 17,
   "metadata": {
    "ExecuteTime": {
     "end_time": "2019-01-14T00:59:26.901229Z",
     "start_time": "2019-01-14T00:59:26.897741Z"
    }
   },
   "outputs": [],
   "source": [
    "y_pred_1 = reg.predict(X_test_hash)"
   ]
  },
  {
   "cell_type": "code",
   "execution_count": 18,
   "metadata": {
    "ExecuteTime": {
     "end_time": "2019-01-14T00:59:26.920163Z",
     "start_time": "2019-01-14T00:59:26.906425Z"
    }
   },
   "outputs": [
    {
     "data": {
      "text/plain": [
       "119814105484582.12"
      ]
     },
     "execution_count": 18,
     "metadata": {},
     "output_type": "execute_result"
    }
   ],
   "source": [
    "from sklearn.metrics import mean_squared_error\n",
    "mean_squared_error(y_test,y_pred_1)"
   ]
  },
  {
   "cell_type": "code",
   "execution_count": 34,
   "metadata": {
    "ExecuteTime": {
     "end_time": "2019-01-14T01:02:50.284854Z",
     "start_time": "2019-01-14T01:02:50.276102Z"
    }
   },
   "outputs": [
    {
     "data": {
      "text/plain": [
       "3316.958477750436"
      ]
     },
     "execution_count": 34,
     "metadata": {},
     "output_type": "execute_result"
    }
   ],
   "source": [
    "np.sqrt(mean_squared_error(y_test,y_pred_1)) / y_test.shape[0]"
   ]
  },
  {
   "cell_type": "markdown",
   "metadata": {},
   "source": [
    "## Random Forest Regressor"
   ]
  },
  {
   "cell_type": "code",
   "execution_count": 23,
   "metadata": {
    "ExecuteTime": {
     "end_time": "2019-01-14T01:00:56.333110Z",
     "start_time": "2019-01-14T01:00:56.291752Z"
    }
   },
   "outputs": [],
   "source": [
    "from sklearn.ensemble import RandomForestRegressor"
   ]
  },
  {
   "cell_type": "code",
   "execution_count": 24,
   "metadata": {
    "ExecuteTime": {
     "end_time": "2019-01-14T01:01:10.987508Z",
     "start_time": "2019-01-14T01:01:10.983958Z"
    }
   },
   "outputs": [],
   "source": [
    "regr = RandomForestRegressor(max_depth=2, random_state=0, n_estimators=100)"
   ]
  },
  {
   "cell_type": "code",
   "execution_count": 25,
   "metadata": {
    "ExecuteTime": {
     "end_time": "2019-01-14T01:01:21.583523Z",
     "start_time": "2019-01-14T01:01:21.364095Z"
    }
   },
   "outputs": [
    {
     "data": {
      "text/plain": [
       "RandomForestRegressor(bootstrap=True, criterion='mse', max_depth=2,\n",
       "           max_features='auto', max_leaf_nodes=None,\n",
       "           min_impurity_decrease=0.0, min_impurity_split=None,\n",
       "           min_samples_leaf=1, min_samples_split=2,\n",
       "           min_weight_fraction_leaf=0.0, n_estimators=100, n_jobs=None,\n",
       "           oob_score=False, random_state=0, verbose=0, warm_start=False)"
      ]
     },
     "execution_count": 25,
     "metadata": {},
     "output_type": "execute_result"
    }
   ],
   "source": [
    "regr.fit(X_train_hash, y_train)"
   ]
  },
  {
   "cell_type": "code",
   "execution_count": 26,
   "metadata": {
    "ExecuteTime": {
     "end_time": "2019-01-14T01:01:36.806943Z",
     "start_time": "2019-01-14T01:01:36.778595Z"
    }
   },
   "outputs": [],
   "source": [
    "y_pred_2 = regr.predict(X_test_hash)"
   ]
  },
  {
   "cell_type": "code",
   "execution_count": 35,
   "metadata": {
    "ExecuteTime": {
     "end_time": "2019-01-14T01:02:52.191093Z",
     "start_time": "2019-01-14T01:02:52.183082Z"
    }
   },
   "outputs": [
    {
     "data": {
      "text/plain": [
       "2630.8809087392005"
      ]
     },
     "execution_count": 35,
     "metadata": {},
     "output_type": "execute_result"
    }
   ],
   "source": [
    "np.sqrt(mean_squared_error(y_test,y_pred_2)) / y_test.shape[0]"
   ]
  }
 ],
 "metadata": {
  "kernelspec": {
   "display_name": "Python 3",
   "language": "python",
   "name": "python3"
  },
  "language_info": {
   "codemirror_mode": {
    "name": "ipython",
    "version": 3
   },
   "file_extension": ".py",
   "mimetype": "text/x-python",
   "name": "python",
   "nbconvert_exporter": "python",
   "pygments_lexer": "ipython3",
   "version": "3.6.8"
  }
 },
 "nbformat": 4,
 "nbformat_minor": 2
}
