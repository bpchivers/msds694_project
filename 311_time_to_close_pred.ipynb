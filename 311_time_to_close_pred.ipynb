{
 "cells": [
  {
   "cell_type": "code",
   "execution_count": 1,
   "metadata": {
    "ExecuteTime": {
     "end_time": "2019-01-14T02:24:41.009833Z",
     "start_time": "2019-01-14T02:24:40.255663Z"
    }
   },
   "outputs": [],
   "source": [
    "import pandas as pd\n",
    "import numpy as np"
   ]
  },
  {
   "cell_type": "code",
   "execution_count": 2,
   "metadata": {
    "ExecuteTime": {
     "end_time": "2019-01-14T02:24:41.029690Z",
     "start_time": "2019-01-14T02:24:41.020728Z"
    }
   },
   "outputs": [],
   "source": [
    "file = \"Data/311_Cases.csv\""
   ]
  },
  {
   "cell_type": "code",
   "execution_count": 3,
   "metadata": {
    "ExecuteTime": {
     "end_time": "2019-01-14T02:25:06.658248Z",
     "start_time": "2019-01-14T02:24:41.033223Z"
    }
   },
   "outputs": [
    {
     "name": "stderr",
     "output_type": "stream",
     "text": [
      "/Users/bpc_msds2019/miniconda3/envs/msds694/lib/python3.6/site-packages/IPython/core/interactiveshell.py:3020: DtypeWarning: Columns (18) have mixed types. Specify dtype option on import or set low_memory=False.\n",
      "  interactivity=interactivity, compiler=compiler, result=result)\n"
     ]
    }
   ],
   "source": [
    "csv = pd.read_csv(file)"
   ]
  },
  {
   "cell_type": "code",
   "execution_count": 4,
   "metadata": {
    "ExecuteTime": {
     "end_time": "2019-01-14T02:25:08.355801Z",
     "start_time": "2019-01-14T02:25:06.662480Z"
    }
   },
   "outputs": [],
   "source": [
    "csv = csv[pd.notnull(csv['Closed'])]\n",
    "csv = csv[csv[\"Status Notes\"]!=\"Administrative Closure\"]"
   ]
  },
  {
   "cell_type": "code",
   "execution_count": 5,
   "metadata": {
    "ExecuteTime": {
     "end_time": "2019-01-14T02:25:08.373743Z",
     "start_time": "2019-01-14T02:25:08.359950Z"
    }
   },
   "outputs": [
    {
     "data": {
      "text/plain": [
       "3233627"
      ]
     },
     "execution_count": 5,
     "metadata": {},
     "output_type": "execute_result"
    }
   ],
   "source": [
    "len(csv)"
   ]
  },
  {
   "cell_type": "code",
   "execution_count": 6,
   "metadata": {
    "ExecuteTime": {
     "end_time": "2019-01-14T02:25:08.380490Z",
     "start_time": "2019-01-14T02:25:08.376310Z"
    }
   },
   "outputs": [],
   "source": [
    "data = csv[len(csv)-10000:len(csv)]"
   ]
  },
  {
   "cell_type": "code",
   "execution_count": 7,
   "metadata": {
    "ExecuteTime": {
     "end_time": "2019-01-14T02:25:10.928730Z",
     "start_time": "2019-01-14T02:25:08.382863Z"
    }
   },
   "outputs": [
    {
     "name": "stderr",
     "output_type": "stream",
     "text": [
      "/Users/bpc_msds2019/miniconda3/envs/msds694/lib/python3.6/site-packages/ipykernel_launcher.py:1: SettingWithCopyWarning: \n",
      "A value is trying to be set on a copy of a slice from a DataFrame.\n",
      "Try using .loc[row_indexer,col_indexer] = value instead\n",
      "\n",
      "See the caveats in the documentation: http://pandas.pydata.org/pandas-docs/stable/indexing.html#indexing-view-versus-copy\n",
      "  \"\"\"Entry point for launching an IPython kernel.\n"
     ]
    }
   ],
   "source": [
    "data[\"time_to_close\"] = pd.to_datetime(data['Closed']) - pd.to_datetime(data['Opened'])\n"
   ]
  },
  {
   "cell_type": "code",
   "execution_count": 8,
   "metadata": {
    "ExecuteTime": {
     "end_time": "2019-01-14T02:25:10.967565Z",
     "start_time": "2019-01-14T02:25:10.930974Z"
    }
   },
   "outputs": [
    {
     "data": {
      "text/html": [
       "<div>\n",
       "<style scoped>\n",
       "    .dataframe tbody tr th:only-of-type {\n",
       "        vertical-align: middle;\n",
       "    }\n",
       "\n",
       "    .dataframe tbody tr th {\n",
       "        vertical-align: top;\n",
       "    }\n",
       "\n",
       "    .dataframe thead th {\n",
       "        text-align: right;\n",
       "    }\n",
       "</style>\n",
       "<table border=\"1\" class=\"dataframe\">\n",
       "  <thead>\n",
       "    <tr style=\"text-align: right;\">\n",
       "      <th></th>\n",
       "      <th>CaseID</th>\n",
       "      <th>Opened</th>\n",
       "      <th>Closed</th>\n",
       "      <th>Updated</th>\n",
       "      <th>Status</th>\n",
       "      <th>Status Notes</th>\n",
       "      <th>Responsible Agency</th>\n",
       "      <th>Category</th>\n",
       "      <th>Request Type</th>\n",
       "      <th>Request Details</th>\n",
       "      <th>Address</th>\n",
       "      <th>Supervisor District</th>\n",
       "      <th>Neighborhood</th>\n",
       "      <th>Police District</th>\n",
       "      <th>Latitude</th>\n",
       "      <th>Longitude</th>\n",
       "      <th>Point</th>\n",
       "      <th>Source</th>\n",
       "      <th>Media URL</th>\n",
       "      <th>time_to_close</th>\n",
       "    </tr>\n",
       "  </thead>\n",
       "  <tbody>\n",
       "    <tr>\n",
       "      <th>3348988</th>\n",
       "      <td>9988705</td>\n",
       "      <td>12/29/2018 10:06:26 AM</td>\n",
       "      <td>12/29/2018 10:26:25 AM</td>\n",
       "      <td>12/29/2018 10:26:25 AM</td>\n",
       "      <td>Closed</td>\n",
       "      <td>Pickup completed.</td>\n",
       "      <td>Recology_Abandoned</td>\n",
       "      <td>Street and Sidewalk Cleaning</td>\n",
       "      <td>Bulky Items</td>\n",
       "      <td>Boxed or Bagged Items</td>\n",
       "      <td>800 EDINBURGH ST, SAN FRANCISCO, CA, 94112</td>\n",
       "      <td>11.0</td>\n",
       "      <td>Excelsior</td>\n",
       "      <td>INGLESIDE</td>\n",
       "      <td>37.71659</td>\n",
       "      <td>-122.4358</td>\n",
       "      <td>(37.71659036, -122.43585834)</td>\n",
       "      <td>Mobile/Open311</td>\n",
       "      <td>http://mobile311.sfgov.org/media/san_francisco...</td>\n",
       "      <td>0 days 00:19:59</td>\n",
       "    </tr>\n",
       "    <tr>\n",
       "      <th>3348989</th>\n",
       "      <td>9988707</td>\n",
       "      <td>12/29/2018 10:06:30 AM</td>\n",
       "      <td>12/29/2018 10:47:52 AM</td>\n",
       "      <td>12/29/2018 10:47:52 AM</td>\n",
       "      <td>Closed</td>\n",
       "      <td>WASTE NOT FOUND                               ...</td>\n",
       "      <td>Recology_Abandoned</td>\n",
       "      <td>Street and Sidewalk Cleaning</td>\n",
       "      <td>Bulky Items</td>\n",
       "      <td>Furniture</td>\n",
       "      <td>250 FELL ST, SAN FRANCISCO, CA, 94102</td>\n",
       "      <td>5.0</td>\n",
       "      <td>Civic Center</td>\n",
       "      <td>NORTHERN</td>\n",
       "      <td>37.77630</td>\n",
       "      <td>-122.4221</td>\n",
       "      <td>(37.77615509, -122.4220366)</td>\n",
       "      <td>Web</td>\n",
       "      <td>NaN</td>\n",
       "      <td>0 days 00:41:22</td>\n",
       "    </tr>\n",
       "    <tr>\n",
       "      <th>3348990</th>\n",
       "      <td>9988708</td>\n",
       "      <td>12/29/2018 10:06:00 AM</td>\n",
       "      <td>12/29/2018 01:02:00 PM</td>\n",
       "      <td>12/29/2018 01:02:00 PM</td>\n",
       "      <td>Closed</td>\n",
       "      <td>no glass between 22nd and 23rd on ames</td>\n",
       "      <td>DPW Ops Queue</td>\n",
       "      <td>Street and Sidewalk Cleaning</td>\n",
       "      <td>Hazardous Materials</td>\n",
       "      <td>Glass</td>\n",
       "      <td>141 AMES ST, SAN FRANCISCO, CA, 94110</td>\n",
       "      <td>8.0</td>\n",
       "      <td>Dolores Heights</td>\n",
       "      <td>MISSION</td>\n",
       "      <td>37.75451</td>\n",
       "      <td>-122.4237</td>\n",
       "      <td>(37.75433935, -122.42360212)</td>\n",
       "      <td>Mobile/Open311</td>\n",
       "      <td>NaN</td>\n",
       "      <td>0 days 02:56:00</td>\n",
       "    </tr>\n",
       "    <tr>\n",
       "      <th>3348991</th>\n",
       "      <td>9988712</td>\n",
       "      <td>12/29/2018 10:08:00 AM</td>\n",
       "      <td>12/29/2018 11:12:42 AM</td>\n",
       "      <td>12/29/2018 11:12:42 AM</td>\n",
       "      <td>Closed</td>\n",
       "      <td>Officer responded to request under CAD # 18363...</td>\n",
       "      <td>Parking Enforcement Dispatch Queue</td>\n",
       "      <td>Parking Enforcement</td>\n",
       "      <td>Blocking_Driveway_Cite_Tow</td>\n",
       "      <td>GREY - LEXUS ES350 - 8FRE889</td>\n",
       "      <td>2753 BAKER ST, SAN FRANCISCO, CA, 94123</td>\n",
       "      <td>2.0</td>\n",
       "      <td>Cow Hollow</td>\n",
       "      <td>NORTHERN</td>\n",
       "      <td>37.79651</td>\n",
       "      <td>-122.4457</td>\n",
       "      <td>(37.79651131, -122.44572597)</td>\n",
       "      <td>Phone</td>\n",
       "      <td>NaN</td>\n",
       "      <td>0 days 01:04:42</td>\n",
       "    </tr>\n",
       "    <tr>\n",
       "      <th>3348992</th>\n",
       "      <td>9988777</td>\n",
       "      <td>12/29/2018 10:23:00 AM</td>\n",
       "      <td>01/04/2019 08:30:01 AM</td>\n",
       "      <td>01/04/2019 08:30:01 AM</td>\n",
       "      <td>Closed</td>\n",
       "      <td>meter shop has closed this request</td>\n",
       "      <td>DPT Meter_Bike Queue</td>\n",
       "      <td>Damaged Property</td>\n",
       "      <td>Damaged Parking_Meter</td>\n",
       "      <td>Parking_Meter</td>\n",
       "      <td>Intersection of KEARNY ST and POST ST</td>\n",
       "      <td>3.0</td>\n",
       "      <td>Downtown / Union Square</td>\n",
       "      <td>CENTRAL</td>\n",
       "      <td>37.78889</td>\n",
       "      <td>-122.4037</td>\n",
       "      <td>(37.78889444, -122.4036607)</td>\n",
       "      <td>Phone</td>\n",
       "      <td>NaN</td>\n",
       "      <td>5 days 22:07:01</td>\n",
       "    </tr>\n",
       "  </tbody>\n",
       "</table>\n",
       "</div>"
      ],
      "text/plain": [
       "          CaseID                  Opened                  Closed  \\\n",
       "3348988  9988705  12/29/2018 10:06:26 AM  12/29/2018 10:26:25 AM   \n",
       "3348989  9988707  12/29/2018 10:06:30 AM  12/29/2018 10:47:52 AM   \n",
       "3348990  9988708  12/29/2018 10:06:00 AM  12/29/2018 01:02:00 PM   \n",
       "3348991  9988712  12/29/2018 10:08:00 AM  12/29/2018 11:12:42 AM   \n",
       "3348992  9988777  12/29/2018 10:23:00 AM  01/04/2019 08:30:01 AM   \n",
       "\n",
       "                        Updated  Status  \\\n",
       "3348988  12/29/2018 10:26:25 AM  Closed   \n",
       "3348989  12/29/2018 10:47:52 AM  Closed   \n",
       "3348990  12/29/2018 01:02:00 PM  Closed   \n",
       "3348991  12/29/2018 11:12:42 AM  Closed   \n",
       "3348992  01/04/2019 08:30:01 AM  Closed   \n",
       "\n",
       "                                              Status Notes  \\\n",
       "3348988                                  Pickup completed.   \n",
       "3348989  WASTE NOT FOUND                               ...   \n",
       "3348990             no glass between 22nd and 23rd on ames   \n",
       "3348991  Officer responded to request under CAD # 18363...   \n",
       "3348992                 meter shop has closed this request   \n",
       "\n",
       "                         Responsible Agency                      Category  \\\n",
       "3348988                  Recology_Abandoned  Street and Sidewalk Cleaning   \n",
       "3348989                  Recology_Abandoned  Street and Sidewalk Cleaning   \n",
       "3348990                       DPW Ops Queue  Street and Sidewalk Cleaning   \n",
       "3348991  Parking Enforcement Dispatch Queue           Parking Enforcement   \n",
       "3348992                DPT Meter_Bike Queue              Damaged Property   \n",
       "\n",
       "                       Request Type               Request Details  \\\n",
       "3348988                 Bulky Items         Boxed or Bagged Items   \n",
       "3348989                 Bulky Items                     Furniture   \n",
       "3348990         Hazardous Materials                         Glass   \n",
       "3348991  Blocking_Driveway_Cite_Tow  GREY - LEXUS ES350 - 8FRE889   \n",
       "3348992       Damaged Parking_Meter                 Parking_Meter   \n",
       "\n",
       "                                            Address  Supervisor District  \\\n",
       "3348988  800 EDINBURGH ST, SAN FRANCISCO, CA, 94112                 11.0   \n",
       "3348989       250 FELL ST, SAN FRANCISCO, CA, 94102                  5.0   \n",
       "3348990       141 AMES ST, SAN FRANCISCO, CA, 94110                  8.0   \n",
       "3348991     2753 BAKER ST, SAN FRANCISCO, CA, 94123                  2.0   \n",
       "3348992       Intersection of KEARNY ST and POST ST                  3.0   \n",
       "\n",
       "                    Neighborhood Police District  Latitude  Longitude  \\\n",
       "3348988                Excelsior       INGLESIDE  37.71659  -122.4358   \n",
       "3348989             Civic Center        NORTHERN  37.77630  -122.4221   \n",
       "3348990          Dolores Heights         MISSION  37.75451  -122.4237   \n",
       "3348991               Cow Hollow        NORTHERN  37.79651  -122.4457   \n",
       "3348992  Downtown / Union Square         CENTRAL  37.78889  -122.4037   \n",
       "\n",
       "                                Point          Source  \\\n",
       "3348988  (37.71659036, -122.43585834)  Mobile/Open311   \n",
       "3348989   (37.77615509, -122.4220366)             Web   \n",
       "3348990  (37.75433935, -122.42360212)  Mobile/Open311   \n",
       "3348991  (37.79651131, -122.44572597)           Phone   \n",
       "3348992   (37.78889444, -122.4036607)           Phone   \n",
       "\n",
       "                                                 Media URL   time_to_close  \n",
       "3348988  http://mobile311.sfgov.org/media/san_francisco... 0 days 00:19:59  \n",
       "3348989                                                NaN 0 days 00:41:22  \n",
       "3348990                                                NaN 0 days 02:56:00  \n",
       "3348991                                                NaN 0 days 01:04:42  \n",
       "3348992                                                NaN 5 days 22:07:01  "
      ]
     },
     "execution_count": 8,
     "metadata": {},
     "output_type": "execute_result"
    }
   ],
   "source": [
    "data.head()"
   ]
  },
  {
   "cell_type": "code",
   "execution_count": 9,
   "metadata": {
    "ExecuteTime": {
     "end_time": "2019-01-14T02:25:13.575645Z",
     "start_time": "2019-01-14T02:25:10.971275Z"
    }
   },
   "outputs": [
    {
     "name": "stderr",
     "output_type": "stream",
     "text": [
      "/Users/bpc_msds2019/miniconda3/envs/msds694/lib/python3.6/site-packages/ipykernel_launcher.py:1: SettingWithCopyWarning: \n",
      "A value is trying to be set on a copy of a slice from a DataFrame.\n",
      "Try using .loc[row_indexer,col_indexer] = value instead\n",
      "\n",
      "See the caveats in the documentation: http://pandas.pydata.org/pandas-docs/stable/indexing.html#indexing-view-versus-copy\n",
      "  \"\"\"Entry point for launching an IPython kernel.\n"
     ]
    }
   ],
   "source": [
    "data[\"time_to_close\"] = pd.to_numeric(pd.to_datetime(data['Closed']) - pd.to_datetime(data['Opened'])) / (1000000000)\n",
    "data = data[data[\"time_to_close\"]<31536000]"
   ]
  },
  {
   "cell_type": "code",
   "execution_count": 10,
   "metadata": {
    "ExecuteTime": {
     "end_time": "2019-01-14T02:25:13.601835Z",
     "start_time": "2019-01-14T02:25:13.578040Z"
    }
   },
   "outputs": [
    {
     "data": {
      "text/html": [
       "<div>\n",
       "<style scoped>\n",
       "    .dataframe tbody tr th:only-of-type {\n",
       "        vertical-align: middle;\n",
       "    }\n",
       "\n",
       "    .dataframe tbody tr th {\n",
       "        vertical-align: top;\n",
       "    }\n",
       "\n",
       "    .dataframe thead th {\n",
       "        text-align: right;\n",
       "    }\n",
       "</style>\n",
       "<table border=\"1\" class=\"dataframe\">\n",
       "  <thead>\n",
       "    <tr style=\"text-align: right;\">\n",
       "      <th></th>\n",
       "      <th>CaseID</th>\n",
       "      <th>Opened</th>\n",
       "      <th>Closed</th>\n",
       "      <th>Updated</th>\n",
       "      <th>Status</th>\n",
       "      <th>Status Notes</th>\n",
       "      <th>Responsible Agency</th>\n",
       "      <th>Category</th>\n",
       "      <th>Request Type</th>\n",
       "      <th>Request Details</th>\n",
       "      <th>Address</th>\n",
       "      <th>Supervisor District</th>\n",
       "      <th>Neighborhood</th>\n",
       "      <th>Police District</th>\n",
       "      <th>Latitude</th>\n",
       "      <th>Longitude</th>\n",
       "      <th>Point</th>\n",
       "      <th>Source</th>\n",
       "      <th>Media URL</th>\n",
       "      <th>time_to_close</th>\n",
       "    </tr>\n",
       "  </thead>\n",
       "  <tbody>\n",
       "    <tr>\n",
       "      <th>3348988</th>\n",
       "      <td>9988705</td>\n",
       "      <td>12/29/2018 10:06:26 AM</td>\n",
       "      <td>12/29/2018 10:26:25 AM</td>\n",
       "      <td>12/29/2018 10:26:25 AM</td>\n",
       "      <td>Closed</td>\n",
       "      <td>Pickup completed.</td>\n",
       "      <td>Recology_Abandoned</td>\n",
       "      <td>Street and Sidewalk Cleaning</td>\n",
       "      <td>Bulky Items</td>\n",
       "      <td>Boxed or Bagged Items</td>\n",
       "      <td>800 EDINBURGH ST, SAN FRANCISCO, CA, 94112</td>\n",
       "      <td>11.0</td>\n",
       "      <td>Excelsior</td>\n",
       "      <td>INGLESIDE</td>\n",
       "      <td>37.71659</td>\n",
       "      <td>-122.4358</td>\n",
       "      <td>(37.71659036, -122.43585834)</td>\n",
       "      <td>Mobile/Open311</td>\n",
       "      <td>http://mobile311.sfgov.org/media/san_francisco...</td>\n",
       "      <td>1199.0</td>\n",
       "    </tr>\n",
       "    <tr>\n",
       "      <th>3348989</th>\n",
       "      <td>9988707</td>\n",
       "      <td>12/29/2018 10:06:30 AM</td>\n",
       "      <td>12/29/2018 10:47:52 AM</td>\n",
       "      <td>12/29/2018 10:47:52 AM</td>\n",
       "      <td>Closed</td>\n",
       "      <td>WASTE NOT FOUND                               ...</td>\n",
       "      <td>Recology_Abandoned</td>\n",
       "      <td>Street and Sidewalk Cleaning</td>\n",
       "      <td>Bulky Items</td>\n",
       "      <td>Furniture</td>\n",
       "      <td>250 FELL ST, SAN FRANCISCO, CA, 94102</td>\n",
       "      <td>5.0</td>\n",
       "      <td>Civic Center</td>\n",
       "      <td>NORTHERN</td>\n",
       "      <td>37.77630</td>\n",
       "      <td>-122.4221</td>\n",
       "      <td>(37.77615509, -122.4220366)</td>\n",
       "      <td>Web</td>\n",
       "      <td>NaN</td>\n",
       "      <td>2482.0</td>\n",
       "    </tr>\n",
       "    <tr>\n",
       "      <th>3348990</th>\n",
       "      <td>9988708</td>\n",
       "      <td>12/29/2018 10:06:00 AM</td>\n",
       "      <td>12/29/2018 01:02:00 PM</td>\n",
       "      <td>12/29/2018 01:02:00 PM</td>\n",
       "      <td>Closed</td>\n",
       "      <td>no glass between 22nd and 23rd on ames</td>\n",
       "      <td>DPW Ops Queue</td>\n",
       "      <td>Street and Sidewalk Cleaning</td>\n",
       "      <td>Hazardous Materials</td>\n",
       "      <td>Glass</td>\n",
       "      <td>141 AMES ST, SAN FRANCISCO, CA, 94110</td>\n",
       "      <td>8.0</td>\n",
       "      <td>Dolores Heights</td>\n",
       "      <td>MISSION</td>\n",
       "      <td>37.75451</td>\n",
       "      <td>-122.4237</td>\n",
       "      <td>(37.75433935, -122.42360212)</td>\n",
       "      <td>Mobile/Open311</td>\n",
       "      <td>NaN</td>\n",
       "      <td>10560.0</td>\n",
       "    </tr>\n",
       "    <tr>\n",
       "      <th>3348991</th>\n",
       "      <td>9988712</td>\n",
       "      <td>12/29/2018 10:08:00 AM</td>\n",
       "      <td>12/29/2018 11:12:42 AM</td>\n",
       "      <td>12/29/2018 11:12:42 AM</td>\n",
       "      <td>Closed</td>\n",
       "      <td>Officer responded to request under CAD # 18363...</td>\n",
       "      <td>Parking Enforcement Dispatch Queue</td>\n",
       "      <td>Parking Enforcement</td>\n",
       "      <td>Blocking_Driveway_Cite_Tow</td>\n",
       "      <td>GREY - LEXUS ES350 - 8FRE889</td>\n",
       "      <td>2753 BAKER ST, SAN FRANCISCO, CA, 94123</td>\n",
       "      <td>2.0</td>\n",
       "      <td>Cow Hollow</td>\n",
       "      <td>NORTHERN</td>\n",
       "      <td>37.79651</td>\n",
       "      <td>-122.4457</td>\n",
       "      <td>(37.79651131, -122.44572597)</td>\n",
       "      <td>Phone</td>\n",
       "      <td>NaN</td>\n",
       "      <td>3882.0</td>\n",
       "    </tr>\n",
       "    <tr>\n",
       "      <th>3348992</th>\n",
       "      <td>9988777</td>\n",
       "      <td>12/29/2018 10:23:00 AM</td>\n",
       "      <td>01/04/2019 08:30:01 AM</td>\n",
       "      <td>01/04/2019 08:30:01 AM</td>\n",
       "      <td>Closed</td>\n",
       "      <td>meter shop has closed this request</td>\n",
       "      <td>DPT Meter_Bike Queue</td>\n",
       "      <td>Damaged Property</td>\n",
       "      <td>Damaged Parking_Meter</td>\n",
       "      <td>Parking_Meter</td>\n",
       "      <td>Intersection of KEARNY ST and POST ST</td>\n",
       "      <td>3.0</td>\n",
       "      <td>Downtown / Union Square</td>\n",
       "      <td>CENTRAL</td>\n",
       "      <td>37.78889</td>\n",
       "      <td>-122.4037</td>\n",
       "      <td>(37.78889444, -122.4036607)</td>\n",
       "      <td>Phone</td>\n",
       "      <td>NaN</td>\n",
       "      <td>511621.0</td>\n",
       "    </tr>\n",
       "  </tbody>\n",
       "</table>\n",
       "</div>"
      ],
      "text/plain": [
       "          CaseID                  Opened                  Closed  \\\n",
       "3348988  9988705  12/29/2018 10:06:26 AM  12/29/2018 10:26:25 AM   \n",
       "3348989  9988707  12/29/2018 10:06:30 AM  12/29/2018 10:47:52 AM   \n",
       "3348990  9988708  12/29/2018 10:06:00 AM  12/29/2018 01:02:00 PM   \n",
       "3348991  9988712  12/29/2018 10:08:00 AM  12/29/2018 11:12:42 AM   \n",
       "3348992  9988777  12/29/2018 10:23:00 AM  01/04/2019 08:30:01 AM   \n",
       "\n",
       "                        Updated  Status  \\\n",
       "3348988  12/29/2018 10:26:25 AM  Closed   \n",
       "3348989  12/29/2018 10:47:52 AM  Closed   \n",
       "3348990  12/29/2018 01:02:00 PM  Closed   \n",
       "3348991  12/29/2018 11:12:42 AM  Closed   \n",
       "3348992  01/04/2019 08:30:01 AM  Closed   \n",
       "\n",
       "                                              Status Notes  \\\n",
       "3348988                                  Pickup completed.   \n",
       "3348989  WASTE NOT FOUND                               ...   \n",
       "3348990             no glass between 22nd and 23rd on ames   \n",
       "3348991  Officer responded to request under CAD # 18363...   \n",
       "3348992                 meter shop has closed this request   \n",
       "\n",
       "                         Responsible Agency                      Category  \\\n",
       "3348988                  Recology_Abandoned  Street and Sidewalk Cleaning   \n",
       "3348989                  Recology_Abandoned  Street and Sidewalk Cleaning   \n",
       "3348990                       DPW Ops Queue  Street and Sidewalk Cleaning   \n",
       "3348991  Parking Enforcement Dispatch Queue           Parking Enforcement   \n",
       "3348992                DPT Meter_Bike Queue              Damaged Property   \n",
       "\n",
       "                       Request Type               Request Details  \\\n",
       "3348988                 Bulky Items         Boxed or Bagged Items   \n",
       "3348989                 Bulky Items                     Furniture   \n",
       "3348990         Hazardous Materials                         Glass   \n",
       "3348991  Blocking_Driveway_Cite_Tow  GREY - LEXUS ES350 - 8FRE889   \n",
       "3348992       Damaged Parking_Meter                 Parking_Meter   \n",
       "\n",
       "                                            Address  Supervisor District  \\\n",
       "3348988  800 EDINBURGH ST, SAN FRANCISCO, CA, 94112                 11.0   \n",
       "3348989       250 FELL ST, SAN FRANCISCO, CA, 94102                  5.0   \n",
       "3348990       141 AMES ST, SAN FRANCISCO, CA, 94110                  8.0   \n",
       "3348991     2753 BAKER ST, SAN FRANCISCO, CA, 94123                  2.0   \n",
       "3348992       Intersection of KEARNY ST and POST ST                  3.0   \n",
       "\n",
       "                    Neighborhood Police District  Latitude  Longitude  \\\n",
       "3348988                Excelsior       INGLESIDE  37.71659  -122.4358   \n",
       "3348989             Civic Center        NORTHERN  37.77630  -122.4221   \n",
       "3348990          Dolores Heights         MISSION  37.75451  -122.4237   \n",
       "3348991               Cow Hollow        NORTHERN  37.79651  -122.4457   \n",
       "3348992  Downtown / Union Square         CENTRAL  37.78889  -122.4037   \n",
       "\n",
       "                                Point          Source  \\\n",
       "3348988  (37.71659036, -122.43585834)  Mobile/Open311   \n",
       "3348989   (37.77615509, -122.4220366)             Web   \n",
       "3348990  (37.75433935, -122.42360212)  Mobile/Open311   \n",
       "3348991  (37.79651131, -122.44572597)           Phone   \n",
       "3348992   (37.78889444, -122.4036607)           Phone   \n",
       "\n",
       "                                                 Media URL  time_to_close  \n",
       "3348988  http://mobile311.sfgov.org/media/san_francisco...         1199.0  \n",
       "3348989                                                NaN         2482.0  \n",
       "3348990                                                NaN        10560.0  \n",
       "3348991                                                NaN         3882.0  \n",
       "3348992                                                NaN       511621.0  "
      ]
     },
     "execution_count": 10,
     "metadata": {},
     "output_type": "execute_result"
    }
   ],
   "source": [
    "data.head()"
   ]
  },
  {
   "cell_type": "code",
   "execution_count": 11,
   "metadata": {
    "ExecuteTime": {
     "end_time": "2019-01-14T02:25:13.613743Z",
     "start_time": "2019-01-14T02:25:13.604224Z"
    }
   },
   "outputs": [],
   "source": [
    "X = data[[\"Responsible Agency\",\"Category\",\"Request Type\",\"Supervisor District\",\"Police District\",\"Neighborhood\"]]\n",
    "Y = data[\"time_to_close\"]"
   ]
  },
  {
   "cell_type": "markdown",
   "metadata": {},
   "source": [
    "# Test Train Split"
   ]
  },
  {
   "cell_type": "code",
   "execution_count": 12,
   "metadata": {
    "ExecuteTime": {
     "end_time": "2019-01-14T02:25:14.178662Z",
     "start_time": "2019-01-14T02:25:13.621324Z"
    }
   },
   "outputs": [],
   "source": [
    "from sklearn.model_selection import train_test_split\n"
   ]
  },
  {
   "cell_type": "code",
   "execution_count": 13,
   "metadata": {
    "ExecuteTime": {
     "end_time": "2019-01-14T02:25:14.191161Z",
     "start_time": "2019-01-14T02:25:14.182722Z"
    }
   },
   "outputs": [],
   "source": [
    "X_train, X_test, y_train, y_test = train_test_split(X, Y, test_size=0.33)"
   ]
  },
  {
   "cell_type": "markdown",
   "metadata": {},
   "source": [
    "## Hash Encoder"
   ]
  },
  {
   "cell_type": "code",
   "execution_count": 14,
   "metadata": {
    "ExecuteTime": {
     "end_time": "2019-01-14T02:25:14.258075Z",
     "start_time": "2019-01-14T02:25:14.193101Z"
    }
   },
   "outputs": [],
   "source": [
    "from sklearn.feature_extraction import FeatureHasher\n",
    "import copy\n",
    "X_train_hash = copy.copy(X_train)\n",
    "X_test_hash = copy.copy(X_test)\n",
    "for i in range(X_train_hash.shape[1]):\n",
    "    X_train_hash.iloc[:,i]=X_train_hash.iloc[:,i].astype('str')\n",
    "for i in range(X_test_hash.shape[1]):\n",
    "    X_test_hash.iloc[:,i]=X_test_hash.iloc[:,i].astype('str')\n",
    "h = FeatureHasher(n_features=100,input_type=\"string\")\n",
    "X_train_hash = h.transform(X_train_hash.values)\n",
    "X_test_hash = h.transform(X_test_hash.values)"
   ]
  },
  {
   "cell_type": "markdown",
   "metadata": {},
   "source": [
    "## Linear Regression"
   ]
  },
  {
   "cell_type": "code",
   "execution_count": 15,
   "metadata": {
    "ExecuteTime": {
     "end_time": "2019-01-14T02:25:14.340596Z",
     "start_time": "2019-01-14T02:25:14.260160Z"
    }
   },
   "outputs": [],
   "source": [
    "from sklearn.linear_model import LinearRegression"
   ]
  },
  {
   "cell_type": "code",
   "execution_count": 16,
   "metadata": {
    "ExecuteTime": {
     "end_time": "2019-01-14T02:25:14.374027Z",
     "start_time": "2019-01-14T02:25:14.342518Z"
    }
   },
   "outputs": [],
   "source": [
    "reg = LinearRegression().fit(X_train_hash, y_train)"
   ]
  },
  {
   "cell_type": "code",
   "execution_count": 17,
   "metadata": {
    "ExecuteTime": {
     "end_time": "2019-01-14T02:25:14.380380Z",
     "start_time": "2019-01-14T02:25:14.375824Z"
    }
   },
   "outputs": [],
   "source": [
    "y_pred_1 = reg.predict(X_test_hash)"
   ]
  },
  {
   "cell_type": "code",
   "execution_count": 18,
   "metadata": {
    "ExecuteTime": {
     "end_time": "2019-01-14T02:25:14.402224Z",
     "start_time": "2019-01-14T02:25:14.391918Z"
    }
   },
   "outputs": [
    {
     "data": {
      "text/plain": [
       "6262154224015.852"
      ]
     },
     "execution_count": 18,
     "metadata": {},
     "output_type": "execute_result"
    }
   ],
   "source": [
    "from sklearn.metrics import mean_squared_error\n",
    "mean_squared_error(y_test,y_pred_1)"
   ]
  },
  {
   "cell_type": "code",
   "execution_count": 19,
   "metadata": {
    "ExecuteTime": {
     "end_time": "2019-01-14T02:25:14.477355Z",
     "start_time": "2019-01-14T02:25:14.453226Z"
    }
   },
   "outputs": [
    {
     "data": {
      "text/plain": [
       "778.8452113755352"
      ]
     },
     "execution_count": 19,
     "metadata": {},
     "output_type": "execute_result"
    }
   ],
   "source": [
    "np.sqrt(mean_squared_error(y_test,y_pred_1)) / y_test.shape[0]"
   ]
  },
  {
   "cell_type": "markdown",
   "metadata": {},
   "source": [
    "## Random Forest Regressor"
   ]
  },
  {
   "cell_type": "code",
   "execution_count": 20,
   "metadata": {
    "ExecuteTime": {
     "end_time": "2019-01-14T02:25:14.536620Z",
     "start_time": "2019-01-14T02:25:14.480012Z"
    }
   },
   "outputs": [],
   "source": [
    "from sklearn.ensemble import RandomForestRegressor"
   ]
  },
  {
   "cell_type": "code",
   "execution_count": 21,
   "metadata": {
    "ExecuteTime": {
     "end_time": "2019-01-14T02:25:14.544580Z",
     "start_time": "2019-01-14T02:25:14.540181Z"
    }
   },
   "outputs": [],
   "source": [
    "regr = RandomForestRegressor(max_depth=2, random_state=0, n_estimators=100)"
   ]
  },
  {
   "cell_type": "code",
   "execution_count": 22,
   "metadata": {
    "ExecuteTime": {
     "end_time": "2019-01-14T02:25:14.987860Z",
     "start_time": "2019-01-14T02:25:14.548961Z"
    }
   },
   "outputs": [
    {
     "data": {
      "text/plain": [
       "RandomForestRegressor(bootstrap=True, criterion='mse', max_depth=2,\n",
       "           max_features='auto', max_leaf_nodes=None,\n",
       "           min_impurity_decrease=0.0, min_impurity_split=None,\n",
       "           min_samples_leaf=1, min_samples_split=2,\n",
       "           min_weight_fraction_leaf=0.0, n_estimators=100, n_jobs=None,\n",
       "           oob_score=False, random_state=0, verbose=0, warm_start=False)"
      ]
     },
     "execution_count": 22,
     "metadata": {},
     "output_type": "execute_result"
    }
   ],
   "source": [
    "regr.fit(X_train_hash, y_train)"
   ]
  },
  {
   "cell_type": "code",
   "execution_count": 23,
   "metadata": {
    "ExecuteTime": {
     "end_time": "2019-01-14T02:25:15.021224Z",
     "start_time": "2019-01-14T02:25:14.993769Z"
    }
   },
   "outputs": [],
   "source": [
    "y_pred_2 = regr.predict(X_test_hash)"
   ]
  },
  {
   "cell_type": "code",
   "execution_count": 24,
   "metadata": {
    "ExecuteTime": {
     "end_time": "2019-01-14T02:25:15.033577Z",
     "start_time": "2019-01-14T02:25:15.025455Z"
    }
   },
   "outputs": [
    {
     "data": {
      "text/plain": [
       "1904477.2443101832"
      ]
     },
     "execution_count": 24,
     "metadata": {},
     "output_type": "execute_result"
    }
   ],
   "source": [
    "np.sqrt(mean_squared_error(y_test,y_pred_2))"
   ]
  },
  {
   "cell_type": "code",
   "execution_count": 25,
   "metadata": {
    "ExecuteTime": {
     "end_time": "2019-01-14T02:25:15.055611Z",
     "start_time": "2019-01-14T02:25:15.038279Z"
    },
    "scrolled": true
   },
   "outputs": [
    {
     "data": {
      "text/plain": [
       "count    3.213000e+03\n",
       "mean     8.050849e+05\n",
       "std      3.904165e+06\n",
       "min      1.000000e+00\n",
       "25%      7.859000e+03\n",
       "50%      6.091600e+04\n",
       "75%      2.212450e+05\n",
       "max      3.131040e+07\n",
       "Name: time_to_close, dtype: float64"
      ]
     },
     "execution_count": 25,
     "metadata": {},
     "output_type": "execute_result"
    }
   ],
   "source": [
    "y_test.describe()"
   ]
  },
  {
   "cell_type": "code",
   "execution_count": 26,
   "metadata": {
    "ExecuteTime": {
     "end_time": "2019-01-14T02:25:15.876156Z",
     "start_time": "2019-01-14T02:25:15.059565Z"
    }
   },
   "outputs": [
    {
     "data": {
      "text/plain": [
       "(array([3.115e+03, 2.000e+00, 1.000e+00, 1.000e+00, 4.000e+00, 0.000e+00,\n",
       "        5.800e+01, 1.000e+01, 1.000e+00, 2.100e+01]),\n",
       " array([1.00000000e+00, 3.13104090e+06, 6.26208080e+06, 9.39312070e+06,\n",
       "        1.25241606e+07, 1.56552005e+07, 1.87862404e+07, 2.19172803e+07,\n",
       "        2.50483202e+07, 2.81793601e+07, 3.13104000e+07]),\n",
       " <a list of 10 Patch objects>)"
      ]
     },
     "execution_count": 26,
     "metadata": {},
     "output_type": "execute_result"
    }
   ],
   "source": [
    "import matplotlib.pyplot as plt\n",
    "plt.hist(y_test)"
   ]
  },
  {
   "cell_type": "code",
   "execution_count": 27,
   "metadata": {
    "ExecuteTime": {
     "end_time": "2019-01-14T02:25:15.918876Z",
     "start_time": "2019-01-14T02:25:15.885195Z"
    }
   },
   "outputs": [
    {
     "data": {
      "text/html": [
       "<div>\n",
       "<style scoped>\n",
       "    .dataframe tbody tr th:only-of-type {\n",
       "        vertical-align: middle;\n",
       "    }\n",
       "\n",
       "    .dataframe tbody tr th {\n",
       "        vertical-align: top;\n",
       "    }\n",
       "\n",
       "    .dataframe thead th {\n",
       "        text-align: right;\n",
       "    }\n",
       "</style>\n",
       "<table border=\"1\" class=\"dataframe\">\n",
       "  <thead>\n",
       "    <tr style=\"text-align: right;\">\n",
       "      <th></th>\n",
       "      <th>CaseID</th>\n",
       "      <th>Opened</th>\n",
       "      <th>Closed</th>\n",
       "      <th>Updated</th>\n",
       "      <th>Status</th>\n",
       "      <th>Status Notes</th>\n",
       "      <th>Responsible Agency</th>\n",
       "      <th>Category</th>\n",
       "      <th>Request Type</th>\n",
       "      <th>Request Details</th>\n",
       "      <th>Address</th>\n",
       "      <th>Supervisor District</th>\n",
       "      <th>Neighborhood</th>\n",
       "      <th>Police District</th>\n",
       "      <th>Latitude</th>\n",
       "      <th>Longitude</th>\n",
       "      <th>Point</th>\n",
       "      <th>Source</th>\n",
       "      <th>Media URL</th>\n",
       "      <th>time_to_close</th>\n",
       "    </tr>\n",
       "  </thead>\n",
       "  <tbody>\n",
       "  </tbody>\n",
       "</table>\n",
       "</div>"
      ],
      "text/plain": [
       "Empty DataFrame\n",
       "Columns: [CaseID, Opened, Closed, Updated, Status, Status Notes, Responsible Agency, Category, Request Type, Request Details, Address, Supervisor District, Neighborhood, Police District, Latitude, Longitude, Point, Source, Media URL, time_to_close]\n",
       "Index: []"
      ]
     },
     "execution_count": 27,
     "metadata": {},
     "output_type": "execute_result"
    }
   ],
   "source": [
    "data[data[\"time_to_close\"]>31536000]"
   ]
  },
  {
   "cell_type": "code",
   "execution_count": null,
   "metadata": {},
   "outputs": [],
   "source": []
  }
 ],
 "metadata": {
  "kernelspec": {
   "display_name": "Python 3",
   "language": "python",
   "name": "python3"
  },
  "language_info": {
   "codemirror_mode": {
    "name": "ipython",
    "version": 3
   },
   "file_extension": ".py",
   "mimetype": "text/x-python",
   "name": "python",
   "nbconvert_exporter": "python",
   "pygments_lexer": "ipython3",
   "version": "3.6.8"
  }
 },
 "nbformat": 4,
 "nbformat_minor": 2
}
